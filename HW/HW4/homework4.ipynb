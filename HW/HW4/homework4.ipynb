{
  "nbformat": 4,
  "nbformat_minor": 0,
  "metadata": {
    "kernelspec": {
      "name": "python3",
      "display_name": "Python 3"
    },
    "colab": {
      "name": "homework4.ipynb",
      "provenance": [],
      "include_colab_link": true
    },
    "language_info": {
      "name": "python"
    }
  },
  "cells": [
    {
      "cell_type": "markdown",
      "metadata": {
        "id": "view-in-github",
        "colab_type": "text"
      },
      "source": [
        "<a href=\"https://colab.research.google.com/github/yeb2Binfang/DS_GY_3001_CV/blob/main/HW/HW4/homework4.ipynb\" target=\"_parent\"><img src=\"https://colab.research.google.com/assets/colab-badge.svg\" alt=\"Open In Colab\"/></a>"
      ]
    },
    {
      "cell_type": "markdown",
      "metadata": {
        "id": "lxSbbsu-ILwt"
      },
      "source": [
        "## Homework 4: Neural Networks"
      ]
    },
    {
      "cell_type": "markdown",
      "metadata": {
        "id": "dAsZafSmILw0"
      },
      "source": [
        "**Due date:** May 2, 2021\n",
        "\n",
        "The goal of the assignment is to train a simple neural network on MNIST data.\n",
        "\n",
        "*Note:* This notebook requires Python 3.\n",
        "\n",
        "**Instructions:**\n",
        "\n",
        "* Read and understand the provided code, which is a basic implementation of a neural network as a modular architecture.\n",
        "* Download the [MNIST data](http://deeplearning.net/data/mnist/mnist.pkl.gz) (~15Mo). It consists of 28x28 images (loaded as a 784 vector) and the associated labels for training, validation and test sets. For this homework, you will only use the training and validation sets. \n",
        "* Write a simple loop to train 50 iterations of the implemented MLP (multi-layer perceptron) with a learning rate 0.001 and batches of size 16. Plot the training and validation losses throughout the training process (you don't have to test your network at every iteration, you can do it for example every 10 iterations).\n",
        "* Evaluate the accuracy of your trained model on the training and validation data. Check the predictions on random validation images.\n",
        "* Try changing learning rate and batch size and see if you can improve your results.\n",
        "* How many parameters does the network have? Implement and experiment with some variations of the architecture, for example:\n",
        "    * Implement and use the cross-entropy loss instead of L2 loss.\n",
        "    * Add a parameter to vary the size of the intermediate layer.\n",
        "    * Use a MLP with 3 layers and parameters for the sizes of the two intermediate layers.\n"
      ]
    },
    {
      "cell_type": "markdown",
      "metadata": {
        "id": "dUU83TWnILw1"
      },
      "source": [
        "## MLP implementation"
      ]
    },
    {
      "cell_type": "markdown",
      "metadata": {
        "id": "JpDfwN0CqSMh"
      },
      "source": [
        "### Import packages"
      ]
    },
    {
      "cell_type": "code",
      "metadata": {
        "id": "XgIaJtE1ITo_"
      },
      "source": [
        "import numpy as np \n",
        "import math\n",
        "import matplotlib.pyplot as plt \n",
        "%matplotlib inline \n",
        "plt.rcParams['image.cmap'] = 'gray' \n",
        "import gzip\n",
        "import pickle"
      ],
      "execution_count": 1,
      "outputs": []
    },
    {
      "cell_type": "markdown",
      "metadata": {
        "id": "7ycydqOgqXNb"
      },
      "source": [
        "### Module"
      ]
    },
    {
      "cell_type": "code",
      "metadata": {
        "id": "BveJTLEqqblb"
      },
      "source": [
        "class Module(object):\n",
        "    def __init__(self):\n",
        "        self.gradInput=None \n",
        "        self.output=None\n",
        "        \n",
        "    def forward(self, *input):\n",
        "        \"\"\"Defines the computation performed at every call.\n",
        "        Should be overriden by all subclasses.\n",
        "        \"\"\"\n",
        "        raise NotImplementedError\n",
        "        \n",
        "    def backward(self, *input):\n",
        "        \"\"\"Defines the computation performed at every call.\n",
        "        Should be overriden by all subclasses.\n",
        "        \"\"\"\n",
        "        raise NotImplementedError"
      ],
      "execution_count": 2,
      "outputs": []
    },
    {
      "cell_type": "markdown",
      "metadata": {
        "id": "1D4c68eHqkHV"
      },
      "source": [
        "### Linear"
      ]
    },
    {
      "cell_type": "code",
      "metadata": {
        "id": "n2XzZLxwqpfJ"
      },
      "source": [
        "class Linear(Module):\n",
        "    \"\"\"\n",
        "    The input is supposed to have two dimensions (batchSize,in_feature)\n",
        "    \"\"\"\n",
        "    def __init__(self, in_features, out_features, bias=True):\n",
        "        super(Linear, self).__init__()\n",
        "        self.in_features = in_features\n",
        "        self.out_features = out_features\n",
        "        self.weight = math.sqrt(1. / (out_features* in_features))*np.random.randn(out_features, in_features)\n",
        "        self.bias = np.zeros(out_features)\n",
        "        self.gradWeight=None\n",
        "        self.gradBias=None\n",
        "        \n",
        "    def forward(self, x):\n",
        "        self.output= np.dot(x,self.weight.transpose())+np.repeat(self.bias.reshape([1,-1]),x.shape[0], axis=0)\n",
        "        return self.output\n",
        "    \n",
        "    def backward(self, x, gradOutput):\n",
        "        self.gradInput=np.dot(gradOutput,self.weight)\n",
        "        self.gradWeight=np.dot(gradOutput.transpose(),x)\n",
        "        self.gradBias=np.sum(gradOutput, axis=0)\n",
        "        return self.gradInput\n",
        "    \n",
        "    def gradientStep(self,lr):\n",
        "        self.weight=self.weight-lr*self.gradWeight\n",
        "        self.bias=self.bias-lr*self.gradBias"
      ],
      "execution_count": 3,
      "outputs": []
    },
    {
      "cell_type": "markdown",
      "metadata": {
        "id": "_JDwCvzuqx8k"
      },
      "source": [
        "### ReLU"
      ]
    },
    {
      "cell_type": "code",
      "metadata": {
        "id": "jz6hOk57q0xE"
      },
      "source": [
        "class ReLU(Module):\n",
        "    \n",
        "    def __init__(self, bias=True):\n",
        "        super(ReLU, self).__init__()\n",
        "        \n",
        "    def forward(self, x):\n",
        "        self.output=x.clip(0)\n",
        "        return self.output\n",
        "    \n",
        "    def backward(self, x, gradOutput):\n",
        "        self.gradInput=(x>0)*gradOutput\n",
        "        return self.gradInput"
      ],
      "execution_count": 4,
      "outputs": []
    },
    {
      "cell_type": "markdown",
      "metadata": {
        "id": "7u3dBSEEqrHW"
      },
      "source": [
        "### Least Square Error\n"
      ]
    },
    {
      "cell_type": "code",
      "metadata": {
        "id": "Z8US9iumqvIK"
      },
      "source": [
        "class LeastSquareCriterion(Module):\n",
        "    \"\"\"\n",
        "    This implementation of the least square loss assumes that the data comes as a 2 dimensional array\n",
        "    of size (batch_size,num_classes) and the labels as a vector of size (num_classes) \n",
        "    \"\"\"\n",
        "    def __init__(self, num_classes=10):\n",
        "        super(LeastSquareCriterion, self).__init__()\n",
        "        self.num_classes=num_classes\n",
        "    \n",
        "    def forward(self, x,labels):\n",
        "        target=np.zeros([x.shape[0],self.num_classes])\n",
        "        for i in range(x.shape[0]):\n",
        "            target[i,labels[i]]=1\n",
        "        self.output = np.sum((target-x)**2,axis=0)\n",
        "        return np.sum(self.output)\n",
        "    \n",
        "    def backward(self, x, labels):\n",
        "        self.gradInput=x\n",
        "        for i in range(x.shape[0]):\n",
        "            self.gradInput[i,labels[i]]=x[i,labels[i]]-1\n",
        "        return self.gradInput"
      ],
      "execution_count": 5,
      "outputs": []
    },
    {
      "cell_type": "markdown",
      "metadata": {
        "id": "ojBZ-MX5q4Yh"
      },
      "source": [
        "### MLP "
      ]
    },
    {
      "cell_type": "code",
      "metadata": {
        "id": "WiUZmgibILw1"
      },
      "source": [
        "class MLP(Module):\n",
        "\n",
        "    def __init__(self, num_classes=10):\n",
        "        super(MLP, self).__init__()\n",
        "        self.fc1 = Linear(784, 64)\n",
        "        self.relu1 = ReLU()\n",
        "        self.fc2 = Linear(64, 10)\n",
        "    \n",
        "    def forward(self, x):\n",
        "        x = self.fc1.forward(x)\n",
        "        x = self.relu1.forward(x)\n",
        "        x = self.fc2.forward(x)\n",
        "        return x\n",
        "    \n",
        "    def backward(self, x, gradient):\n",
        "        gradient = self.fc2.backward(self.relu1.output,gradient)\n",
        "        gradient = self.relu1.backward(self.fc1.output,gradient)\n",
        "        gradient = self.fc1.backward(x,gradient)\n",
        "        return gradient\n",
        "    \n",
        "    def gradientStep(self,lr):\n",
        "        self.fc2.gradientStep(lr)\n",
        "        self.fc1.gradientStep(lr)\n",
        "        return True"
      ],
      "execution_count": 6,
      "outputs": []
    },
    {
      "cell_type": "markdown",
      "metadata": {
        "id": "rFZeLd-3ILw3"
      },
      "source": [
        "## Load and visualize the dataset"
      ]
    },
    {
      "cell_type": "code",
      "metadata": {
        "id": "pRR08ypYKeEa",
        "colab": {
          "base_uri": "https://localhost:8080/"
        },
        "outputId": "dccb9741-2c29-4633-ce15-f8ed17225fee"
      },
      "source": [
        "from google.colab import drive\n",
        "drive.mount('/content/MyDrive')"
      ],
      "execution_count": 7,
      "outputs": [
        {
          "output_type": "stream",
          "text": [
            "Mounted at /content/MyDrive\n"
          ],
          "name": "stdout"
        }
      ]
    },
    {
      "cell_type": "code",
      "metadata": {
        "id": "X4t_TkeHKIT2"
      },
      "source": [
        "with open('MyDrive/MyDrive/DS/mnist.pkl', 'rb') as f:\n",
        "  ((x_train, y_train), (x_valid, y_valid), (x_test, y_test)) = pickle.load(f, encoding='latin-1')"
      ],
      "execution_count": 8,
      "outputs": []
    },
    {
      "cell_type": "code",
      "metadata": {
        "id": "WdC-TGrpKr_7",
        "colab": {
          "base_uri": "https://localhost:8080/",
          "height": 282
        },
        "outputId": "6b2d6c4a-1960-456d-ff75-96ec706cde78"
      },
      "source": [
        "plt.imshow(x_train[0].reshape((28,28)))"
      ],
      "execution_count": 9,
      "outputs": [
        {
          "output_type": "execute_result",
          "data": {
            "text/plain": [
              "<matplotlib.image.AxesImage at 0x7fcfcb106d10>"
            ]
          },
          "metadata": {
            "tags": []
          },
          "execution_count": 9
        },
        {
          "output_type": "display_data",
          "data": {
            "image/png": "[encoded data removed]",
            "text/plain": [
              "<Figure size 432x288 with 1 Axes>"
            ]
          },
          "metadata": {
            "tags": [],
            "needs_background": "light"
          }
        }
      ]
    },
    {
      "cell_type": "code",
      "metadata": {
        "id": "cWAjCprcLCH0",
        "colab": {
          "base_uri": "https://localhost:8080/"
        },
        "outputId": "056fe00a-ea1e-4c73-f36d-baef80b6a908"
      },
      "source": [
        "print(y_train[0])"
      ],
      "execution_count": 10,
      "outputs": [
        {
          "output_type": "stream",
          "text": [
            "5\n"
          ],
          "name": "stdout"
        }
      ]
    },
    {
      "cell_type": "markdown",
      "metadata": {
        "id": "sRKL6R0trDV-"
      },
      "source": [
        "## Train MLP\n",
        "Write a simple loop to train 50 iterations of the implemented MLP (multi-layer perceptron) with a learning rate 0.001 and batches of size 16. Plot the training and validation losses throughout the training process (you don't have to test your network at every iteration, you can do it for example every 10 iterations)."
      ]
    },
    {
      "cell_type": "code",
      "metadata": {
        "id": "80Z_B0Q0AFWS",
        "colab": {
          "base_uri": "https://localhost:8080/"
        },
        "outputId": "53a4c916-2a0b-4dcb-d219-0b3457f01259"
      },
      "source": [
        "pip install tqdm"
      ],
      "execution_count": 11,
      "outputs": [
        {
          "output_type": "stream",
          "text": [
            "Requirement already satisfied: tqdm in /usr/local/lib/python3.7/dist-packages (4.41.1)\n"
          ],
          "name": "stdout"
        }
      ]
    },
    {
      "cell_type": "code",
      "metadata": {
        "id": "7QOA4vySAJle"
      },
      "source": [
        "from tqdm import tqdm"
      ],
      "execution_count": 12,
      "outputs": []
    },
    {
      "cell_type": "code",
      "metadata": {
        "id": "ckXlHD58rJAG",
        "colab": {
          "base_uri": "https://localhost:8080/"
        },
        "outputId": "2fb0c143-cd49-4e6d-835e-886b83e94cc0"
      },
      "source": [
        "Net = MLP()\n",
        "Error = LeastSquareCriterion()\n",
        "\n",
        "n_iter = 50\n",
        "lr = 0.001\n",
        "batch_size = 16\n",
        "\n",
        "train_errors = []\n",
        "val_errors = []\n",
        "for epoch in range(n_iter):\n",
        "  #print(str(epoch) + \" epoch\")\n",
        "  if (epoch%10 == 0):\n",
        "    #write your code here\n",
        "    val_forward = Net.forward(x_valid)\n",
        "    val_loss = Error.forward(val_forward, y_valid)\n",
        "    val_errors.append(val_loss)\n",
        "\n",
        "    train_forward = Net.forward(x_train)\n",
        "    train_loss = Error.forward(train_forward, y_train)\n",
        "    train_errors.append(train_loss)\n",
        "\n",
        "  for i in tqdm(range(0,len(x_train),batch_size)):\n",
        "    #write your code here\n",
        "    if i==0:\n",
        "      continue\n",
        "    index = np.arange(i-batch_size,i)\n",
        "    x_forward = Net.forward(x_train[index])\n",
        "    grad_loss = Error.backward(x_forward, y_train[index])\n",
        "    Net.backward(x_train[index], grad_loss)\n",
        "    Net.gradientStep(lr)\n"
      ],
      "execution_count": 13,
      "outputs": [
        {
          "output_type": "stream",
          "text": [
            "100%|██████████| 3125/3125 [00:04<00:00, 650.13it/s]\n",
            "100%|██████████| 3125/3125 [00:04<00:00, 647.05it/s]\n",
            "100%|██████████| 3125/3125 [00:04<00:00, 646.78it/s]\n",
            "100%|██████████| 3125/3125 [00:04<00:00, 656.78it/s]\n",
            "100%|██████████| 3125/3125 [00:04<00:00, 660.46it/s]\n",
            "100%|██████████| 3125/3125 [00:04<00:00, 663.37it/s]\n",
            "100%|██████████| 3125/3125 [00:04<00:00, 650.24it/s]\n",
            "100%|██████████| 3125/3125 [00:04<00:00, 657.81it/s]\n",
            "100%|██████████| 3125/3125 [00:04<00:00, 640.92it/s]\n",
            "100%|██████████| 3125/3125 [00:04<00:00, 642.46it/s]\n",
            "100%|██████████| 3125/3125 [00:04<00:00, 751.82it/s]\n",
            "100%|██████████| 3125/3125 [00:04<00:00, 739.55it/s]\n",
            "100%|██████████| 3125/3125 [00:04<00:00, 749.25it/s]\n",
            "100%|██████████| 3125/3125 [00:04<00:00, 769.19it/s]\n",
            "100%|██████████| 3125/3125 [00:04<00:00, 754.84it/s]\n",
            "100%|██████████| 3125/3125 [00:04<00:00, 770.12it/s]\n",
            "100%|██████████| 3125/3125 [00:04<00:00, 708.07it/s]\n",
            "100%|██████████| 3125/3125 [00:04<00:00, 733.19it/s]\n",
            "100%|██████████| 3125/3125 [00:04<00:00, 746.33it/s]\n",
            "100%|██████████| 3125/3125 [00:04<00:00, 731.43it/s]\n",
            "100%|██████████| 3125/3125 [00:04<00:00, 703.18it/s]\n",
            "100%|██████████| 3125/3125 [00:04<00:00, 711.64it/s]\n",
            "100%|██████████| 3125/3125 [00:04<00:00, 769.18it/s]\n",
            "100%|██████████| 3125/3125 [00:04<00:00, 734.11it/s]\n",
            "100%|██████████| 3125/3125 [00:04<00:00, 724.99it/s]\n",
            "100%|██████████| 3125/3125 [00:04<00:00, 714.89it/s]\n",
            "100%|██████████| 3125/3125 [00:04<00:00, 702.29it/s]\n",
            "100%|██████████| 3125/3125 [00:04<00:00, 688.17it/s]\n",
            "100%|██████████| 3125/3125 [00:04<00:00, 707.56it/s]\n",
            "100%|██████████| 3125/3125 [00:04<00:00, 687.41it/s]\n",
            "100%|██████████| 3125/3125 [00:04<00:00, 763.16it/s]\n",
            "100%|██████████| 3125/3125 [00:04<00:00, 748.15it/s]\n",
            "100%|██████████| 3125/3125 [00:04<00:00, 781.07it/s]\n",
            "100%|██████████| 3125/3125 [00:03<00:00, 787.11it/s]\n",
            "100%|██████████| 3125/3125 [00:03<00:00, 785.66it/s]\n",
            "100%|██████████| 3125/3125 [00:03<00:00, 798.79it/s]\n",
            "100%|██████████| 3125/3125 [00:04<00:00, 773.78it/s]\n",
            "100%|██████████| 3125/3125 [00:04<00:00, 743.17it/s]\n",
            "100%|██████████| 3125/3125 [00:03<00:00, 788.26it/s]\n",
            "100%|██████████| 3125/3125 [00:04<00:00, 773.64it/s]\n",
            "100%|██████████| 3125/3125 [00:04<00:00, 734.40it/s]\n",
            "100%|██████████| 3125/3125 [00:04<00:00, 729.61it/s]\n",
            "100%|██████████| 3125/3125 [00:04<00:00, 731.17it/s]\n",
            "100%|██████████| 3125/3125 [00:04<00:00, 725.97it/s]\n",
            "100%|██████████| 3125/3125 [00:04<00:00, 734.23it/s]\n",
            "100%|██████████| 3125/3125 [00:04<00:00, 747.82it/s]\n",
            "100%|██████████| 3125/3125 [00:04<00:00, 725.81it/s]\n",
            "100%|██████████| 3125/3125 [00:04<00:00, 746.09it/s]\n",
            "100%|██████████| 3125/3125 [00:04<00:00, 736.64it/s]\n",
            "100%|██████████| 3125/3125 [00:04<00:00, 745.90it/s]\n"
          ],
          "name": "stderr"
        }
      ]
    },
    {
      "cell_type": "code",
      "metadata": {
        "id": "pFPF55nTCfH1",
        "colab": {
          "base_uri": "https://localhost:8080/"
        },
        "outputId": "95132700-b035-4a52-f4d4-b04b2a92aa01"
      },
      "source": [
        "print(train_errors)"
      ],
      "execution_count": 14,
      "outputs": [
        {
          "output_type": "stream",
          "text": [
            "[49977.27684044438, 5942.161281357754, 5052.186110043488, 4663.705080105776, 4427.582735082379]\n"
          ],
          "name": "stdout"
        }
      ]
    },
    {
      "cell_type": "code",
      "metadata": {
        "id": "VbP4c0SfCSz7",
        "colab": {
          "base_uri": "https://localhost:8080/",
          "height": 282
        },
        "outputId": "bf206366-d949-4fd5-e8ed-d0b4452bdee6"
      },
      "source": [
        "train_loss = np.array(train_errors)/len(x_train)\n",
        "val_loss = np.array(val_errors)/len(x_valid)\n",
        "plt.plot(train_loss)\n",
        "plt.plot(val_loss)\n",
        "plt.legend([\"train_error\",\"val_error\"])"
      ],
      "execution_count": 15,
      "outputs": [
        {
          "output_type": "execute_result",
          "data": {
            "text/plain": [
              "<matplotlib.legend.Legend at 0x7fcfbbe5e510>"
            ]
          },
          "metadata": {
            "tags": []
          },
          "execution_count": 15
        },
        {
          "output_type": "display_data",
          "data": {
            "image/png": "[encoded data removed]",
            "text/plain": [
              "<Figure size 432x288 with 1 Axes>"
            ]
          },
          "metadata": {
            "tags": [],
            "needs_background": "light"
          }
        }
      ]
    },
    {
      "cell_type": "markdown",
      "metadata": {
        "id": "OeZgY7AUrR20"
      },
      "source": [
        "## Evaluate the model accuracy\n",
        "Evaluate the accuracy of your trained model on the training and validation data. Check the predictions on random validation images."
      ]
    },
    {
      "cell_type": "code",
      "metadata": {
        "id": "a3TXUFzsrcFr",
        "colab": {
          "base_uri": "https://localhost:8080/"
        },
        "outputId": "32b5bfa9-b2a8-4533-80fa-3f6584725ea8"
      },
      "source": [
        "val_predictions = Net.forward(x_valid)\n",
        "train_predictions = Net.forward(x_train)\n",
        "\n",
        "print(\"Average train error:\")\n",
        "print(Error.forward(train_predictions,y_train)/len(x_train))\n",
        "\n",
        "print(\"Average validation error:\")\n",
        "print(Error.forward(val_predictions,y_valid)/len(x_valid))"
      ],
      "execution_count": 16,
      "outputs": [
        {
          "output_type": "stream",
          "text": [
            "Average train error:\n",
            "0.08471623657043266\n",
            "Average validation error:\n",
            "0.09612845559251386\n"
          ],
          "name": "stdout"
        }
      ]
    },
    {
      "cell_type": "markdown",
      "metadata": {
        "id": "HEFNvSPH5DRA"
      },
      "source": [
        "Test the accuracy"
      ]
    },
    {
      "cell_type": "code",
      "metadata": {
        "id": "002u0TsC4IOT",
        "outputId": "e19e5051-e7b3-469f-99aa-ef5372abc4e5",
        "colab": {
          "base_uri": "https://localhost:8080/"
        }
      },
      "source": [
        "count = 0\n",
        "for i in range(len(val_predictions)):\n",
        "  if(np.argmax(val_predictions[i])==y_valid[i]):\n",
        "    count+=1\n",
        "print(\"The validation set acc for lease square error MLP is: \"+ str(count/len(x_valid)))"
      ],
      "execution_count": 26,
      "outputs": [
        {
          "output_type": "stream",
          "text": [
            "The validation set acc for lease square error MLP is: 0.9701\n"
          ],
          "name": "stdout"
        }
      ]
    },
    {
      "cell_type": "code",
      "metadata": {
        "id": "-gRPG_X13it0",
        "colab": {
          "base_uri": "https://localhost:8080/",
          "height": 298
        },
        "outputId": "6484fb1d-babf-4833-d4bf-0997ca5547b6"
      },
      "source": [
        "m = np.random.randint(len(x_valid))\n",
        "plt.imshow(x_valid[m,:].reshape(28,28))\n",
        "print(\"true label: \"+str(y_valid[m]))\n",
        "prediction = Net.forward(x_valid[m,:].reshape([1,-1]))\n",
        "print(\"predict label: \"+ str(prediction.argmax()))"
      ],
      "execution_count": null,
      "outputs": [
        {
          "output_type": "stream",
          "text": [
            "true label: 1\n",
            "predict label: 1\n"
          ],
          "name": "stdout"
        },
        {
          "output_type": "display_data",
          "data": {
            "image/png": "[encoded data removed]",
            "text/plain": [
              "<Figure size 432x288 with 1 Axes>"
            ]
          },
          "metadata": {
            "tags": [],
            "needs_background": "light"
          }
        }
      ]
    },
    {
      "cell_type": "markdown",
      "metadata": {
        "id": "PUUaJIo1rcgX"
      },
      "source": [
        "## Try to imporve\n",
        "Try changing learning rate and batch size and see if you can improve your results.\n",
        "Here, I changed learning rate to 0.0001 and changed the batch-size to 8. "
      ]
    },
    {
      "cell_type": "code",
      "metadata": {
        "id": "xAAclVGBrhyl",
        "colab": {
          "base_uri": "https://localhost:8080/"
        },
        "outputId": "9d338b23-25f9-477a-e1b7-f2965fa44072"
      },
      "source": [
        "Net1 = MLP()\n",
        "Error1 = LeastSquareCriterion()\n",
        "\n",
        "n_iter = 50\n",
        "lr1 = 0.0001\n",
        "batch_size1 = 8\n",
        "\n",
        "train_errors1 = []\n",
        "val_errors1 = []\n",
        "for epoch in range(n_iter):\n",
        "  #print(str(epoch) + \" epoch\")\n",
        "  if (epoch%10 == 0):\n",
        "    #write your code here\n",
        "    val_forward = Net1.forward(x_valid)\n",
        "    val_loss = Error1.forward(val_forward, y_valid)\n",
        "    val_errors1.append(val_loss)\n",
        "\n",
        "    train_forward = Net1.forward(x_train)\n",
        "    train_loss = Error1.forward(train_forward, y_train)\n",
        "    train_errors1.append(train_loss)\n",
        "\n",
        "  for i in tqdm(range(0,len(x_train),batch_size1)):\n",
        "    #write your code here\n",
        "    if i==0:\n",
        "      continue\n",
        "    index = np.arange(i-batch_size1,i)\n",
        "    x_forward = Net1.forward(x_train[index])\n",
        "    grad_loss = Error1.backward(x_forward, y_train[index])\n",
        "    Net1.backward(x_train[index], grad_loss)\n",
        "    Net1.gradientStep(lr1)"
      ],
      "execution_count": null,
      "outputs": [
        {
          "output_type": "stream",
          "text": [
            "100%|██████████| 6250/6250 [00:06<00:00, 930.01it/s]\n",
            "100%|██████████| 6250/6250 [00:06<00:00, 932.08it/s]\n",
            "100%|██████████| 6250/6250 [00:06<00:00, 917.65it/s]\n",
            "100%|██████████| 6250/6250 [00:06<00:00, 939.55it/s]\n",
            "100%|██████████| 6250/6250 [00:06<00:00, 914.24it/s]\n",
            "100%|██████████| 6250/6250 [00:06<00:00, 912.30it/s]\n",
            "100%|██████████| 6250/6250 [00:06<00:00, 911.58it/s]\n",
            "100%|██████████| 6250/6250 [00:06<00:00, 928.68it/s]\n",
            "100%|██████████| 6250/6250 [00:06<00:00, 921.22it/s]\n",
            "100%|██████████| 6250/6250 [00:06<00:00, 923.18it/s]\n",
            "100%|██████████| 6250/6250 [00:06<00:00, 926.65it/s]\n",
            "100%|██████████| 6250/6250 [00:06<00:00, 920.43it/s]\n",
            "100%|██████████| 6250/6250 [00:06<00:00, 918.54it/s]\n",
            "100%|██████████| 6250/6250 [00:06<00:00, 926.88it/s]\n",
            "100%|██████████| 6250/6250 [00:06<00:00, 898.01it/s]\n",
            "100%|██████████| 6250/6250 [00:06<00:00, 919.93it/s]\n",
            "100%|██████████| 6250/6250 [00:06<00:00, 912.09it/s]\n",
            "100%|██████████| 6250/6250 [00:06<00:00, 925.70it/s]\n",
            "100%|██████████| 6250/6250 [00:06<00:00, 915.53it/s]\n",
            "100%|██████████| 6250/6250 [00:06<00:00, 905.68it/s]\n",
            "100%|██████████| 6250/6250 [00:07<00:00, 888.79it/s]\n",
            "100%|██████████| 6250/6250 [00:07<00:00, 890.02it/s]\n",
            "100%|██████████| 6250/6250 [00:07<00:00, 884.19it/s]\n",
            "100%|██████████| 6250/6250 [00:06<00:00, 900.31it/s]\n",
            "100%|██████████| 6250/6250 [00:07<00:00, 887.32it/s]\n",
            "100%|██████████| 6250/6250 [00:06<00:00, 899.00it/s]\n",
            "100%|██████████| 6250/6250 [00:06<00:00, 896.55it/s]\n",
            "100%|██████████| 6250/6250 [00:07<00:00, 880.51it/s]\n",
            "100%|██████████| 6250/6250 [00:07<00:00, 883.78it/s]\n",
            "100%|██████████| 6250/6250 [00:06<00:00, 900.99it/s]\n",
            "100%|██████████| 6250/6250 [00:07<00:00, 882.18it/s]\n",
            "100%|██████████| 6250/6250 [00:06<00:00, 902.56it/s]\n",
            "100%|██████████| 6250/6250 [00:06<00:00, 901.47it/s]\n",
            "100%|██████████| 6250/6250 [00:06<00:00, 911.83it/s]\n",
            "100%|██████████| 6250/6250 [00:06<00:00, 916.87it/s]\n",
            "100%|██████████| 6250/6250 [00:06<00:00, 900.86it/s]\n",
            "100%|██████████| 6250/6250 [00:06<00:00, 896.97it/s]\n",
            "100%|██████████| 6250/6250 [00:07<00:00, 873.40it/s]\n",
            "100%|██████████| 6250/6250 [00:07<00:00, 848.45it/s]\n",
            "100%|██████████| 6250/6250 [00:07<00:00, 879.41it/s]\n",
            "100%|██████████| 6250/6250 [00:07<00:00, 838.64it/s]\n",
            "100%|██████████| 6250/6250 [00:07<00:00, 866.62it/s]\n",
            "100%|██████████| 6250/6250 [00:07<00:00, 887.21it/s]\n",
            "100%|██████████| 6250/6250 [00:07<00:00, 866.21it/s]\n",
            "100%|██████████| 6250/6250 [00:07<00:00, 845.95it/s]\n",
            "100%|██████████| 6250/6250 [00:07<00:00, 878.07it/s]\n",
            "100%|██████████| 6250/6250 [00:07<00:00, 850.12it/s]\n",
            "100%|██████████| 6250/6250 [00:07<00:00, 877.42it/s]\n",
            "100%|██████████| 6250/6250 [00:07<00:00, 831.98it/s]\n",
            "100%|██████████| 6250/6250 [00:07<00:00, 867.99it/s]\n"
          ],
          "name": "stderr"
        }
      ]
    },
    {
      "cell_type": "markdown",
      "metadata": {
        "id": "vOoDZL9xKcIU"
      },
      "source": [
        "The result is not as good as above. So, I think when the learning rate=0.001 and the batch-szie = 16 is good enough"
      ]
    },
    {
      "cell_type": "code",
      "metadata": {
        "id": "vpaY6THzIbpl",
        "colab": {
          "base_uri": "https://localhost:8080/"
        },
        "outputId": "7c0f69e9-f3da-4734-b2f5-fd4a57293ec3"
      },
      "source": [
        "val_predictions1 = Net1.forward(x_valid)\n",
        "train_predictions1 = Net1.forward(x_train)\n",
        "\n",
        "print(\"Average train error:\")\n",
        "print(Error1.forward(train_predictions1,y_train)/len(x_train))\n",
        "\n",
        "print(\"Average validation error:\")\n",
        "print(Error1.forward(val_predictions1,y_valid)/len(x_valid))"
      ],
      "execution_count": null,
      "outputs": [
        {
          "output_type": "stream",
          "text": [
            "Average train error:\n",
            "0.13734056088156757\n",
            "Average validation error:\n",
            "0.13169956061025528\n"
          ],
          "name": "stdout"
        }
      ]
    },
    {
      "cell_type": "markdown",
      "metadata": {
        "id": "RSLoeqJTri0w"
      },
      "source": [
        "## Try different things\n",
        "How many parameters does the network have?\n",
        "\n",
        "From the above network architecture (784->64->10), we can calculate the number of parameters: 784 x 64 + 64 + 64 x 10 + 10\n",
        "\n"
      ]
    },
    {
      "cell_type": "markdown",
      "metadata": {
        "id": "Xuxcfysnrr5V"
      },
      "source": [
        "### Implement and use the cross-entropy loss instead of L2 loss."
      ]
    },
    {
      "cell_type": "code",
      "metadata": {
        "id": "lJisNG4KroED"
      },
      "source": [
        "class CrossEntropyCriterion(Module):\n",
        "    \"\"\"\n",
        "    This implementation of the cross entropy loss assumes that the data comes as a 2 dimensional array\n",
        "    of size (batch_size,num_classes) and the labels as a vector of size (num_classes) \n",
        "    \"\"\"\n",
        "    def __init__(self, num_classes=10):\n",
        "        super(CrossEntropyCriterion, self).__init__()\n",
        "        self.num_classes=num_classes\n",
        "\n",
        "    def sigmoid(x):\n",
        "      return 1/(1+np.exp(-x))\n",
        "    sigmoid = np.vectorize(sigmoid)\n",
        "    def forward(self, x,labels):\n",
        "        target=np.zeros([x.shape[0],self.num_classes])\n",
        "        for i in range(x.shape[0]):\n",
        "            target[i,labels[i]]=1\n",
        "        self.output = np.sum(target * np.log(self.sigmoid(x)) + (1-target)*np.log(1-self.sigmoid(x)),axis=0)\n",
        "        return np.sum(self.output)\n",
        "    \n",
        "    def backward(self, x, labels):\n",
        "        target=np.zeros([x.shape[0],self.num_classes])\n",
        "        for i in range(x.shape[0]):\n",
        "            target[i,labels[i]]=1\n",
        "        self.gradInput = self.sigmoid(x)-target\n",
        "        return self.gradInput"
      ],
      "execution_count": 27,
      "outputs": []
    },
    {
      "cell_type": "code",
      "metadata": {
        "id": "w00GPEKEWmtv",
        "colab": {
          "base_uri": "https://localhost:8080/"
        },
        "outputId": "e88bd02c-f12a-42ca-aaa9-c64db1a2a61c"
      },
      "source": [
        "Net_cross_entropy = MLP()\n",
        "Cross_Entropy_Error = CrossEntropyCriterion()\n",
        "\n",
        "n_iter = 50\n",
        "lr = 0.001\n",
        "batch_size = 16\n",
        "\n",
        "cross_train_errors = []\n",
        "cross_val_errors = []\n",
        "for epoch in range(n_iter):\n",
        "  #print(str(epoch) + \" epoch\")\n",
        "  if (epoch%10 == 0):\n",
        "    #write your code here\n",
        "    val_forward = Net_cross_entropy.forward(x_valid)\n",
        "    val_loss = Cross_Entropy_Error.forward(val_forward, y_valid)\n",
        "    cross_val_errors.append(val_loss)\n",
        "\n",
        "    train_forward = Net_cross_entropy.forward(x_train)\n",
        "    train_loss = Cross_Entropy_Error.forward(train_forward, y_train)\n",
        "    cross_train_errors.append(train_loss)\n",
        "\n",
        "  for i in tqdm(range(0,len(x_train),batch_size)):\n",
        "    #write your code here\n",
        "    if i==0:\n",
        "      continue\n",
        "    index = np.arange(i-batch_size,i)\n",
        "    x_forward = Net_cross_entropy.forward(x_train[index])\n",
        "    grad_loss = Cross_Entropy_Error.backward(x_forward, y_train[index])\n",
        "    Net_cross_entropy.backward(x_train[index], grad_loss)\n",
        "    Net_cross_entropy.gradientStep(lr)"
      ],
      "execution_count": 28,
      "outputs": [
        {
          "output_type": "stream",
          "text": [
            "100%|██████████| 3125/3125 [00:06<00:00, 501.28it/s]\n",
            "100%|██████████| 3125/3125 [00:06<00:00, 506.01it/s]\n",
            "100%|██████████| 3125/3125 [00:06<00:00, 485.92it/s]\n",
            "100%|██████████| 3125/3125 [00:06<00:00, 498.43it/s]\n",
            "100%|██████████| 3125/3125 [00:06<00:00, 496.92it/s]\n",
            "100%|██████████| 3125/3125 [00:06<00:00, 489.77it/s]\n",
            "100%|██████████| 3125/3125 [00:06<00:00, 475.39it/s]\n",
            "100%|██████████| 3125/3125 [00:06<00:00, 478.19it/s]\n",
            "100%|██████████| 3125/3125 [00:06<00:00, 486.31it/s]\n",
            "100%|██████████| 3125/3125 [00:06<00:00, 498.55it/s]\n",
            "100%|██████████| 3125/3125 [00:06<00:00, 488.17it/s]\n",
            "100%|██████████| 3125/3125 [00:06<00:00, 469.91it/s]\n",
            "100%|██████████| 3125/3125 [00:06<00:00, 487.32it/s]\n",
            "100%|██████████| 3125/3125 [00:06<00:00, 480.46it/s]\n",
            "100%|██████████| 3125/3125 [00:06<00:00, 475.15it/s]\n",
            "100%|██████████| 3125/3125 [00:06<00:00, 485.27it/s]\n",
            "100%|██████████| 3125/3125 [00:06<00:00, 495.11it/s]\n",
            "100%|██████████| 3125/3125 [00:06<00:00, 485.70it/s]\n",
            "100%|██████████| 3125/3125 [00:06<00:00, 486.29it/s]\n",
            "100%|██████████| 3125/3125 [00:06<00:00, 491.21it/s]\n",
            "100%|██████████| 3125/3125 [00:06<00:00, 482.68it/s]\n",
            "100%|██████████| 3125/3125 [00:06<00:00, 473.83it/s]\n",
            "100%|██████████| 3125/3125 [00:06<00:00, 485.86it/s]\n",
            "100%|██████████| 3125/3125 [00:06<00:00, 487.08it/s]\n",
            "100%|██████████| 3125/3125 [00:06<00:00, 486.57it/s]\n",
            "100%|██████████| 3125/3125 [00:06<00:00, 486.57it/s]\n",
            "100%|██████████| 3125/3125 [00:06<00:00, 480.56it/s]\n",
            "100%|██████████| 3125/3125 [00:06<00:00, 477.68it/s]\n",
            "100%|██████████| 3125/3125 [00:06<00:00, 466.87it/s]\n",
            "100%|██████████| 3125/3125 [00:06<00:00, 475.95it/s]\n",
            "100%|██████████| 3125/3125 [00:06<00:00, 476.19it/s]\n",
            "100%|██████████| 3125/3125 [00:06<00:00, 460.76it/s]\n",
            "100%|██████████| 3125/3125 [00:06<00:00, 484.49it/s]\n",
            "100%|██████████| 3125/3125 [00:06<00:00, 481.41it/s]\n",
            "100%|██████████| 3125/3125 [00:06<00:00, 493.09it/s]\n",
            "100%|██████████| 3125/3125 [00:06<00:00, 483.05it/s]\n",
            "100%|██████████| 3125/3125 [00:06<00:00, 477.30it/s]\n",
            "100%|██████████| 3125/3125 [00:06<00:00, 467.04it/s]\n",
            "100%|██████████| 3125/3125 [00:06<00:00, 479.92it/s]\n",
            "100%|██████████| 3125/3125 [00:06<00:00, 486.07it/s]\n",
            "100%|██████████| 3125/3125 [00:06<00:00, 482.90it/s]\n",
            "100%|██████████| 3125/3125 [00:06<00:00, 476.23it/s]\n",
            "100%|██████████| 3125/3125 [00:06<00:00, 479.87it/s]\n",
            "100%|██████████| 3125/3125 [00:06<00:00, 489.70it/s]\n",
            "100%|██████████| 3125/3125 [00:06<00:00, 484.52it/s]\n",
            "100%|██████████| 3125/3125 [00:06<00:00, 463.68it/s]\n",
            "100%|██████████| 3125/3125 [00:06<00:00, 450.29it/s]\n",
            "100%|██████████| 3125/3125 [00:06<00:00, 476.18it/s]\n",
            "100%|██████████| 3125/3125 [00:06<00:00, 475.39it/s]\n",
            "100%|██████████| 3125/3125 [00:06<00:00, 475.98it/s]\n"
          ],
          "name": "stderr"
        }
      ]
    },
    {
      "cell_type": "code",
      "metadata": {
        "id": "1f37BenQbGtU",
        "colab": {
          "base_uri": "https://localhost:8080/",
          "height": 282
        },
        "outputId": "2b3ad233-6e58-4737-c084-e0bee5a02e0f"
      },
      "source": [
        "cross_train_errors = np.array(cross_train_errors)/len(x_train)\n",
        "cross_val_errors = np.array(cross_val_errors)/len(x_valid)\n",
        "plt.plot(cross_train_errors)\n",
        "plt.plot(cross_val_errors)\n",
        "plt.legend([\"train_error\",\"val_error\"])"
      ],
      "execution_count": 29,
      "outputs": [
        {
          "output_type": "execute_result",
          "data": {
            "text/plain": [
              "<matplotlib.legend.Legend at 0x7fcfb7b67cd0>"
            ]
          },
          "metadata": {
            "tags": []
          },
          "execution_count": 29
        },
        {
          "output_type": "display_data",
          "data": {
            "image/png": "[encoded data removed]",
            "text/plain": [
              "<Figure size 432x288 with 1 Axes>"
            ]
          },
          "metadata": {
            "tags": [],
            "needs_background": "light"
          }
        }
      ]
    },
    {
      "cell_type": "markdown",
      "metadata": {
        "id": "O5wj8OA8gwqq"
      },
      "source": [
        "We can see that the error is very close to 0"
      ]
    },
    {
      "cell_type": "code",
      "metadata": {
        "id": "e9QqZPvMgZiZ",
        "colab": {
          "base_uri": "https://localhost:8080/"
        },
        "outputId": "7f1c670f-78af-4136-eeac-30c3f6402062"
      },
      "source": [
        "val_predictions_cross = Net_cross_entropy.forward(x_valid)\n",
        "train_predictions_cross = Net_cross_entropy.forward(x_train)\n",
        "\n",
        "print(\"Average train error:\")\n",
        "print(Cross_Entropy_Error.forward(train_predictions_cross,y_train)/len(x_train))\n",
        "\n",
        "print(\"Average validation error:\")\n",
        "print(Cross_Entropy_Error.forward(val_predictions_cross,y_valid)/len(x_valid))"
      ],
      "execution_count": 30,
      "outputs": [
        {
          "output_type": "stream",
          "text": [
            "Average train error:\n",
            "-0.07555155400015091\n",
            "Average validation error:\n",
            "-0.21413067726164003\n"
          ],
          "name": "stdout"
        }
      ]
    },
    {
      "cell_type": "markdown",
      "metadata": {
        "id": "d83YImDL67gS"
      },
      "source": [
        "Test the accuracy"
      ]
    },
    {
      "cell_type": "code",
      "metadata": {
        "id": "s2NJ4duu5Uey",
        "outputId": "b48e4cfb-c00d-4d69-f008-aa54e2185579",
        "colab": {
          "base_uri": "https://localhost:8080/"
        }
      },
      "source": [
        "count_cross = 0\n",
        "for i in range(len(val_predictions_cross)):\n",
        "  if(np.argmax(val_predictions_cross[i])==y_valid[i]):\n",
        "    count_cross+=1\n",
        "print(\"The validation set acc for cross entropy error MLP is: \"+ str(count_cross/len(x_valid)))"
      ],
      "execution_count": 31,
      "outputs": [
        {
          "output_type": "stream",
          "text": [
            "The validation set acc for cross entropy error MLP is: 0.9731\n"
          ],
          "name": "stdout"
        }
      ]
    },
    {
      "cell_type": "markdown",
      "metadata": {
        "id": "zZb_5Pzpr8WT"
      },
      "source": [
        "### 3 layers MLP\n",
        "Add a parameter to vary the size of the intermediate layer. Use a MLP with 3 layers and parameters for the sizes of the two intermediate layers."
      ]
    },
    {
      "cell_type": "code",
      "metadata": {
        "id": "nJWE3-aur_cy"
      },
      "source": [
        "class three_layer_MLP(Module):\n",
        "\n",
        "    def __init__(self, num_classes=10, intermediate_layer_size = (64, 64)):\n",
        "        super(three_layer_MLP, self).__init__()\n",
        "        hidden_layer1, hidden_layer2 = intermediate_layer_size\n",
        "        self.fc1 = Linear(784, hidden_layer1)\n",
        "        self.relu1 = ReLU()\n",
        "        self.fc2 = Linear(hidden_layer1, hidden_layer2)\n",
        "        self.fc3 = Linear(hidden_layer2, 10)\n",
        "    \n",
        "    def forward(self, x):\n",
        "        x = self.fc1.forward(x)\n",
        "        x = self.relu1.forward(x)\n",
        "        x = self.fc2.forward(x)\n",
        "        x = self.fc3.forward(x)\n",
        "        return x\n",
        "    \n",
        "    def backward(self, x, gradient):\n",
        "        gradient = self.fc3.backward(self.fc2.output,gradient)\n",
        "        gradient = self.fc2.backward(self.relu1.output,gradient)\n",
        "        gradient = self.relu1.backward(self.fc1.output,gradient)\n",
        "        gradient = self.fc1.backward(x,gradient)\n",
        "        return gradient\n",
        "    \n",
        "    def gradientStep(self,lr):\n",
        "        self.fc3.gradientStep(lr)\n",
        "        self.fc2.gradientStep(lr)\n",
        "        self.fc1.gradientStep(lr)\n",
        "        return True"
      ],
      "execution_count": 32,
      "outputs": []
    },
    {
      "cell_type": "code",
      "metadata": {
        "id": "yCjECuyPgOYV",
        "colab": {
          "base_uri": "https://localhost:8080/"
        },
        "outputId": "144f052b-81bd-4a9a-a096-1cf72e4b573c"
      },
      "source": [
        "three_layer_Net = three_layer_MLP()\n",
        "three_layer_Error = LeastSquareCriterion()\n",
        "\n",
        "n_iter = 50\n",
        "lr = 0.001\n",
        "batch_size = 16\n",
        "\n",
        "three_layer_train_errors = []\n",
        "three_layer_val_errors = []\n",
        "for epoch in range(n_iter):\n",
        "  #print(str(epoch) + \" epoch\")\n",
        "  if (epoch%10 == 0):\n",
        "    #write your code here\n",
        "    val_forward = three_layer_Net.forward(x_valid)\n",
        "    val_loss = three_layer_Error.forward(val_forward, y_valid)\n",
        "    three_layer_val_errors.append(val_loss)\n",
        "\n",
        "    train_forward = three_layer_Net.forward(x_train)\n",
        "    train_loss = three_layer_Error.forward(train_forward, y_train)\n",
        "    three_layer_train_errors.append(train_loss)\n",
        "\n",
        "  for i in tqdm(range(0,len(x_train),batch_size)):\n",
        "    #write your code here\n",
        "    if i==0:\n",
        "      continue\n",
        "    index = np.arange(i-batch_size,i)\n",
        "    x_forward = three_layer_Net.forward(x_train[index])\n",
        "    grad_loss = three_layer_Error.backward(x_forward, y_train[index])\n",
        "    three_layer_Net.backward(x_train[index], grad_loss)\n",
        "    three_layer_Net.gradientStep(lr)"
      ],
      "execution_count": 33,
      "outputs": [
        {
          "output_type": "stream",
          "text": [
            "100%|██████████| 3125/3125 [00:04<00:00, 732.63it/s]\n",
            "100%|██████████| 3125/3125 [00:04<00:00, 717.16it/s]\n",
            "100%|██████████| 3125/3125 [00:04<00:00, 737.81it/s]\n",
            "100%|██████████| 3125/3125 [00:04<00:00, 717.98it/s]\n",
            "100%|██████████| 3125/3125 [00:04<00:00, 728.89it/s]\n",
            "100%|██████████| 3125/3125 [00:04<00:00, 721.13it/s]\n",
            "100%|██████████| 3125/3125 [00:04<00:00, 719.17it/s]\n",
            "100%|██████████| 3125/3125 [00:04<00:00, 745.84it/s]\n",
            "100%|██████████| 3125/3125 [00:04<00:00, 729.49it/s]\n",
            "100%|██████████| 3125/3125 [00:04<00:00, 751.38it/s]\n",
            "100%|██████████| 3125/3125 [00:04<00:00, 723.88it/s]\n",
            "100%|██████████| 3125/3125 [00:04<00:00, 728.88it/s]\n",
            "100%|██████████| 3125/3125 [00:04<00:00, 729.29it/s]\n",
            "100%|██████████| 3125/3125 [00:04<00:00, 718.71it/s]\n",
            "100%|██████████| 3125/3125 [00:04<00:00, 727.60it/s]\n",
            "100%|██████████| 3125/3125 [00:04<00:00, 711.91it/s]\n",
            "100%|██████████| 3125/3125 [00:04<00:00, 750.72it/s]\n",
            "100%|██████████| 3125/3125 [00:04<00:00, 714.86it/s]\n",
            "100%|██████████| 3125/3125 [00:04<00:00, 687.79it/s]\n",
            "100%|██████████| 3125/3125 [00:04<00:00, 697.83it/s]\n",
            "100%|██████████| 3125/3125 [00:04<00:00, 724.85it/s]\n",
            "100%|██████████| 3125/3125 [00:04<00:00, 735.48it/s]\n",
            "100%|██████████| 3125/3125 [00:04<00:00, 744.13it/s]\n",
            "100%|██████████| 3125/3125 [00:04<00:00, 747.92it/s]\n",
            "100%|██████████| 3125/3125 [00:04<00:00, 736.19it/s]\n",
            "100%|██████████| 3125/3125 [00:04<00:00, 760.73it/s]\n",
            "100%|██████████| 3125/3125 [00:04<00:00, 770.84it/s]\n",
            "100%|██████████| 3125/3125 [00:04<00:00, 751.96it/s]\n",
            "100%|██████████| 3125/3125 [00:04<00:00, 746.54it/s]\n",
            "100%|██████████| 3125/3125 [00:04<00:00, 755.55it/s]\n",
            "100%|██████████| 3125/3125 [00:04<00:00, 749.82it/s]\n",
            "100%|██████████| 3125/3125 [00:04<00:00, 759.80it/s]\n",
            "100%|██████████| 3125/3125 [00:04<00:00, 732.62it/s]\n",
            "100%|██████████| 3125/3125 [00:04<00:00, 739.45it/s]\n",
            "100%|██████████| 3125/3125 [00:04<00:00, 737.79it/s]\n",
            "100%|██████████| 3125/3125 [00:04<00:00, 746.93it/s]\n",
            "100%|██████████| 3125/3125 [00:04<00:00, 721.56it/s]\n",
            "100%|██████████| 3125/3125 [00:04<00:00, 722.16it/s]\n",
            "100%|██████████| 3125/3125 [00:04<00:00, 772.73it/s]\n",
            "100%|██████████| 3125/3125 [00:04<00:00, 709.60it/s]\n",
            "100%|██████████| 3125/3125 [00:04<00:00, 746.80it/s]\n",
            "100%|██████████| 3125/3125 [00:04<00:00, 714.93it/s]\n",
            "100%|██████████| 3125/3125 [00:04<00:00, 730.49it/s]\n",
            "100%|██████████| 3125/3125 [00:04<00:00, 724.05it/s]\n",
            "100%|██████████| 3125/3125 [00:04<00:00, 731.51it/s]\n",
            "100%|██████████| 3125/3125 [00:04<00:00, 742.17it/s]\n",
            "100%|██████████| 3125/3125 [00:04<00:00, 723.60it/s]\n",
            "100%|██████████| 3125/3125 [00:04<00:00, 745.22it/s]\n",
            "100%|██████████| 3125/3125 [00:04<00:00, 742.28it/s]\n",
            "100%|██████████| 3125/3125 [00:04<00:00, 735.48it/s]\n"
          ],
          "name": "stderr"
        }
      ]
    },
    {
      "cell_type": "code",
      "metadata": {
        "id": "cXN1ebZxhfbS",
        "colab": {
          "base_uri": "https://localhost:8080/",
          "height": 282
        },
        "outputId": "086ce567-28a4-4710-d781-b5e14c01127c"
      },
      "source": [
        "three_layer_train_errors = np.array(three_layer_train_errors)/len(x_train)\n",
        "three_layer_val_errors = np.array(three_layer_val_errors)/len(x_valid)\n",
        "plt.plot(three_layer_train_errors)\n",
        "plt.plot(three_layer_val_errors)\n",
        "plt.legend([\"train_error\",\"val_error\"])"
      ],
      "execution_count": 34,
      "outputs": [
        {
          "output_type": "execute_result",
          "data": {
            "text/plain": [
              "<matplotlib.legend.Legend at 0x7fcfb5d70090>"
            ]
          },
          "metadata": {
            "tags": []
          },
          "execution_count": 34
        },
        {
          "output_type": "display_data",
          "data": {
            "image/png": "[encoded data removed]",
            "text/plain": [
              "<Figure size 432x288 with 1 Axes>"
            ]
          },
          "metadata": {
            "tags": [],
            "needs_background": "light"
          }
        }
      ]
    },
    {
      "cell_type": "code",
      "metadata": {
        "id": "YVNJdyPKh5px",
        "colab": {
          "base_uri": "https://localhost:8080/"
        },
        "outputId": "08bf46ec-5aab-4b09-fe05-c12a55165e81"
      },
      "source": [
        "three_layer_val_predictions = three_layer_Net.forward(x_valid)\n",
        "three_layer_train_predictions = three_layer_Net.forward(x_train)\n",
        "\n",
        "print(\"Average train error:\")\n",
        "print(three_layer_Error.forward(three_layer_train_predictions,y_train)/len(x_train))\n",
        "\n",
        "print(\"Average validation error:\")\n",
        "print(three_layer_Error.forward(three_layer_val_predictions,y_valid)/len(x_valid))"
      ],
      "execution_count": 35,
      "outputs": [
        {
          "output_type": "stream",
          "text": [
            "Average train error:\n",
            "0.08442565189622633\n",
            "Average validation error:\n",
            "0.09695729584170026\n"
          ],
          "name": "stdout"
        }
      ]
    },
    {
      "cell_type": "markdown",
      "metadata": {
        "id": "fXo5afTK8EtM"
      },
      "source": [
        "Test the acc"
      ]
    },
    {
      "cell_type": "code",
      "metadata": {
        "id": "mTH9kJgeia1H",
        "outputId": "b1068eba-34e3-4932-f0b4-e286ea48090c",
        "colab": {
          "base_uri": "https://localhost:8080/"
        }
      },
      "source": [
        "count_three_layer = 0\n",
        "for i in range(len(three_layer_val_predictions)):\n",
        "  if(np.argmax(three_layer_val_predictions[i])==y_valid[i]):\n",
        "    count_three_layer+=1\n",
        "print(\"The validation set acc for least square error three layer MLP is: \"+ str(count_three_layer/len(x_valid)))"
      ],
      "execution_count": 37,
      "outputs": [
        {
          "output_type": "stream",
          "text": [
            "The validation set acc for least square error three layer MLP is: 0.9695\n"
          ],
          "name": "stdout"
        }
      ]
    },
    {
      "cell_type": "code",
      "metadata": {
        "id": "Er-LicWK8K20"
      },
      "source": [
        ""
      ],
      "execution_count": null,
      "outputs": []
    }
  ]
}