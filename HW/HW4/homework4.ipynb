{
  "nbformat": 4,
  "nbformat_minor": 0,
  "metadata": {
    "kernelspec": {
      "name": "python3",
      "display_name": "Python 3"
    },
    "colab": {
      "name": "homework4.ipynb",
      "provenance": [],
      "include_colab_link": true
    },
    "language_info": {
      "name": "python"
    }
  },
  "cells": [
    {
      "cell_type": "markdown",
      "metadata": {
        "id": "view-in-github",
        "colab_type": "text"
      },
      "source": [
        "<a href=\"https://colab.research.google.com/github/yeb2Binfang/DS_GY_3001_CV/blob/main/HW/HW4/homework4.ipynb\" target=\"_parent\"><img src=\"https://colab.research.google.com/assets/colab-badge.svg\" alt=\"Open In Colab\"/></a>"
      ]
    },
    {
      "cell_type": "markdown",
      "metadata": {
        "id": "lxSbbsu-ILwt"
      },
      "source": [
        "## Homework 4: Neural Networks"
      ]
    },
    {
      "cell_type": "markdown",
      "metadata": {
        "id": "dAsZafSmILw0"
      },
      "source": [
        "**Due date:** May 2, 2021\n",
        "\n",
        "The goal of the assignment is to train a simple neural network on MNIST data.\n",
        "\n",
        "*Note:* This notebook requires Python 3.\n",
        "\n",
        "**Instructions:**\n",
        "\n",
        "* Read and understand the provided code, which is a basic implementation of a neural network as a modular architecture.\n",
        "* Download the [MNIST data](http://deeplearning.net/data/mnist/mnist.pkl.gz) (~15Mo). It consists of 28x28 images (loaded as a 784 vector) and the associated labels for training, validation and test sets. For this homework, you will only use the training and validation sets. \n",
        "* Write a simple loop to train 50 iterations of the implemented MLP (multi-layer perceptron) with a learning rate 0.001 and batches of size 16. Plot the training and validation losses throughout the training process (you don't have to test your network at every iteration, you can do it for example every 10 iterations).\n",
        "* Evaluate the accuracy of your trained model on the training and validation data. Check the predictions on random validation images.\n",
        "* Try changing learning rate and batch size and see if you can improve your results.\n",
        "* How many parameters does the network have? Implement and experiment with some variations of the architecture, for example:\n",
        "    * Implement and use the cross-entropy loss instead of L2 loss.\n",
        "    * Add a parameter to vary the size of the intermediate layer.\n",
        "    * Use a MLP with 3 layers and parameters for the sizes of the two intermediate layers.\n"
      ]
    },
    {
      "cell_type": "markdown",
      "metadata": {
        "id": "dUU83TWnILw1"
      },
      "source": [
        "## MLP implementation"
      ]
    },
    {
      "cell_type": "markdown",
      "metadata": {
        "id": "JpDfwN0CqSMh"
      },
      "source": [
        "### Import packages"
      ]
    },
    {
      "cell_type": "code",
      "metadata": {
        "id": "XgIaJtE1ITo_"
      },
      "source": [
        "import numpy as np \n",
        "import math\n",
        "import matplotlib.pyplot as plt \n",
        "%matplotlib inline \n",
        "plt.rcParams['image.cmap'] = 'gray' \n",
        "import gzip\n",
        "import pickle"
      ],
      "execution_count": 1,
      "outputs": []
    },
    {
      "cell_type": "markdown",
      "metadata": {
        "id": "7ycydqOgqXNb"
      },
      "source": [
        "### Module"
      ]
    },
    {
      "cell_type": "code",
      "metadata": {
        "id": "BveJTLEqqblb"
      },
      "source": [
        "class Module(object):\n",
        "    def __init__(self):\n",
        "        self.gradInput=None \n",
        "        self.output=None\n",
        "        \n",
        "    def forward(self, *input):\n",
        "        \"\"\"Defines the computation performed at every call.\n",
        "        Should be overriden by all subclasses.\n",
        "        \"\"\"\n",
        "        raise NotImplementedError\n",
        "        \n",
        "    def backward(self, *input):\n",
        "        \"\"\"Defines the computation performed at every call.\n",
        "        Should be overriden by all subclasses.\n",
        "        \"\"\"\n",
        "        raise NotImplementedError"
      ],
      "execution_count": 2,
      "outputs": []
    },
    {
      "cell_type": "markdown",
      "metadata": {
        "id": "1D4c68eHqkHV"
      },
      "source": [
        "### Linear"
      ]
    },
    {
      "cell_type": "code",
      "metadata": {
        "id": "n2XzZLxwqpfJ"
      },
      "source": [
        "class Linear(Module):\n",
        "    \"\"\"\n",
        "    The input is supposed to have two dimensions (batchSize,in_feature)\n",
        "    \"\"\"\n",
        "    def __init__(self, in_features, out_features, bias=True):\n",
        "        super(Linear, self).__init__()\n",
        "        self.in_features = in_features\n",
        "        self.out_features = out_features\n",
        "        self.weight = math.sqrt(1. / (out_features* in_features))*np.random.randn(out_features, in_features)\n",
        "        self.bias = np.zeros(out_features)\n",
        "        self.gradWeight=None\n",
        "        self.gradBias=None\n",
        "        \n",
        "    def forward(self, x):\n",
        "        self.output= np.dot(x,self.weight.transpose())+np.repeat(self.bias.reshape([1,-1]),x.shape[0], axis=0)\n",
        "        return self.output\n",
        "    \n",
        "    def backward(self, x, gradOutput):\n",
        "        self.gradInput=np.dot(gradOutput,self.weight)\n",
        "        self.gradWeight=np.dot(gradOutput.transpose(),x)\n",
        "        self.gradBias=np.sum(gradOutput, axis=0)\n",
        "        return self.gradInput\n",
        "    \n",
        "    def gradientStep(self,lr):\n",
        "        self.weight=self.weight-lr*self.gradWeight\n",
        "        self.bias=self.bias-lr*self.gradBias"
      ],
      "execution_count": 3,
      "outputs": []
    },
    {
      "cell_type": "markdown",
      "metadata": {
        "id": "_JDwCvzuqx8k"
      },
      "source": [
        "### ReLU"
      ]
    },
    {
      "cell_type": "code",
      "metadata": {
        "id": "jz6hOk57q0xE"
      },
      "source": [
        "class ReLU(Module):\n",
        "    \n",
        "    def __init__(self, bias=True):\n",
        "        super(ReLU, self).__init__()\n",
        "        \n",
        "    def forward(self, x):\n",
        "        self.output=x.clip(0)\n",
        "        return self.output\n",
        "    \n",
        "    def backward(self, x, gradOutput):\n",
        "        self.gradInput=(x>0)*gradOutput\n",
        "        return self.gradInput"
      ],
      "execution_count": 4,
      "outputs": []
    },
    {
      "cell_type": "markdown",
      "metadata": {
        "id": "7u3dBSEEqrHW"
      },
      "source": [
        "### Least Square Error\n"
      ]
    },
    {
      "cell_type": "code",
      "metadata": {
        "id": "Z8US9iumqvIK"
      },
      "source": [
        "class LeastSquareCriterion(Module):\n",
        "    \"\"\"\n",
        "    This implementation of the least square loss assumes that the data comes as a 2 dimensional array\n",
        "    of size (batch_size,num_classes) and the labels as a vector of size (num_classes) \n",
        "    \"\"\"\n",
        "    def __init__(self, num_classes=10):\n",
        "        super(LeastSquareCriterion, self).__init__()\n",
        "        self.num_classes=num_classes\n",
        "    \n",
        "    def forward(self, x,labels):\n",
        "        target=np.zeros([x.shape[0],self.num_classes])\n",
        "        for i in range(x.shape[0]):\n",
        "            target[i,labels[i]]=1\n",
        "        self.output = np.sum((target-x)**2,axis=0)\n",
        "        return np.sum(self.output)\n",
        "    \n",
        "    def backward(self, x, labels):\n",
        "        self.gradInput=x\n",
        "        for i in range(x.shape[0]):\n",
        "            self.gradInput[i,labels[i]]=x[i,labels[i]]-1\n",
        "        return self.gradInput"
      ],
      "execution_count": 5,
      "outputs": []
    },
    {
      "cell_type": "markdown",
      "metadata": {
        "id": "ojBZ-MX5q4Yh"
      },
      "source": [
        "### MLP "
      ]
    },
    {
      "cell_type": "code",
      "metadata": {
        "id": "WiUZmgibILw1"
      },
      "source": [
        "class MLP(Module):\n",
        "\n",
        "    def __init__(self, num_classes=10):\n",
        "        super(MLP, self).__init__()\n",
        "        self.fc1 = Linear(784, 64)\n",
        "        self.relu1 = ReLU()\n",
        "        self.fc2 = Linear(64, 10)\n",
        "    \n",
        "    def forward(self, x):\n",
        "        x = self.fc1.forward(x)\n",
        "        x = self.relu1.forward(x)\n",
        "        x = self.fc2.forward(x)\n",
        "        return x\n",
        "    \n",
        "    def backward(self, x, gradient):\n",
        "        gradient = self.fc2.backward(self.relu1.output,gradient)\n",
        "        gradient = self.relu1.backward(self.fc1.output,gradient)\n",
        "        gradient = self.fc1.backward(x,gradient)\n",
        "        return gradient\n",
        "    \n",
        "    def gradientStep(self,lr):\n",
        "        self.fc2.gradientStep(lr)\n",
        "        self.fc1.gradientStep(lr)\n",
        "        return True"
      ],
      "execution_count": 6,
      "outputs": []
    },
    {
      "cell_type": "markdown",
      "metadata": {
        "id": "rFZeLd-3ILw3"
      },
      "source": [
        "## Load and visualize the dataset"
      ]
    },
    {
      "cell_type": "code",
      "metadata": {
        "id": "pRR08ypYKeEa",
        "outputId": "e6fdc163-87b8-4f4b-96a9-0e1dce8b2dd1",
        "colab": {
          "base_uri": "https://localhost:8080/"
        }
      },
      "source": [
        "from google.colab import drive\n",
        "drive.mount('/content/MyDrive')"
      ],
      "execution_count": 8,
      "outputs": [
        {
          "output_type": "stream",
          "text": [
            "Mounted at /content/MyDrive\n"
          ],
          "name": "stdout"
        }
      ]
    },
    {
      "cell_type": "code",
      "metadata": {
        "id": "X4t_TkeHKIT2"
      },
      "source": [
        "with open('MyDrive/MyDrive/DS/mnist.pkl', 'rb') as f:\n",
        "  ((x_train, y_train), (x_valid, y_valid), (x_test, y_test)) = pickle.load(f, encoding='latin-1')"
      ],
      "execution_count": 10,
      "outputs": []
    },
    {
      "cell_type": "code",
      "metadata": {
        "id": "WdC-TGrpKr_7",
        "colab": {
          "base_uri": "https://localhost:8080/",
          "height": 282
        },
        "outputId": "dc794581-fdba-4c2d-da29-092e383422eb"
      },
      "source": [
        "plt.imshow(x_train[0].reshape((28,28)))"
      ],
      "execution_count": 11,
      "outputs": [
        {
          "output_type": "execute_result",
          "data": {
            "text/plain": [
              "<matplotlib.image.AxesImage at 0x7fc644ed9650>"
            ]
          },
          "metadata": {
            "tags": []
          },
          "execution_count": 11
        },
        {
          "output_type": "display_data",
          "data": {
            "image/png": "[encoded data removed]",
            "text/plain": [
              "<Figure size 432x288 with 1 Axes>"
            ]
          },
          "metadata": {
            "tags": [],
            "needs_background": "light"
          }
        }
      ]
    },
    {
      "cell_type": "code",
      "metadata": {
        "id": "cWAjCprcLCH0",
        "colab": {
          "base_uri": "https://localhost:8080/"
        },
        "outputId": "5fd0e80c-0963-49ed-95c6-7d2944b2a3c9"
      },
      "source": [
        "print(y_train[0])"
      ],
      "execution_count": 12,
      "outputs": [
        {
          "output_type": "stream",
          "text": [
            "5\n"
          ],
          "name": "stdout"
        }
      ]
    },
    {
      "cell_type": "markdown",
      "metadata": {
        "id": "sRKL6R0trDV-"
      },
      "source": [
        "## Train MLP\n",
        "Write a simple loop to train 50 iterations of the implemented MLP (multi-layer perceptron) with a learning rate 0.001 and batches of size 16. Plot the training and validation losses throughout the training process (you don't have to test your network at every iteration, you can do it for example every 10 iterations)."
      ]
    },
    {
      "cell_type": "code",
      "metadata": {
        "id": "ckXlHD58rJAG"
      },
      "source": [
        "learning_rate = 0.001\n",
        "batch_size = 16\n",
        "\n"
      ],
      "execution_count": 13,
      "outputs": []
    },
    {
      "cell_type": "code",
      "metadata": {
        "id": "5yLb0n7C8kus"
      },
      "source": [
        ""
      ],
      "execution_count": 19,
      "outputs": []
    },
    {
      "cell_type": "markdown",
      "metadata": {
        "id": "OeZgY7AUrR20"
      },
      "source": [
        "## Evaluate the model accuracy\n",
        "Evaluate the accuracy of your trained model on the training and validation data. Check the predictions on random validation images."
      ]
    },
    {
      "cell_type": "code",
      "metadata": {
        "id": "a3TXUFzsrcFr"
      },
      "source": [
        ""
      ],
      "execution_count": null,
      "outputs": []
    },
    {
      "cell_type": "markdown",
      "metadata": {
        "id": "PUUaJIo1rcgX"
      },
      "source": [
        "## Try to imporve\n",
        "Try changing learning rate and batch size and see if you can improve your results."
      ]
    },
    {
      "cell_type": "code",
      "metadata": {
        "id": "xAAclVGBrhyl"
      },
      "source": [
        ""
      ],
      "execution_count": null,
      "outputs": []
    },
    {
      "cell_type": "markdown",
      "metadata": {
        "id": "RSLoeqJTri0w"
      },
      "source": [
        "## Try different things\n",
        "\n",
        "When the network architecture is ...\n",
        "\n",
        "How many parameters does the network have?"
      ]
    },
    {
      "cell_type": "markdown",
      "metadata": {
        "id": "Xuxcfysnrr5V"
      },
      "source": [
        "### Implement and use the cross-entropy loss instead of L2 loss."
      ]
    },
    {
      "cell_type": "code",
      "metadata": {
        "id": "lJisNG4KroED"
      },
      "source": [
        ""
      ],
      "execution_count": null,
      "outputs": []
    },
    {
      "cell_type": "markdown",
      "metadata": {
        "id": "Q7cXEbROsDmG"
      },
      "source": [
        "### Add a parameter to vary the size of the intermediate layer."
      ]
    },
    {
      "cell_type": "code",
      "metadata": {
        "id": "xspYBKpPsGDi"
      },
      "source": [
        ""
      ],
      "execution_count": null,
      "outputs": []
    },
    {
      "cell_type": "markdown",
      "metadata": {
        "id": "zZb_5Pzpr8WT"
      },
      "source": [
        "### 3 layers MLP\n",
        "Use a MLP with 3 layers and parameters for the sizes of the two intermediate layers."
      ]
    },
    {
      "cell_type": "code",
      "metadata": {
        "id": "nJWE3-aur_cy"
      },
      "source": [
        ""
      ],
      "execution_count": null,
      "outputs": []
    }
  ]
}