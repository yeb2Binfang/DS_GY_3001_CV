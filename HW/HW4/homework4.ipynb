{
  "nbformat": 4,
  "nbformat_minor": 0,
  "metadata": {
    "kernelspec": {
      "name": "python3",
      "display_name": "Python 3"
    },
    "colab": {
      "name": "homework4.ipynb",
      "provenance": [],
      "include_colab_link": true
    },
    "language_info": {
      "name": "python"
    }
  },
  "cells": [
    {
      "cell_type": "markdown",
      "metadata": {
        "id": "view-in-github",
        "colab_type": "text"
      },
      "source": [
        "<a href=\"https://colab.research.google.com/github/yeb2Binfang/DS_GY_3001_CV/blob/main/HW/HW4/homework4.ipynb\" target=\"_parent\"><img src=\"https://colab.research.google.com/assets/colab-badge.svg\" alt=\"Open In Colab\"/></a>"
      ]
    },
    {
      "cell_type": "markdown",
      "metadata": {
        "id": "lxSbbsu-ILwt"
      },
      "source": [
        "## Homework 4: Neural Networks"
      ]
    },
    {
      "cell_type": "markdown",
      "metadata": {
        "id": "dAsZafSmILw0"
      },
      "source": [
        "**Due date:** May 2, 2021\n",
        "\n",
        "The goal of the assignment is to train a simple neural network on MNIST data.\n",
        "\n",
        "*Note:* This notebook requires Python 3.\n",
        "\n",
        "**Instructions:**\n",
        "\n",
        "* Read and understand the provided code, which is a basic implementation of a neural network as a modular architecture.\n",
        "* Download the [MNIST data](http://deeplearning.net/data/mnist/mnist.pkl.gz) (~15Mo). It consists of 28x28 images (loaded as a 784 vector) and the associated labels for training, validation and test sets. For this homework, you will only use the training and validation sets. \n",
        "* Write a simple loop to train 50 iterations of the implemented MLP (multi-layer perceptron) with a learning rate 0.001 and batches of size 16. Plot the training and validation losses throughout the training process (you don't have to test your network at every iteration, you can do it for example every 10 iterations).\n",
        "* Evaluate the accuracy of your trained model on the training and validation data. Check the predictions on random validation images.\n",
        "* Try changing learning rate and batch size and see if you can improve your results.\n",
        "* How many parameters does the network have? Implement and experiment with some variations of the architecture, for example:\n",
        "    * Implement and use the cross-entropy loss instead of L2 loss.\n",
        "    * Add a parameter to vary the size of the intermediate layer.\n",
        "    * Use a MLP with 3 layers and parameters for the sizes of the two intermediate layers.\n"
      ]
    },
    {
      "cell_type": "markdown",
      "metadata": {
        "id": "dUU83TWnILw1"
      },
      "source": [
        "## MLP implementation"
      ]
    },
    {
      "cell_type": "markdown",
      "metadata": {
        "id": "JpDfwN0CqSMh"
      },
      "source": [
        "### Import packages"
      ]
    },
    {
      "cell_type": "code",
      "metadata": {
        "id": "XgIaJtE1ITo_"
      },
      "source": [
        "import numpy as np \n",
        "import math\n",
        "import matplotlib.pyplot as plt \n",
        "%matplotlib inline \n",
        "plt.rcParams['image.cmap'] = 'gray' \n",
        "import gzip\n",
        "import pickle"
      ],
      "execution_count": 1,
      "outputs": []
    },
    {
      "cell_type": "markdown",
      "metadata": {
        "id": "7ycydqOgqXNb"
      },
      "source": [
        "### Module"
      ]
    },
    {
      "cell_type": "code",
      "metadata": {
        "id": "BveJTLEqqblb"
      },
      "source": [
        "class Module(object):\n",
        "    def __init__(self):\n",
        "        self.gradInput=None \n",
        "        self.output=None\n",
        "        \n",
        "    def forward(self, *input):\n",
        "        \"\"\"Defines the computation performed at every call.\n",
        "        Should be overriden by all subclasses.\n",
        "        \"\"\"\n",
        "        raise NotImplementedError\n",
        "        \n",
        "    def backward(self, *input):\n",
        "        \"\"\"Defines the computation performed at every call.\n",
        "        Should be overriden by all subclasses.\n",
        "        \"\"\"\n",
        "        raise NotImplementedError"
      ],
      "execution_count": 2,
      "outputs": []
    },
    {
      "cell_type": "markdown",
      "metadata": {
        "id": "1D4c68eHqkHV"
      },
      "source": [
        "### Linear"
      ]
    },
    {
      "cell_type": "code",
      "metadata": {
        "id": "n2XzZLxwqpfJ"
      },
      "source": [
        "class Linear(Module):\n",
        "    \"\"\"\n",
        "    The input is supposed to have two dimensions (batchSize,in_feature)\n",
        "    \"\"\"\n",
        "    def __init__(self, in_features, out_features, bias=True):\n",
        "        super(Linear, self).__init__()\n",
        "        self.in_features = in_features\n",
        "        self.out_features = out_features\n",
        "        self.weight = math.sqrt(1. / (out_features* in_features))*np.random.randn(out_features, in_features)\n",
        "        self.bias = np.zeros(out_features)\n",
        "        self.gradWeight=None\n",
        "        self.gradBias=None\n",
        "        \n",
        "    def forward(self, x):\n",
        "        self.output= np.dot(x,self.weight.transpose())+np.repeat(self.bias.reshape([1,-1]),x.shape[0], axis=0)\n",
        "        return self.output\n",
        "    \n",
        "    def backward(self, x, gradOutput):\n",
        "        self.gradInput=np.dot(gradOutput,self.weight)\n",
        "        self.gradWeight=np.dot(gradOutput.transpose(),x)\n",
        "        self.gradBias=np.sum(gradOutput, axis=0)\n",
        "        return self.gradInput\n",
        "    \n",
        "    def gradientStep(self,lr):\n",
        "        self.weight=self.weight-lr*self.gradWeight\n",
        "        self.bias=self.bias-lr*self.gradBias"
      ],
      "execution_count": 3,
      "outputs": []
    },
    {
      "cell_type": "markdown",
      "metadata": {
        "id": "_JDwCvzuqx8k"
      },
      "source": [
        "### ReLU"
      ]
    },
    {
      "cell_type": "code",
      "metadata": {
        "id": "jz6hOk57q0xE"
      },
      "source": [
        "class ReLU(Module):\n",
        "    \n",
        "    def __init__(self, bias=True):\n",
        "        super(ReLU, self).__init__()\n",
        "        \n",
        "    def forward(self, x):\n",
        "        self.output=x.clip(0)\n",
        "        return self.output\n",
        "    \n",
        "    def backward(self, x, gradOutput):\n",
        "        self.gradInput=(x>0)*gradOutput\n",
        "        return self.gradInput"
      ],
      "execution_count": 4,
      "outputs": []
    },
    {
      "cell_type": "markdown",
      "metadata": {
        "id": "7u3dBSEEqrHW"
      },
      "source": [
        "### Least Square Error\n"
      ]
    },
    {
      "cell_type": "code",
      "metadata": {
        "id": "Z8US9iumqvIK"
      },
      "source": [
        "class LeastSquareCriterion(Module):\n",
        "    \"\"\"\n",
        "    This implementation of the least square loss assumes that the data comes as a 2 dimensional array\n",
        "    of size (batch_size,num_classes) and the labels as a vector of size (num_classes) \n",
        "    \"\"\"\n",
        "    def __init__(self, num_classes=10):\n",
        "        super(LeastSquareCriterion, self).__init__()\n",
        "        self.num_classes=num_classes\n",
        "    \n",
        "    def forward(self, x,labels):\n",
        "        target=np.zeros([x.shape[0],self.num_classes])\n",
        "        for i in range(x.shape[0]):\n",
        "            target[i,labels[i]]=1\n",
        "        self.output = np.sum((target-x)**2,axis=0)\n",
        "        return np.sum(self.output)\n",
        "    \n",
        "    def backward(self, x, labels):\n",
        "        self.gradInput=x\n",
        "        for i in range(x.shape[0]):\n",
        "            self.gradInput[i,labels[i]]=x[i,labels[i]]-1\n",
        "        return self.gradInput"
      ],
      "execution_count": 5,
      "outputs": []
    },
    {
      "cell_type": "markdown",
      "metadata": {
        "id": "ojBZ-MX5q4Yh"
      },
      "source": [
        "### MLP "
      ]
    },
    {
      "cell_type": "code",
      "metadata": {
        "id": "WiUZmgibILw1"
      },
      "source": [
        "class MLP(Module):\n",
        "\n",
        "    def __init__(self, num_classes=10):\n",
        "        super(MLP, self).__init__()\n",
        "        self.fc1 = Linear(784, 64)\n",
        "        self.relu1 = ReLU()\n",
        "        self.fc2 = Linear(64, 10)\n",
        "    \n",
        "    def forward(self, x):\n",
        "        x = self.fc1.forward(x)\n",
        "        x = self.relu1.forward(x)\n",
        "        x = self.fc2.forward(x)\n",
        "        return x\n",
        "    \n",
        "    def backward(self, x, gradient):\n",
        "        gradient = self.fc2.backward(self.relu1.output,gradient)\n",
        "        gradient = self.relu1.backward(self.fc1.output,gradient)\n",
        "        gradient = self.fc1.backward(x,gradient)\n",
        "        return gradient\n",
        "    \n",
        "    def gradientStep(self,lr):\n",
        "        self.fc2.gradientStep(lr)\n",
        "        self.fc1.gradientStep(lr)\n",
        "        return True"
      ],
      "execution_count": 6,
      "outputs": []
    },
    {
      "cell_type": "markdown",
      "metadata": {
        "id": "rFZeLd-3ILw3"
      },
      "source": [
        "## Load and visualize the dataset"
      ]
    },
    {
      "cell_type": "code",
      "metadata": {
        "id": "pRR08ypYKeEa",
        "colab": {
          "base_uri": "https://localhost:8080/"
        },
        "outputId": "23826f2f-a4a7-4670-86a5-340b3055f3e4"
      },
      "source": [
        "from google.colab import drive\n",
        "drive.mount('/content/MyDrive')"
      ],
      "execution_count": 7,
      "outputs": [
        {
          "output_type": "stream",
          "text": [
            "Mounted at /content/MyDrive\n"
          ],
          "name": "stdout"
        }
      ]
    },
    {
      "cell_type": "code",
      "metadata": {
        "id": "X4t_TkeHKIT2"
      },
      "source": [
        "with open('MyDrive/MyDrive/DS/mnist.pkl', 'rb') as f:\n",
        "  ((x_train, y_train), (x_valid, y_valid), (x_test, y_test)) = pickle.load(f, encoding='latin-1')"
      ],
      "execution_count": 8,
      "outputs": []
    },
    {
      "cell_type": "code",
      "metadata": {
        "id": "WdC-TGrpKr_7",
        "colab": {
          "base_uri": "https://localhost:8080/",
          "height": 282
        },
        "outputId": "c6ddc6a0-112b-4df6-b619-c34535afcb3d"
      },
      "source": [
        "plt.imshow(x_train[0].reshape((28,28)))"
      ],
      "execution_count": 9,
      "outputs": [
        {
          "output_type": "execute_result",
          "data": {
            "text/plain": [
              "<matplotlib.image.AxesImage at 0x7fd150887ed0>"
            ]
          },
          "metadata": {
            "tags": []
          },
          "execution_count": 9
        },
        {
          "output_type": "display_data",
          "data": {
            "image/png": "[encoded data removed]",
            "text/plain": [
              "<Figure size 432x288 with 1 Axes>"
            ]
          },
          "metadata": {
            "tags": [],
            "needs_background": "light"
          }
        }
      ]
    },
    {
      "cell_type": "code",
      "metadata": {
        "id": "cWAjCprcLCH0",
        "colab": {
          "base_uri": "https://localhost:8080/"
        },
        "outputId": "0ad0953f-52e8-4168-aaaa-24c5e49aeee4"
      },
      "source": [
        "print(y_train[0])"
      ],
      "execution_count": 10,
      "outputs": [
        {
          "output_type": "stream",
          "text": [
            "5\n"
          ],
          "name": "stdout"
        }
      ]
    },
    {
      "cell_type": "markdown",
      "metadata": {
        "id": "sRKL6R0trDV-"
      },
      "source": [
        "## Train MLP\n",
        "Write a simple loop to train 50 iterations of the implemented MLP (multi-layer perceptron) with a learning rate 0.001 and batches of size 16. Plot the training and validation losses throughout the training process (you don't have to test your network at every iteration, you can do it for example every 10 iterations)."
      ]
    },
    {
      "cell_type": "code",
      "metadata": {
        "id": "80Z_B0Q0AFWS",
        "colab": {
          "base_uri": "https://localhost:8080/"
        },
        "outputId": "e270c966-1e45-4d57-f086-a0a7bde8d404"
      },
      "source": [
        "pip install tqdm"
      ],
      "execution_count": 11,
      "outputs": [
        {
          "output_type": "stream",
          "text": [
            "Requirement already satisfied: tqdm in /usr/local/lib/python3.7/dist-packages (4.41.1)\n"
          ],
          "name": "stdout"
        }
      ]
    },
    {
      "cell_type": "code",
      "metadata": {
        "id": "7QOA4vySAJle"
      },
      "source": [
        "from tqdm import tqdm"
      ],
      "execution_count": 12,
      "outputs": []
    },
    {
      "cell_type": "code",
      "metadata": {
        "id": "ckXlHD58rJAG",
        "colab": {
          "base_uri": "https://localhost:8080/"
        },
        "outputId": "bb3c87f3-52ec-401b-a3e0-baab01377efa"
      },
      "source": [
        "Net = MLP()\n",
        "Error = LeastSquareCriterion()\n",
        "\n",
        "n_iter = 50\n",
        "lr = 0.001\n",
        "batch_size = 16\n",
        "\n",
        "train_errors = []\n",
        "val_errors = []\n",
        "for epoch in range(n_iter):\n",
        "  #print(str(epoch) + \" epoch\")\n",
        "  if (epoch%10 == 0):\n",
        "    #write your code here\n",
        "    val_forward = Net.forward(x_valid)\n",
        "    val_loss = Error.forward(val_forward, y_valid)\n",
        "    val_errors.append(val_loss)\n",
        "\n",
        "    train_forward = Net.forward(x_train)\n",
        "    train_loss = Error.forward(train_forward, y_train)\n",
        "    train_errors.append(train_loss)\n",
        "\n",
        "  for i in tqdm(range(0,len(x_train),batch_size)):\n",
        "    #write your code here\n",
        "    if i==0:\n",
        "      continue\n",
        "    index = np.arange(i-batch_size,i)\n",
        "    x_forward = Net.forward(x_train[index])\n",
        "    grad_loss = Error.backward(x_forward, y_train[index])\n",
        "    Net.backward(x_train[index], grad_loss)\n",
        "    Net.gradientStep(lr)\n"
      ],
      "execution_count": null,
      "outputs": [
        {
          "output_type": "stream",
          "text": [
            "100%|██████████| 3125/3125 [00:04<00:00, 738.20it/s]\n",
            "100%|██████████| 3125/3125 [00:04<00:00, 768.47it/s]\n",
            "100%|██████████| 3125/3125 [00:04<00:00, 760.14it/s]\n",
            "100%|██████████| 3125/3125 [00:04<00:00, 747.13it/s]\n",
            "100%|██████████| 3125/3125 [00:04<00:00, 736.56it/s]\n",
            "100%|██████████| 3125/3125 [00:04<00:00, 737.04it/s]\n",
            "100%|██████████| 3125/3125 [00:04<00:00, 743.66it/s]\n",
            "100%|██████████| 3125/3125 [00:04<00:00, 733.64it/s]\n",
            "100%|██████████| 3125/3125 [00:04<00:00, 762.21it/s]\n",
            "100%|██████████| 3125/3125 [00:04<00:00, 750.33it/s]\n",
            "100%|██████████| 3125/3125 [00:04<00:00, 654.46it/s]\n",
            "100%|██████████| 3125/3125 [00:04<00:00, 647.93it/s]\n",
            "100%|██████████| 3125/3125 [00:04<00:00, 672.82it/s]\n",
            "100%|██████████| 3125/3125 [00:04<00:00, 674.45it/s]\n",
            "100%|██████████| 3125/3125 [00:04<00:00, 670.77it/s]\n",
            "100%|██████████| 3125/3125 [00:04<00:00, 665.16it/s]\n",
            "100%|██████████| 3125/3125 [00:04<00:00, 662.44it/s]\n",
            "100%|██████████| 3125/3125 [00:04<00:00, 665.24it/s]\n",
            "100%|██████████| 3125/3125 [00:04<00:00, 646.32it/s]\n",
            "100%|██████████| 3125/3125 [00:04<00:00, 682.43it/s]\n",
            "100%|██████████| 3125/3125 [00:04<00:00, 755.06it/s]\n",
            "100%|██████████| 3125/3125 [00:04<00:00, 773.38it/s]\n",
            "100%|██████████| 3125/3125 [00:04<00:00, 742.09it/s]\n",
            "100%|██████████| 3125/3125 [00:04<00:00, 747.65it/s]\n",
            "100%|██████████| 3125/3125 [00:04<00:00, 761.60it/s]\n",
            "100%|██████████| 3125/3125 [00:04<00:00, 751.39it/s]\n",
            "100%|██████████| 3125/3125 [00:04<00:00, 757.52it/s]\n",
            "100%|██████████| 3125/3125 [00:04<00:00, 748.67it/s]\n",
            "100%|██████████| 3125/3125 [00:04<00:00, 762.61it/s]\n",
            "100%|██████████| 3125/3125 [00:04<00:00, 750.86it/s]\n",
            "100%|██████████| 3125/3125 [00:04<00:00, 752.95it/s]\n",
            "100%|██████████| 3125/3125 [00:04<00:00, 751.26it/s]\n",
            "100%|██████████| 3125/3125 [00:04<00:00, 760.36it/s]\n",
            "100%|██████████| 3125/3125 [00:04<00:00, 779.21it/s]\n",
            "100%|██████████| 3125/3125 [00:04<00:00, 771.22it/s]\n",
            "100%|██████████| 3125/3125 [00:04<00:00, 776.70it/s]\n",
            "100%|██████████| 3125/3125 [00:04<00:00, 767.75it/s]\n",
            "100%|██████████| 3125/3125 [00:03<00:00, 781.37it/s]\n",
            "100%|██████████| 3125/3125 [00:04<00:00, 766.81it/s]\n",
            "100%|██████████| 3125/3125 [00:04<00:00, 774.36it/s]\n",
            "100%|██████████| 3125/3125 [00:04<00:00, 735.40it/s]\n",
            "100%|██████████| 3125/3125 [00:04<00:00, 742.74it/s]\n",
            "100%|██████████| 3125/3125 [00:04<00:00, 743.23it/s]\n",
            "100%|██████████| 3125/3125 [00:04<00:00, 740.90it/s]\n",
            "100%|██████████| 3125/3125 [00:04<00:00, 725.72it/s]\n",
            "100%|██████████| 3125/3125 [00:04<00:00, 745.43it/s]\n",
            "100%|██████████| 3125/3125 [00:04<00:00, 730.01it/s]\n",
            "100%|██████████| 3125/3125 [00:04<00:00, 736.51it/s]\n",
            "100%|██████████| 3125/3125 [00:04<00:00, 721.22it/s]\n",
            "100%|██████████| 3125/3125 [00:04<00:00, 729.31it/s]\n"
          ],
          "name": "stderr"
        }
      ]
    },
    {
      "cell_type": "code",
      "metadata": {
        "id": "pFPF55nTCfH1",
        "colab": {
          "base_uri": "https://localhost:8080/"
        },
        "outputId": "52b184fe-deee-4689-e1f4-2670547e8bd8"
      },
      "source": [
        "print(train_errors)"
      ],
      "execution_count": null,
      "outputs": [
        {
          "output_type": "stream",
          "text": [
            "[49849.86147166136, 5907.882384508182, 4891.491765174849, 4447.502279344168, 4214.750902104069]\n"
          ],
          "name": "stdout"
        }
      ]
    },
    {
      "cell_type": "code",
      "metadata": {
        "id": "VbP4c0SfCSz7",
        "colab": {
          "base_uri": "https://localhost:8080/",
          "height": 282
        },
        "outputId": "9be1ac5d-f87b-4343-8e50-e51eaee36e53"
      },
      "source": [
        "train_loss = np.array(train_errors)/len(x_train)\n",
        "val_loss = np.array(val_errors)/len(x_valid)\n",
        "plt.plot(train_loss)\n",
        "plt.plot(val_loss)\n",
        "plt.legend([\"train_error\",\"val_error\"])"
      ],
      "execution_count": null,
      "outputs": [
        {
          "output_type": "execute_result",
          "data": {
            "text/plain": [
              "<matplotlib.legend.Legend at 0x7f07fd0d00d0>"
            ]
          },
          "metadata": {
            "tags": []
          },
          "execution_count": 52
        },
        {
          "output_type": "display_data",
          "data": {
            "image/png": "[encoded data removed]",
            "text/plain": [
              "<Figure size 432x288 with 1 Axes>"
            ]
          },
          "metadata": {
            "tags": [],
            "needs_background": "light"
          }
        }
      ]
    },
    {
      "cell_type": "markdown",
      "metadata": {
        "id": "OeZgY7AUrR20"
      },
      "source": [
        "## Evaluate the model accuracy\n",
        "Evaluate the accuracy of your trained model on the training and validation data. Check the predictions on random validation images."
      ]
    },
    {
      "cell_type": "code",
      "metadata": {
        "id": "a3TXUFzsrcFr",
        "colab": {
          "base_uri": "https://localhost:8080/"
        },
        "outputId": "d59e4360-d286-4c7f-b8db-753b8769226a"
      },
      "source": [
        "val_predictions = Net.forward(x_valid)\n",
        "train_predictions = Net.forward(x_train)\n",
        "\n",
        "print(\"Average train error:\")\n",
        "print(Error.forward(train_predictions,y_train)/len(x_train))\n",
        "\n",
        "print(\"Average validation error:\")\n",
        "print(Error.forward(val_predictions,y_valid)/len(x_valid))"
      ],
      "execution_count": null,
      "outputs": [
        {
          "output_type": "stream",
          "text": [
            "Average train error:\n",
            "0.08093237785963325\n",
            "Average validation error:\n",
            "0.09322046514861149\n"
          ],
          "name": "stdout"
        }
      ]
    },
    {
      "cell_type": "code",
      "metadata": {
        "id": "-gRPG_X13it0",
        "colab": {
          "base_uri": "https://localhost:8080/",
          "height": 298
        },
        "outputId": "6484fb1d-babf-4833-d4bf-0997ca5547b6"
      },
      "source": [
        "m = np.random.randint(len(x_valid))\n",
        "plt.imshow(x_valid[m,:].reshape(28,28))\n",
        "print(\"true label: \"+str(y_valid[m]))\n",
        "prediction = Net.forward(x_valid[m,:].reshape([1,-1]))\n",
        "print(\"predict label: \"+ str(prediction.argmax()))"
      ],
      "execution_count": null,
      "outputs": [
        {
          "output_type": "stream",
          "text": [
            "true label: 1\n",
            "predict label: 1\n"
          ],
          "name": "stdout"
        },
        {
          "output_type": "display_data",
          "data": {
            "image/png": "[encoded data removed]",
            "text/plain": [
              "<Figure size 432x288 with 1 Axes>"
            ]
          },
          "metadata": {
            "tags": [],
            "needs_background": "light"
          }
        }
      ]
    },
    {
      "cell_type": "markdown",
      "metadata": {
        "id": "PUUaJIo1rcgX"
      },
      "source": [
        "## Try to imporve\n",
        "Try changing learning rate and batch size and see if you can improve your results.\n",
        "Here, I changed learning rate to 0.0001 and changed the batch-size to 8. "
      ]
    },
    {
      "cell_type": "code",
      "metadata": {
        "id": "xAAclVGBrhyl",
        "colab": {
          "base_uri": "https://localhost:8080/"
        },
        "outputId": "9d338b23-25f9-477a-e1b7-f2965fa44072"
      },
      "source": [
        "Net1 = MLP()\n",
        "Error1 = LeastSquareCriterion()\n",
        "\n",
        "n_iter = 50\n",
        "lr1 = 0.0001\n",
        "batch_size1 = 8\n",
        "\n",
        "train_errors1 = []\n",
        "val_errors1 = []\n",
        "for epoch in range(n_iter):\n",
        "  #print(str(epoch) + \" epoch\")\n",
        "  if (epoch%10 == 0):\n",
        "    #write your code here\n",
        "    val_forward = Net1.forward(x_valid)\n",
        "    val_loss = Error1.forward(val_forward, y_valid)\n",
        "    val_errors1.append(val_loss)\n",
        "\n",
        "    train_forward = Net1.forward(x_train)\n",
        "    train_loss = Error1.forward(train_forward, y_train)\n",
        "    train_errors1.append(train_loss)\n",
        "\n",
        "  for i in tqdm(range(0,len(x_train),batch_size1)):\n",
        "    #write your code here\n",
        "    if i==0:\n",
        "      continue\n",
        "    index = np.arange(i-batch_size1,i)\n",
        "    x_forward = Net1.forward(x_train[index])\n",
        "    grad_loss = Error1.backward(x_forward, y_train[index])\n",
        "    Net1.backward(x_train[index], grad_loss)\n",
        "    Net1.gradientStep(lr1)"
      ],
      "execution_count": null,
      "outputs": [
        {
          "output_type": "stream",
          "text": [
            "100%|██████████| 6250/6250 [00:06<00:00, 930.01it/s]\n",
            "100%|██████████| 6250/6250 [00:06<00:00, 932.08it/s]\n",
            "100%|██████████| 6250/6250 [00:06<00:00, 917.65it/s]\n",
            "100%|██████████| 6250/6250 [00:06<00:00, 939.55it/s]\n",
            "100%|██████████| 6250/6250 [00:06<00:00, 914.24it/s]\n",
            "100%|██████████| 6250/6250 [00:06<00:00, 912.30it/s]\n",
            "100%|██████████| 6250/6250 [00:06<00:00, 911.58it/s]\n",
            "100%|██████████| 6250/6250 [00:06<00:00, 928.68it/s]\n",
            "100%|██████████| 6250/6250 [00:06<00:00, 921.22it/s]\n",
            "100%|██████████| 6250/6250 [00:06<00:00, 923.18it/s]\n",
            "100%|██████████| 6250/6250 [00:06<00:00, 926.65it/s]\n",
            "100%|██████████| 6250/6250 [00:06<00:00, 920.43it/s]\n",
            "100%|██████████| 6250/6250 [00:06<00:00, 918.54it/s]\n",
            "100%|██████████| 6250/6250 [00:06<00:00, 926.88it/s]\n",
            "100%|██████████| 6250/6250 [00:06<00:00, 898.01it/s]\n",
            "100%|██████████| 6250/6250 [00:06<00:00, 919.93it/s]\n",
            "100%|██████████| 6250/6250 [00:06<00:00, 912.09it/s]\n",
            "100%|██████████| 6250/6250 [00:06<00:00, 925.70it/s]\n",
            "100%|██████████| 6250/6250 [00:06<00:00, 915.53it/s]\n",
            "100%|██████████| 6250/6250 [00:06<00:00, 905.68it/s]\n",
            "100%|██████████| 6250/6250 [00:07<00:00, 888.79it/s]\n",
            "100%|██████████| 6250/6250 [00:07<00:00, 890.02it/s]\n",
            "100%|██████████| 6250/6250 [00:07<00:00, 884.19it/s]\n",
            "100%|██████████| 6250/6250 [00:06<00:00, 900.31it/s]\n",
            "100%|██████████| 6250/6250 [00:07<00:00, 887.32it/s]\n",
            "100%|██████████| 6250/6250 [00:06<00:00, 899.00it/s]\n",
            "100%|██████████| 6250/6250 [00:06<00:00, 896.55it/s]\n",
            "100%|██████████| 6250/6250 [00:07<00:00, 880.51it/s]\n",
            "100%|██████████| 6250/6250 [00:07<00:00, 883.78it/s]\n",
            "100%|██████████| 6250/6250 [00:06<00:00, 900.99it/s]\n",
            "100%|██████████| 6250/6250 [00:07<00:00, 882.18it/s]\n",
            "100%|██████████| 6250/6250 [00:06<00:00, 902.56it/s]\n",
            "100%|██████████| 6250/6250 [00:06<00:00, 901.47it/s]\n",
            "100%|██████████| 6250/6250 [00:06<00:00, 911.83it/s]\n",
            "100%|██████████| 6250/6250 [00:06<00:00, 916.87it/s]\n",
            "100%|██████████| 6250/6250 [00:06<00:00, 900.86it/s]\n",
            "100%|██████████| 6250/6250 [00:06<00:00, 896.97it/s]\n",
            "100%|██████████| 6250/6250 [00:07<00:00, 873.40it/s]\n",
            "100%|██████████| 6250/6250 [00:07<00:00, 848.45it/s]\n",
            "100%|██████████| 6250/6250 [00:07<00:00, 879.41it/s]\n",
            "100%|██████████| 6250/6250 [00:07<00:00, 838.64it/s]\n",
            "100%|██████████| 6250/6250 [00:07<00:00, 866.62it/s]\n",
            "100%|██████████| 6250/6250 [00:07<00:00, 887.21it/s]\n",
            "100%|██████████| 6250/6250 [00:07<00:00, 866.21it/s]\n",
            "100%|██████████| 6250/6250 [00:07<00:00, 845.95it/s]\n",
            "100%|██████████| 6250/6250 [00:07<00:00, 878.07it/s]\n",
            "100%|██████████| 6250/6250 [00:07<00:00, 850.12it/s]\n",
            "100%|██████████| 6250/6250 [00:07<00:00, 877.42it/s]\n",
            "100%|██████████| 6250/6250 [00:07<00:00, 831.98it/s]\n",
            "100%|██████████| 6250/6250 [00:07<00:00, 867.99it/s]\n"
          ],
          "name": "stderr"
        }
      ]
    },
    {
      "cell_type": "markdown",
      "metadata": {
        "id": "vOoDZL9xKcIU"
      },
      "source": [
        "The result is not as good as above. So, I think when the learning rate=0.001 and the batch-szie = 16 is good enough"
      ]
    },
    {
      "cell_type": "code",
      "metadata": {
        "id": "vpaY6THzIbpl",
        "colab": {
          "base_uri": "https://localhost:8080/"
        },
        "outputId": "7c0f69e9-f3da-4734-b2f5-fd4a57293ec3"
      },
      "source": [
        "val_predictions1 = Net1.forward(x_valid)\n",
        "train_predictions1 = Net1.forward(x_train)\n",
        "\n",
        "print(\"Average train error:\")\n",
        "print(Error1.forward(train_predictions1,y_train)/len(x_train))\n",
        "\n",
        "print(\"Average validation error:\")\n",
        "print(Error1.forward(val_predictions1,y_valid)/len(x_valid))"
      ],
      "execution_count": null,
      "outputs": [
        {
          "output_type": "stream",
          "text": [
            "Average train error:\n",
            "0.13734056088156757\n",
            "Average validation error:\n",
            "0.13169956061025528\n"
          ],
          "name": "stdout"
        }
      ]
    },
    {
      "cell_type": "markdown",
      "metadata": {
        "id": "RSLoeqJTri0w"
      },
      "source": [
        "## Try different things\n",
        "How many parameters does the network have?\n",
        "\n",
        "From the above network architecture (784->64->10), we can calculate the number of parameters: 784 x 64 + 64 + 64 x 10 + 10\n",
        "\n"
      ]
    },
    {
      "cell_type": "markdown",
      "metadata": {
        "id": "Xuxcfysnrr5V"
      },
      "source": [
        "### Implement and use the cross-entropy loss instead of L2 loss."
      ]
    },
    {
      "cell_type": "code",
      "metadata": {
        "id": "lJisNG4KroED"
      },
      "source": [
        "class CrossEntropyCriterion(Module):\n",
        "    \"\"\"\n",
        "    This implementation of the cross entropy loss assumes that the data comes as a 2 dimensional array\n",
        "    of size (batch_size,num_classes) and the labels as a vector of size (num_classes) \n",
        "    \"\"\"\n",
        "    def __init__(self, num_classes=10):\n",
        "        super(CrossEntropyCriterion, self).__init__()\n",
        "        self.num_classes=num_classes\n",
        "\n",
        "    def sigmoid(x):\n",
        "      return 1/(1+np.exp(-x))\n",
        "    sigmoid = np.vectorize(sigmoid)\n",
        "    def forward(self, x,labels):\n",
        "        target=np.zeros([x.shape[0],self.num_classes])\n",
        "        for i in range(x.shape[0]):\n",
        "            target[i,labels[i]]=1\n",
        "        self.output = np.sum(target * np.log(self.sigmoid(x)) + (1-target)*np.log(1-self.sigmoid(x)),axis=0)\n",
        "        return np.sum(self.output)\n",
        "    \n",
        "    def backward(self, x, labels):\n",
        "        target=np.zeros([x.shape[0],self.num_classes])\n",
        "        for i in range(x.shape[0]):\n",
        "            target[i,labels[i]]=1\n",
        "        self.gradInput = self.sigmoid(x)-target\n",
        "        return self.gradInput"
      ],
      "execution_count": 15,
      "outputs": []
    },
    {
      "cell_type": "code",
      "metadata": {
        "id": "w00GPEKEWmtv",
        "outputId": "d5755a41-86f4-4faf-d583-e825451a05b2",
        "colab": {
          "base_uri": "https://localhost:8080/"
        }
      },
      "source": [
        "Net_cross_entropy = MLP()\n",
        "Cross_Entropy_Error = CrossEntropyCriterion()\n",
        "\n",
        "n_iter = 50\n",
        "lr = 0.001\n",
        "batch_size = 16\n",
        "\n",
        "cross_train_errors = []\n",
        "cross_val_errors = []\n",
        "for epoch in range(n_iter):\n",
        "  #print(str(epoch) + \" epoch\")\n",
        "  if (epoch%10 == 0):\n",
        "    #write your code here\n",
        "    val_forward = Net_cross_entropy.forward(x_valid)\n",
        "    val_loss = Cross_Entropy_Error.forward(val_forward, y_valid)\n",
        "    cross_val_errors.append(val_loss)\n",
        "\n",
        "    train_forward = Net_cross_entropy.forward(x_train)\n",
        "    train_loss = Cross_Entropy_Error.forward(train_forward, y_train)\n",
        "    cross_train_errors.append(train_loss)\n",
        "\n",
        "  for i in tqdm(range(0,len(x_train),batch_size)):\n",
        "    #write your code here\n",
        "    if i==0:\n",
        "      continue\n",
        "    index = np.arange(i-batch_size,i)\n",
        "    x_forward = Net_cross_entropy.forward(x_train[index])\n",
        "    grad_loss = Cross_Entropy_Error.backward(x_forward, y_train[index])\n",
        "    Net_cross_entropy.backward(x_train[index], grad_loss)\n",
        "    Net_cross_entropy.gradientStep(lr)"
      ],
      "execution_count": 23,
      "outputs": [
        {
          "output_type": "stream",
          "text": [
            "100%|██████████| 3125/3125 [00:06<00:00, 458.84it/s]\n",
            "100%|██████████| 3125/3125 [00:06<00:00, 461.65it/s]\n",
            "100%|██████████| 3125/3125 [00:06<00:00, 448.49it/s]\n",
            "100%|██████████| 3125/3125 [00:06<00:00, 456.13it/s]\n",
            "100%|██████████| 3125/3125 [00:06<00:00, 452.03it/s]\n",
            "100%|██████████| 3125/3125 [00:06<00:00, 461.14it/s]\n",
            "100%|██████████| 3125/3125 [00:06<00:00, 449.96it/s]\n",
            "100%|██████████| 3125/3125 [00:06<00:00, 469.45it/s]\n",
            "100%|██████████| 3125/3125 [00:06<00:00, 463.79it/s]\n",
            "100%|██████████| 3125/3125 [00:06<00:00, 459.58it/s]\n",
            "100%|██████████| 3125/3125 [00:06<00:00, 463.42it/s]\n",
            "100%|██████████| 3125/3125 [00:06<00:00, 467.94it/s]\n",
            "100%|██████████| 3125/3125 [00:06<00:00, 470.05it/s]\n",
            "100%|██████████| 3125/3125 [00:06<00:00, 465.90it/s]\n",
            "100%|██████████| 3125/3125 [00:06<00:00, 469.76it/s]\n",
            "100%|██████████| 3125/3125 [00:06<00:00, 452.36it/s]\n",
            "100%|██████████| 3125/3125 [00:07<00:00, 442.43it/s]\n",
            "100%|██████████| 3125/3125 [00:06<00:00, 452.67it/s]\n",
            "100%|██████████| 3125/3125 [00:06<00:00, 452.38it/s]\n",
            "100%|██████████| 3125/3125 [00:06<00:00, 468.30it/s]\n",
            "100%|██████████| 3125/3125 [00:07<00:00, 439.24it/s]\n",
            "100%|██████████| 3125/3125 [00:07<00:00, 436.37it/s]\n",
            "100%|██████████| 3125/3125 [00:07<00:00, 442.19it/s]\n",
            "100%|██████████| 3125/3125 [00:07<00:00, 439.86it/s]\n",
            "100%|██████████| 3125/3125 [00:07<00:00, 432.38it/s]\n",
            "100%|██████████| 3125/3125 [00:07<00:00, 436.03it/s]\n",
            "100%|██████████| 3125/3125 [00:07<00:00, 434.47it/s]\n",
            "100%|██████████| 3125/3125 [00:07<00:00, 439.34it/s]\n",
            "100%|██████████| 3125/3125 [00:06<00:00, 453.49it/s]\n",
            "100%|██████████| 3125/3125 [00:06<00:00, 446.90it/s]\n",
            "100%|██████████| 3125/3125 [00:06<00:00, 476.70it/s]\n",
            "100%|██████████| 3125/3125 [00:06<00:00, 488.47it/s]\n",
            "100%|██████████| 3125/3125 [00:06<00:00, 489.14it/s]\n",
            "100%|██████████| 3125/3125 [00:06<00:00, 470.89it/s]\n",
            "100%|██████████| 3125/3125 [00:06<00:00, 471.36it/s]\n",
            "100%|██████████| 3125/3125 [00:06<00:00, 479.83it/s]\n",
            "100%|██████████| 3125/3125 [00:06<00:00, 475.53it/s]\n",
            "100%|██████████| 3125/3125 [00:06<00:00, 480.00it/s]\n",
            "100%|██████████| 3125/3125 [00:06<00:00, 492.93it/s]\n",
            "100%|██████████| 3125/3125 [00:06<00:00, 489.40it/s]\n",
            "100%|██████████| 3125/3125 [00:06<00:00, 458.01it/s]\n",
            "100%|██████████| 3125/3125 [00:06<00:00, 459.64it/s]\n",
            "100%|██████████| 3125/3125 [00:06<00:00, 447.01it/s]\n",
            "100%|██████████| 3125/3125 [00:07<00:00, 444.03it/s]\n",
            "100%|██████████| 3125/3125 [00:06<00:00, 452.42it/s]\n",
            "100%|██████████| 3125/3125 [00:06<00:00, 454.68it/s]\n",
            "100%|██████████| 3125/3125 [00:06<00:00, 454.89it/s]\n",
            "100%|██████████| 3125/3125 [00:06<00:00, 463.65it/s]\n",
            "100%|██████████| 3125/3125 [00:06<00:00, 456.21it/s]\n",
            "100%|██████████| 3125/3125 [00:06<00:00, 452.67it/s]\n"
          ],
          "name": "stderr"
        }
      ]
    },
    {
      "cell_type": "code",
      "metadata": {
        "id": "1f37BenQbGtU",
        "outputId": "0094c682-9670-4ffd-f9b1-abeb8df03de0",
        "colab": {
          "base_uri": "https://localhost:8080/",
          "height": 282
        }
      },
      "source": [
        "cross_train_errors = np.array(cross_train_errors)/len(x_train)\n",
        "cross_val_errors = np.array(cross_val_errors)/len(x_valid)\n",
        "plt.plot(cross_train_errors)\n",
        "plt.plot(cross_val_errors)\n",
        "plt.legend([\"train_error\",\"val_error\"])"
      ],
      "execution_count": 24,
      "outputs": [
        {
          "output_type": "execute_result",
          "data": {
            "text/plain": [
              "<matplotlib.legend.Legend at 0x7fd146232810>"
            ]
          },
          "metadata": {
            "tags": []
          },
          "execution_count": 24
        },
        {
          "output_type": "display_data",
          "data": {
            "image/png": "[encoded data removed]",
            "text/plain": [
              "<Figure size 432x288 with 1 Axes>"
            ]
          },
          "metadata": {
            "tags": [],
            "needs_background": "light"
          }
        }
      ]
    },
    {
      "cell_type": "markdown",
      "metadata": {
        "id": "O5wj8OA8gwqq"
      },
      "source": [
        "We can see that the error is very close to 0"
      ]
    },
    {
      "cell_type": "code",
      "metadata": {
        "id": "e9QqZPvMgZiZ",
        "outputId": "2498e2f1-6472-43e5-e064-90bdf79d35ab",
        "colab": {
          "base_uri": "https://localhost:8080/"
        }
      },
      "source": [
        "val_predictions_cross = Net_cross_entropy.forward(x_valid)\n",
        "train_predictions_cross = Net_cross_entropy.forward(x_train)\n",
        "\n",
        "print(\"Average train error:\")\n",
        "print(Cross_Entropy_Error.forward(train_predictions_cross,y_train)/len(x_train))\n",
        "\n",
        "print(\"Average validation error:\")\n",
        "print(Cross_Entropy_Error.forward(val_predictions_cross,y_valid)/len(x_valid))"
      ],
      "execution_count": 27,
      "outputs": [
        {
          "output_type": "stream",
          "text": [
            "Average train error:\n",
            "-0.0762394653444278\n",
            "Average validation error:\n",
            "-0.20434945758653003\n"
          ],
          "name": "stdout"
        }
      ]
    },
    {
      "cell_type": "markdown",
      "metadata": {
        "id": "zZb_5Pzpr8WT"
      },
      "source": [
        "### 3 layers MLP\n",
        "Add a parameter to vary the size of the intermediate layer. Use a MLP with 3 layers and parameters for the sizes of the two intermediate layers."
      ]
    },
    {
      "cell_type": "code",
      "metadata": {
        "id": "nJWE3-aur_cy"
      },
      "source": [
        "class three_layer_MLP(Module):\n",
        "\n",
        "    def __init__(self, num_classes=10, intermediate_layer_size = (64, 64)):\n",
        "        super(three_layer_MLP, self).__init__()\n",
        "        hidden_layer1, hidden_layer2 = intermediate_layer_size\n",
        "        self.fc1 = Linear(784, hidden_layer1)\n",
        "        self.relu1 = ReLU()\n",
        "        self.fc2 = Linear(hidden_layer1, hidden_layer2)\n",
        "        self.fc3 = Linear(hidden_layer2, 10)\n",
        "    \n",
        "    def forward(self, x):\n",
        "        x = self.fc1.forward(x)\n",
        "        x = self.relu1.forward(x)\n",
        "        x = self.fc2.forward(x)\n",
        "        x = self.fc3.forward(x)\n",
        "        return x\n",
        "    \n",
        "    def backward(self, x, gradient):\n",
        "        gradient = self.fc3.backward(self.fc2.output,gradient)\n",
        "        gradient = self.fc2.backward(self.relu1.output,gradient)\n",
        "        gradient = self.relu1.backward(self.fc1.output,gradient)\n",
        "        gradient = self.fc1.backward(x,gradient)\n",
        "        return gradient\n",
        "    \n",
        "    def gradientStep(self,lr):\n",
        "        self.fc3.gradientStep(lr)\n",
        "        self.fc2.gradientStep(lr)\n",
        "        self.fc1.gradientStep(lr)\n",
        "        return True"
      ],
      "execution_count": 29,
      "outputs": []
    },
    {
      "cell_type": "code",
      "metadata": {
        "id": "yCjECuyPgOYV",
        "outputId": "7021e66d-00d1-4fc2-fe72-b3c5cf545a90",
        "colab": {
          "base_uri": "https://localhost:8080/"
        }
      },
      "source": [
        "three_layer_Net = three_layer_MLP()\n",
        "three_layer_Error = LeastSquareCriterion()\n",
        "\n",
        "n_iter = 50\n",
        "lr = 0.001\n",
        "batch_size = 16\n",
        "\n",
        "three_layer_train_errors = []\n",
        "three_layer_val_errors = []\n",
        "for epoch in range(n_iter):\n",
        "  #print(str(epoch) + \" epoch\")\n",
        "  if (epoch%10 == 0):\n",
        "    #write your code here\n",
        "    val_forward = three_layer_Net.forward(x_valid)\n",
        "    val_loss = three_layer_Error.forward(val_forward, y_valid)\n",
        "    three_layer_val_errors.append(val_loss)\n",
        "\n",
        "    train_forward = three_layer_Net.forward(x_train)\n",
        "    train_loss = three_layer_Error.forward(train_forward, y_train)\n",
        "    three_layer_train_errors.append(train_loss)\n",
        "\n",
        "  for i in tqdm(range(0,len(x_train),batch_size)):\n",
        "    #write your code here\n",
        "    if i==0:\n",
        "      continue\n",
        "    index = np.arange(i-batch_size,i)\n",
        "    x_forward = three_layer_Net.forward(x_train[index])\n",
        "    grad_loss = three_layer_Error.backward(x_forward, y_train[index])\n",
        "    three_layer_Net.backward(x_train[index], grad_loss)\n",
        "    three_layer_Net.gradientStep(lr)"
      ],
      "execution_count": 30,
      "outputs": [
        {
          "output_type": "stream",
          "text": [
            "100%|██████████| 3125/3125 [00:04<00:00, 725.96it/s]\n",
            "100%|██████████| 3125/3125 [00:04<00:00, 749.66it/s]\n",
            "100%|██████████| 3125/3125 [00:04<00:00, 731.72it/s]\n",
            "100%|██████████| 3125/3125 [00:04<00:00, 748.47it/s]\n",
            "100%|██████████| 3125/3125 [00:04<00:00, 747.08it/s]\n",
            "100%|██████████| 3125/3125 [00:04<00:00, 739.16it/s]\n",
            "100%|██████████| 3125/3125 [00:04<00:00, 743.36it/s]\n",
            "100%|██████████| 3125/3125 [00:04<00:00, 750.76it/s]\n",
            "100%|██████████| 3125/3125 [00:04<00:00, 762.56it/s]\n",
            "100%|██████████| 3125/3125 [00:04<00:00, 747.02it/s]\n",
            "100%|██████████| 3125/3125 [00:04<00:00, 754.16it/s]\n",
            "100%|██████████| 3125/3125 [00:04<00:00, 762.00it/s]\n",
            "100%|██████████| 3125/3125 [00:04<00:00, 742.98it/s]\n",
            "100%|██████████| 3125/3125 [00:04<00:00, 739.68it/s]\n",
            "100%|██████████| 3125/3125 [00:04<00:00, 743.37it/s]\n",
            "100%|██████████| 3125/3125 [00:04<00:00, 734.11it/s]\n",
            "100%|██████████| 3125/3125 [00:04<00:00, 760.97it/s]\n",
            "100%|██████████| 3125/3125 [00:04<00:00, 743.58it/s]\n",
            "100%|██████████| 3125/3125 [00:04<00:00, 749.12it/s]\n",
            "100%|██████████| 3125/3125 [00:04<00:00, 752.04it/s]\n",
            "100%|██████████| 3125/3125 [00:04<00:00, 746.54it/s]\n",
            "100%|██████████| 3125/3125 [00:04<00:00, 743.19it/s]\n",
            "100%|██████████| 3125/3125 [00:04<00:00, 765.18it/s]\n",
            "100%|██████████| 3125/3125 [00:04<00:00, 758.48it/s]\n",
            "100%|██████████| 3125/3125 [00:04<00:00, 723.98it/s]\n",
            "100%|██████████| 3125/3125 [00:04<00:00, 760.36it/s]\n",
            "100%|██████████| 3125/3125 [00:04<00:00, 749.98it/s]\n",
            "100%|██████████| 3125/3125 [00:04<00:00, 744.98it/s]\n",
            "100%|██████████| 3125/3125 [00:04<00:00, 742.46it/s]\n",
            "100%|██████████| 3125/3125 [00:04<00:00, 726.94it/s]\n",
            "100%|██████████| 3125/3125 [00:04<00:00, 738.31it/s]\n",
            "100%|██████████| 3125/3125 [00:04<00:00, 743.57it/s]\n",
            "100%|██████████| 3125/3125 [00:04<00:00, 751.55it/s]\n",
            "100%|██████████| 3125/3125 [00:04<00:00, 742.63it/s]\n",
            "100%|██████████| 3125/3125 [00:04<00:00, 754.03it/s]\n",
            "100%|██████████| 3125/3125 [00:04<00:00, 730.16it/s]\n",
            "100%|██████████| 3125/3125 [00:04<00:00, 747.08it/s]\n",
            "100%|██████████| 3125/3125 [00:04<00:00, 735.35it/s]\n",
            "100%|██████████| 3125/3125 [00:04<00:00, 730.98it/s]\n",
            "100%|██████████| 3125/3125 [00:04<00:00, 748.51it/s]\n",
            "100%|██████████| 3125/3125 [00:04<00:00, 754.76it/s]\n",
            "100%|██████████| 3125/3125 [00:04<00:00, 758.92it/s]\n",
            "100%|██████████| 3125/3125 [00:04<00:00, 747.20it/s]\n",
            "100%|██████████| 3125/3125 [00:04<00:00, 737.73it/s]\n",
            "100%|██████████| 3125/3125 [00:04<00:00, 746.55it/s]\n",
            "100%|██████████| 3125/3125 [00:04<00:00, 747.50it/s]\n",
            "100%|██████████| 3125/3125 [00:04<00:00, 761.76it/s]\n",
            "100%|██████████| 3125/3125 [00:04<00:00, 761.78it/s]\n",
            "100%|██████████| 3125/3125 [00:04<00:00, 773.80it/s]\n",
            "100%|██████████| 3125/3125 [00:04<00:00, 763.39it/s]\n"
          ],
          "name": "stderr"
        }
      ]
    },
    {
      "cell_type": "code",
      "metadata": {
        "id": "cXN1ebZxhfbS",
        "outputId": "39eec0fb-2188-4c02-b124-420cfa9ada1d",
        "colab": {
          "base_uri": "https://localhost:8080/",
          "height": 282
        }
      },
      "source": [
        "three_layer_train_errors = np.array(three_layer_train_errors)/len(x_train)\n",
        "three_layer_val_errors = np.array(three_layer_val_errors)/len(x_valid)\n",
        "plt.plot(three_layer_train_errors)\n",
        "plt.plot(three_layer_val_errors)\n",
        "plt.legend([\"train_error\",\"val_error\"])"
      ],
      "execution_count": 31,
      "outputs": [
        {
          "output_type": "execute_result",
          "data": {
            "text/plain": [
              "<matplotlib.legend.Legend at 0x7fd145a85a10>"
            ]
          },
          "metadata": {
            "tags": []
          },
          "execution_count": 31
        },
        {
          "output_type": "display_data",
          "data": {
            "image/png": "[encoded data removed]",
            "text/plain": [
              "<Figure size 432x288 with 1 Axes>"
            ]
          },
          "metadata": {
            "tags": [],
            "needs_background": "light"
          }
        }
      ]
    },
    {
      "cell_type": "code",
      "metadata": {
        "id": "YVNJdyPKh5px",
        "outputId": "f3921904-7551-4913-ae2b-0741eedc3a3e",
        "colab": {
          "base_uri": "https://localhost:8080/"
        }
      },
      "source": [
        "three_layer_val_predictions = three_layer_Net.forward(x_valid)\n",
        "three_layer_train_predictions = three_layer_Net.forward(x_train)\n",
        "\n",
        "print(\"Average train error:\")\n",
        "print(three_layer_Error.forward(three_layer_train_predictions,y_train)/len(x_train))\n",
        "\n",
        "print(\"Average validation error:\")\n",
        "print(three_layer_Error.forward(three_layer_val_predictions,y_valid)/len(x_valid))"
      ],
      "execution_count": 33,
      "outputs": [
        {
          "output_type": "stream",
          "text": [
            "Average train error:\n",
            "0.08251902107985822\n",
            "Average validation error:\n",
            "0.09507580602599279\n"
          ],
          "name": "stdout"
        }
      ]
    },
    {
      "cell_type": "code",
      "metadata": {
        "id": "mTH9kJgeia1H"
      },
      "source": [
        ""
      ],
      "execution_count": null,
      "outputs": []
    }
  ]
}