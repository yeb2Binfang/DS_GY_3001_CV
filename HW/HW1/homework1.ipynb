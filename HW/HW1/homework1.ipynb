{
  "nbformat": 4,
  "nbformat_minor": 0,
  "metadata": {
    "kernelspec": {
      "display_name": "Python [conda env:python3]",
      "language": "python",
      "name": "conda-env-python3-py"
    },
    "language_info": {
      "codemirror_mode": {
        "name": "ipython",
        "version": 3
      },
      "file_extension": ".py",
      "mimetype": "text/x-python",
      "name": "python",
      "nbconvert_exporter": "python",
      "pygments_lexer": "ipython3",
      "version": "3.6.7"
    },
    "colab": {
      "name": "homework1.ipynb",
      "provenance": [],
      "include_colab_link": true
    }
  },
  "cells": [
    {
      "cell_type": "markdown",
      "metadata": {
        "id": "view-in-github",
        "colab_type": "text"
      },
      "source": [
        "<a href=\"https://colab.research.google.com/github/yeb2Binfang/DS_GY_3001_CV/blob/main/HW/HW1/homework1.ipynb\" target=\"_parent\"><img src=\"https://colab.research.google.com/assets/colab-badge.svg\" alt=\"Open In Colab\"/></a>"
      ]
    },
    {
      "cell_type": "markdown",
      "metadata": {
        "id": "gRR1q3CVDE7K"
      },
      "source": [
        "## Homework 1: camera calibration\n",
        "\n",
        "**Due date:** October 1st 2019\n",
        "\n",
        "The goal of the assignment is to implement the linear calibration method described in Section 1.3.1 of this [book chapter](https://www.di.ens.fr/%7Eponce/introvis/sbook.pdf).\n",
        "\n",
        "![calibration-image](img/calibration.jpg)\n",
        "\n",
        "**Detailed instructions:** The `pts2d` array contains in its columns the (u,v) positions of the image data points (with, by convention, the u and v coordinates with origin at the bottom left of the image, u going right and v going up), while the `pts3d` array contains in its columns the (x,y,z) coordinate vectors of the corresponding 3D points in a right-handed coordinate system. The origin of the world coordinate system is supposed to be in front of the camera, with negative z value.\n",
        "\n",
        "You should write functions that:\n",
        "* Compute the 3x4 projection matrix  M estimated from these data using the linear least-squares method of Sec. 1.3.1.\n",
        "* Compute the corresponding matrix K of intrinsic parameters using the method from M using the method described in the same section.\n",
        "* Draw together the input image points and the projection of the 3D data points obtained using M to generate a figure like Fig. 1.18, and estimate the root-mean-sqared reprojection error.\n",
        "\n",
        "You should also write short explanations describing your work and reporting your results."
      ]
    },
    {
      "cell_type": "code",
      "metadata": {
        "id": "UTNMYSzYDE7M"
      },
      "source": [
        "import numpy as np\n",
        "\n",
        "pts2d = np.loadtxt(\"pts2d.txt\")\n",
        "pts3d = np.loadtxt(\"pts3d.txt\")"
      ],
      "execution_count": null,
      "outputs": []
    }
  ]
}