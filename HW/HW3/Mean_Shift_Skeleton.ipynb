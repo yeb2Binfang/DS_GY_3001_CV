{
  "nbformat": 4,
  "nbformat_minor": 0,
  "metadata": {
    "colab": {
      "name": "Mean_Shift_Skeleton.ipynb",
      "provenance": [],
      "collapsed_sections": [],
      "include_colab_link": true
    },
    "kernelspec": {
      "name": "python3",
      "display_name": "Python 3"
    },
    "language_info": {
      "name": "python"
    }
  },
  "cells": [
    {
      "cell_type": "markdown",
      "metadata": {
        "id": "view-in-github",
        "colab_type": "text"
      },
      "source": [
        "<a href=\"https://colab.research.google.com/github/yeb2Binfang/DS_GY_3001_CV/blob/main/HW/HW3/Mean_Shift_Skeleton.ipynb\" target=\"_parent\"><img src=\"https://colab.research.google.com/assets/colab-badge.svg\" alt=\"Open In Colab\"/></a>"
      ]
    },
    {
      "cell_type": "markdown",
      "metadata": {
        "id": "XfplMFsH_g-b"
      },
      "source": [
        "# Homework 3: Mean Shift\n",
        "\n",
        "The goal of the assignment is to implement the mean shift algorithm and use it for image segmentation. You should return the completed notebook, including answers and illustrations. \n"
      ]
    },
    {
      "cell_type": "markdown",
      "metadata": {
        "id": "yJ1S9WKl_1qH"
      },
      "source": [
        "# **Part 1: mean shift on synthetic data**\n",
        "\n",
        "* Generate a synthetic dataset of 100 2D points, containing 60 points sampled from a Gaussian distribution of unit covariance centered in (0,0) and 40 points sampled from a Gaussian with unit covariance centered in (2,1). Visualize your data.\n",
        "* Implement a function that computes $G(x) = g(\\|x\\|^2/h^2)$ where $x \\in \\mathbb R^d$, $h$ is a bandwidth parameter and $g$ is the negative derivative of the Gaussian kernel or of the Epanechnikov kernel (see eq. 5.36 in Szeliski).  Plot $G(x)$ for $d=1$.\n",
        "* Implement a function `MS_step` that takes as input a starting point `x`, a set of data points `data`, and a bandwidth `h` and returns the updated position of the point `x` after one step of the mean-shift algorithm.\n",
        "* Implement the function `MS_point` which iterates `MS_step` until convergence (i.e., when the estimate changes by less than a small constant). Test it on your synthetic data and visualize the results.\n",
        "* Implement the full mean shift algorithm by iterating `MS_point` on all the points, and merging modes which distance is less than some constant. It must return a list of the modes and a label (corresponding to a mode) for each point. Visualize your results.\n",
        "* Modify the previous code by allowing for a \"bandwidth vector\" $h \\in \\mathbb R^d$ that defines a different scale for each dimension of the input (this is because for segmentation we will use a different bandwidth for space and color). Note that you should also modify the convergence and merging conditions to consider this non-isotropic scaling.\n",
        "* Experiment with your code by changing the data distribution, the kernel, and and bandwidth vector.\n",
        "\n"
      ]
    },
    {
      "cell_type": "code",
      "metadata": {
        "id": "SLPveJJl-heL"
      },
      "source": [
        "import numpy as np \n",
        "import matplotlib.pyplot as plt \n",
        "%matplotlib inline \n",
        "import scipy.ndimage as ndimage\n",
        "plt.rcParams['image.cmap'] = 'gray' "
      ],
      "execution_count": null,
      "outputs": []
    },
    {
      "cell_type": "code",
      "metadata": {
        "id": "6QHfYKeR-tb7",
        "colab": {
          "base_uri": "https://localhost:8080/",
          "height": 281
        },
        "outputId": "989e1527-a767-4014-efb1-664ba56c174a"
      },
      "source": [
        "# Generate a synthetic dataset of 100 2D points, containing 60 points sampled \n",
        "# from a Gaussian distribution of unit covariance centered in (0,0) and 40 points \n",
        "# sampled from a Gaussian with unit covariance centered in (2,1). Visualize your data.\n",
        "\n",
        "mean1 = [0, 0]\n",
        "mean2 = [4, 4]\n",
        "cov1= [[1, 0], [0, 1]]\n",
        "cov2= [[1, 0], [0, 1]]\n",
        "x1, y1 = np.random.multivariate_normal(mean1, cov1, 50).T\n",
        "x2, y2 = np.random.multivariate_normal(mean2, cov2, 50).T\n",
        "plt.plot(x1, y1, 'x')\n",
        "plt.plot(x2, y2, 'x')\n",
        "plt.axis('equal')\n",
        "plt.show()\n",
        "\n",
        "\n",
        "data = np.concatenate((np.array([x1,y1]).T,np.array([x2,y2]).T))\n",
        "\n",
        "# Implement a function that computes $G(x) = g(\\|x\\|^2/h^2)$ where \n",
        "# $x \\in \\mathbb R^d$, $h$ is a bandwidth parameter and $g$ is the negative \n",
        "# derivative of the Gaussian kernel or of the Epanechnikov kernel \n",
        "# (see eq. 5.36 in Szeliski).  Plot $G(x)$ for $d=1$.\n",
        "\n",
        "# TODO: \n",
        "def gaussian_g(r):\n",
        "    # insert your code here\n",
        "    return result\n",
        "\n",
        "def kernel(z,bandwidths):\n",
        "    # insert your code here\n",
        "    return result\n",
        "\n",
        "'''\n",
        "# TODO uncomment when completed gaussian_g and kernel\n",
        "x = np.linspace(-5,5,100)\n",
        "h = 1\n",
        "g = gaussian_g\n",
        "y = [kernel(xi,np.array([h])) for xi in x]\n",
        "# plot your graph here\n",
        "'''"
      ],
      "execution_count": null,
      "outputs": [
        {
          "output_type": "display_data",
          "data": {
            "image/png": "[encoded data removed]",
            "text/plain": [
              "<Figure size 432x288 with 1 Axes>"
            ]
          },
          "metadata": {
            "tags": [],
            "needs_background": "light"
          }
        },
        {
          "output_type": "execute_result",
          "data": {
            "application/vnd.google.colaboratory.intrinsic+json": {
              "type": "string"
            },
            "text/plain": [
              "'\\n# TODO uncomment when completed gaussian_g and kernel\\nx = np.linspace(-5,5,100)\\nh = 1\\ng = gaussian_g\\ny = [kernel(xi,np.array([h])) for xi in x]\\n# plot your graph here\\n'"
            ]
          },
          "metadata": {
            "tags": []
          },
          "execution_count": 12
        }
      ]
    },
    {
      "cell_type": "code",
      "metadata": {
        "id": "aXgXT-W1AYNC",
        "colab": {
          "base_uri": "https://localhost:8080/",
          "height": 50
        },
        "outputId": "189ac227-f179-433e-f1a1-fac2fe160900"
      },
      "source": [
        "MIN_DISTANCE = 0.00001\n",
        "GROUP_DISTANCE_TOLERANCE = .005\n",
        "bandwidths = np.array([2,2])\n",
        "g = gaussian_g\n",
        "\n",
        "def MS_step(x, data, bandwidths):\n",
        "    # TODO: Implement a function `MS_step` that takes as input a starting point `x`,\n",
        "    # a set of data points `data`, and a bandwidth `h` and returns the updated \n",
        "    # position of the point `x` after one step of the mean-shift algorithm.\n",
        "\n",
        "    # insert your code here\n",
        "    return shifted_point\n",
        "\n",
        "def find_distance_to_group(point, group, bandwidths):\n",
        "    # find shortest distance from point to a set of points in group \n",
        "    # insert your code here\n",
        "    return min_distance\n",
        "\n",
        "def determine_nearest_group(point,groups,bandwidths):\n",
        "    # find points group closes to point\n",
        "    # insert your code here\n",
        "    return nearest_group_index\n",
        "\n",
        "def group_points(points, bandwidths):\n",
        "    # merge points array to nearest group, if it exists\n",
        "    # insert your code here\n",
        "    return group_assignment_array\n",
        "\n",
        "def find_modes(points,assignments):\n",
        "    # find modes\n",
        "    # insert your code here\n",
        "    return modes\n",
        "    \n",
        "def MS_point(data,bandwidths):\n",
        "    # Implement the function `MS_point` which iterates `MS_step` until convergence\n",
        "    #  (i.e., when the estimate changes by less than a small constant). Test it on \n",
        "    # your synthetic data and visualize the results.\n",
        "\n",
        "\n",
        "    # insert your code here\n",
        "    return data_dynamic\n",
        "\n",
        "'''\n",
        "# TODO: uncomment when completed above functions\n",
        "data_new = MS_point(data,bandwidths)\n",
        "# plot your graph here\n",
        "\n",
        "assignment = group_points(data_new,bandwidths)\n",
        "modes = find_modes(data_new,assignment)\n",
        "# plot your graph here\n",
        "'''"
      ],
      "execution_count": null,
      "outputs": [
        {
          "output_type": "execute_result",
          "data": {
            "application/vnd.google.colaboratory.intrinsic+json": {
              "type": "string"
            },
            "text/plain": [
              "'\\n# TODO: uncomment when completed above functions\\ndata_new = MS_point(data,bandwidths)\\n# plot your graph here\\n\\nassignment = group_points(data_new,bandwidths)\\nmodes = find_modes(data_new,assignment)\\n# plot your graph here\\n'"
            ]
          },
          "metadata": {
            "tags": []
          },
          "execution_count": 13
        }
      ]
    },
    {
      "cell_type": "markdown",
      "metadata": {
        "id": "xW72pgmwCkhX"
      },
      "source": [
        "# **Part 2: mean shift for image segmentation**\n",
        "\n",
        "* For image segmentation, we will use the \"Lab\" color space because it because it approximates the way humans perceive color better than RGB. Load the image `veggies_small.jpg`, and convert it to the Lab colorspace using the command `rgb2lab`. What are the range of the colorvalues in Lab? \n",
        "* Convert the (N,M,3) image into an (NM,5) matrix incuding color and position information for each point (tip: use the np.meshgrid function). What would do you think is a good choice for a bandwidth vector $h$?\n",
        "* 3: Use the MS_point function from the previous section to compute a meaningful segmentation of the image. Visualize the results as an image by replacing the color values of the pixels associated to each mode by the color of the mode. You can also try our algorithm on different (small) images."
      ]
    },
    {
      "cell_type": "code",
      "metadata": {
        "id": "3wdd88GcCo3t",
        "colab": {
          "base_uri": "https://localhost:8080/",
          "height": 100
        },
        "outputId": "cfbbf163-dbcb-444e-e7d7-1df1068cb016"
      },
      "source": [
        "'''\n",
        "# TODO uncomment when completed\n",
        "#name = 'veggies_small.jpg'\n",
        "#img = plt.imread(name)\n",
        "# lab = # TODO convert image from rgb to lab color space rgb2lab(img) (HINT: check skimage.color)\n",
        "#plt.figure(figsize=(8,8)) # this allows you to control the size of the displayed image\n",
        "#plt.imshow(img)\n",
        "\n",
        "xdim = lab.shape[1]\n",
        "ydim = lab.shape[0]\n",
        "lab.shape\n",
        "xv, yv = np.meshgrid(list(range(xdim)), list(range(ydim)))\n",
        "\n",
        "# Convert the (N,M,3) image into an (NM,5) matrix incuding color and position \n",
        "# information for each point (tip: use the np.meshgrid function). What would do \n",
        "# you think is a good choice for a bandwidth vector $h$?\n",
        "data = np.zeros((xdim*ydim,5))\n",
        "for i in range(xdim):\n",
        "    for j in range(ydim):\n",
        "        # TODO insert your code here\n",
        "'''"
      ],
      "execution_count": null,
      "outputs": [
        {
          "output_type": "execute_result",
          "data": {
            "application/vnd.google.colaboratory.intrinsic+json": {
              "type": "string"
            },
            "text/plain": [
              "\"\\n# TODO uncomment when completed\\n#name = 'veggies_small.jpg'\\n#img = plt.imread(name)\\n# lab = # TODO convert image from rgb to lab color space rgb2lab(img) (HINT: check skimage.color)\\n#plt.figure(figsize=(8,8)) # this allows you to control the size of the displayed image\\n#plt.imshow(img)\\n\\nxdim = lab.shape[1]\\nydim = lab.shape[0]\\nlab.shape\\nxv, yv = np.meshgrid(list(range(xdim)), list(range(ydim)))\\n\\n# Convert the (N,M,3) image into an (NM,5) matrix incuding color and position \\n# information for each point (tip: use the np.meshgrid function). What would do \\n# you think is a good choice for a bandwidth vector $h$?\\ndata = np.zeros((xdim*ydim,5))\\nfor i in range(xdim):\\n    for j in range(ydim):\\n        # TODO insert your code here\\n\""
            ]
          },
          "metadata": {
            "tags": []
          },
          "execution_count": 14
        }
      ]
    },
    {
      "cell_type": "code",
      "metadata": {
        "id": "Tth331uwDCqM",
        "colab": {
          "base_uri": "https://localhost:8080/",
          "height": 100
        },
        "outputId": "10a4a96f-5c8a-4313-dee4-7430c3751f56"
      },
      "source": [
        "'''\n",
        "# TODO: uncomment when completed \n",
        "def flat_g(r):\n",
        "    if r>1:\n",
        "        return 0\n",
        "    else:\n",
        "        return 1\n",
        "\n",
        "\n",
        "MIN_DISTANCE = .01\n",
        "GROUP_DISTANCE_TOLERANCE = 1\n",
        "bandwidths = np.array([10,10,10,5,5]) # flat\n",
        "g = flat_g\n",
        "\n",
        "# Use the MS function from the previous section to compute a meaningful \n",
        "# segmentation of the image. Visualize the results as an image by replacing the \n",
        "# color values of the pixels associated to each mode by the color of the mode. \n",
        "# You can also try our algorithm on different (small) images.\n",
        "\n",
        "data_new = MS_point(data,bandwidths)\n",
        "assignment = group_points(data_new,bandwidths)\n",
        "modes = find_modes(data_new,assignment)\n",
        "modes = modes[:,:3]\n",
        "\n",
        "assignment_r = assignment.reshape([xdim,ydim]).T\n",
        "lab_new = modes[assignment_r]\n",
        "\n",
        "img_new = lab2rgb(lab_new)\n",
        "plt.figure(figsize=(8,8)) # this allows you to control the size of the displayed image\n",
        "plt.imshow(img_new)\n",
        "'''"
      ],
      "execution_count": null,
      "outputs": [
        {
          "output_type": "execute_result",
          "data": {
            "application/vnd.google.colaboratory.intrinsic+json": {
              "type": "string"
            },
            "text/plain": [
              "'\\n# TODO: uncomment when completed \\ndef flat_g(r):\\n    if r>1:\\n        return 0\\n    else:\\n        return 1\\n\\n\\nMIN_DISTANCE = .01\\nGROUP_DISTANCE_TOLERANCE = 1\\nbandwidths = np.array([10,10,10,5,5]) # flat\\ng = flat_g\\n\\n# Use the MS function from the previous section to compute a meaningful \\n# segmentation of the image. Visualize the results as an image by replacing the \\n# color values of the pixels associated to each mode by the color of the mode. \\n# You can also try our algorithm on different (small) images.\\n\\ndata_new = MS_point(data,bandwidths)\\nassignment = group_points(data_new,bandwidths)\\nmodes = find_modes(data_new,assignment)\\nmodes = modes[:,:3]\\n\\nassignment_r = assignment.reshape([xdim,ydim]).T\\nlab_new = modes[assignment_r]\\n\\nimg_new = lab2rgb(lab_new)\\nplt.figure(figsize=(8,8)) # this allows you to control the size of the displayed image\\nplt.imshow(img_new)\\n'"
            ]
          },
          "metadata": {
            "tags": []
          },
          "execution_count": 15
        }
      ]
    }
  ]
}