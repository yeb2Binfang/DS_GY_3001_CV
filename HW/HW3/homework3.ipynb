{
  "nbformat": 4,
  "nbformat_minor": 0,
  "metadata": {
    "kernelspec": {
      "display_name": "Python 3",
      "language": "python",
      "name": "python3"
    },
    "language_info": {
      "codemirror_mode": {
        "name": "ipython",
        "version": 3
      },
      "file_extension": ".py",
      "mimetype": "text/x-python",
      "name": "python",
      "nbconvert_exporter": "python",
      "pygments_lexer": "ipython3",
      "version": "3.6.7"
    },
    "colab": {
      "name": "homework3.ipynb",
      "provenance": [],
      "include_colab_link": true
    }
  },
  "cells": [
    {
      "cell_type": "markdown",
      "metadata": {
        "id": "view-in-github",
        "colab_type": "text"
      },
      "source": [
        "<a href=\"https://colab.research.google.com/github/yeb2Binfang/DS_GY_3001_CV/blob/main/HW/HW3/homework3.ipynb\" target=\"_parent\"><img src=\"https://colab.research.google.com/assets/colab-badge.svg\" alt=\"Open In Colab\"/></a>"
      ]
    },
    {
      "cell_type": "markdown",
      "metadata": {
        "id": "flYvn26MOJ1E"
      },
      "source": [
        "## Homework 3: Mean Shift"
      ]
    },
    {
      "cell_type": "markdown",
      "metadata": {
        "id": "1708RsEQOJ1L"
      },
      "source": [
        "**Due date:** April 4th 2021\n",
        "\n",
        "The goal of the assignment is to implement the mean shift algorithm and use it for image segmentation. You should return the completed notebook, including answers and illustrations. \n",
        "\n",
        "\n",
        "**Part 1: mean shift on synthetic data**\n",
        "\n",
        "* Generate a synthetic dataset of 100 2D points, containing 60 points sampled from a Gaussian distribution of unit covariance centered in (0,0) and 40 points sampled from a Gaussian with unit covariance centered in (4,4). Visualize your data.\n",
        "* Implement a function that computes $G(x) = g(\\|x\\|^2/h^2)$ where $x \\in \\mathbb R^d$, $h$ is a bandwidth parameter and $g$ is the negative derivative of the Gaussian kernel or of the Epanechnikov kernel (see eq. 5.36 in Szeliski).  Plot $G(x)$ for $d=1$.\n",
        "* Implement a function `MS_step` that takes as input a starting point `x`, a set of data points `data`, and a bandwidth `h` and returns the updated position of the point `x` after one step of the mean-shift algorithm.\n",
        "* Implement the function `MS_point` which iterates `MS_step` until convergence (i.e., when the estimate changes by less than a small constant). Test it on your synthetic data and visualize the results.\n",
        "* Implement the full mean shift algorithm by iterating `MS_point` on all the points, and merging modes for which distance is less than some constant. It should return a list of the modes and a label (corresponding to a mode) for each point. Visualize your results.\n",
        "* Modify the previous code by allowing for a \"bandwidth vector\" $h \\in \\mathbb R^d$ that defines a different scale for each dimension of the input (this is because for segmentation we will use a different bandwidth for space and color). Note that you should also modify the convergence and merging conditions to consider this non-isotropic scaling.\n",
        "* Experiment with your code by changing the data distribution, the kernel, and and bandwidth vector.\n",
        "\n",
        "**Part 2: mean shift for image segmentation**\n",
        "\n",
        "* For image segmentation, we will use the \"Lab\" color space because it approximates the way humans perceive color better than RGB. Load the image `veggies_small.jpg`, and convert it to the Lab colorspace using the command `rgb2lab`. What is the range of the colorvalues in Lab? \n",
        "* Convert the (N,M,3) image into an (NM,5) matrix incuding color and position information for each point (tip: use the `np.meshgrid` function). What do you think might be a good choice for a bandwidth vector $h$?\n",
        "* Use your mean shift code from the previous section to compute a meaningful segmentation of the image. Visualize the results as an image by replacing the color values of the pixels associated with each mode by the color of the mode. You can also try our algorithm on other (small) images."
      ]
    },
    {
      "cell_type": "markdown",
      "metadata": {
        "id": "GM77x3HiOY6t"
      },
      "source": [
        "## Part 1: mean shift on synthetic data"
      ]
    },
    {
      "cell_type": "markdown",
      "metadata": {
        "id": "5QjSlq2_Oq5u"
      },
      "source": [
        "### 1. Generate synthetic data\n",
        "\n",
        "Generate a synthetic dataset of 100 2D points, containing 60 points sampled from a Gaussian distribution of unit covariance centered in (0,0) and 40 points sampled from a Gaussian with unit covariance centered in (4,4). Visualize your data."
      ]
    },
    {
      "cell_type": "code",
      "metadata": {
        "id": "dPFiWSW7Nu6L"
      },
      "source": [
        "import matplotlib.pyplot as plt\n",
        "import numpy as np"
      ],
      "execution_count": 1,
      "outputs": []
    },
    {
      "cell_type": "code",
      "metadata": {
        "id": "ymI__emfOaO0"
      },
      "source": [
        "mean1 = [0, 0]\n",
        "mean2 = [4, 4]\n",
        "cov = [[1, 0], [0, 1]]  # diagonal covariance"
      ],
      "execution_count": 2,
      "outputs": []
    },
    {
      "cell_type": "code",
      "metadata": {
        "id": "8bfrSME6Nvn9",
        "colab": {
          "base_uri": "https://localhost:8080/",
          "height": 265
        },
        "outputId": "649f193b-3e28-4375-d9ae-df43055693e3"
      },
      "source": [
        "x1, y1 = np.random.multivariate_normal(mean1, cov, 60).T\n",
        "x2, y2 = np.random.multivariate_normal(mean2, cov, 40).T\n",
        "plt.plot(x1, y1, 'x')\n",
        "plt.plot(x2, y2, 'x')\n",
        "plt.axis('equal')\n",
        "plt.show()"
      ],
      "execution_count": 3,
      "outputs": [
        {
          "output_type": "display_data",
          "data": {
            "image/png": "[encoded data removed]",
            "text/plain": [
              "<Figure size 432x288 with 1 Axes>"
            ]
          },
          "metadata": {
            "tags": [],
            "needs_background": "light"
          }
        }
      ]
    },
    {
      "cell_type": "markdown",
      "metadata": {
        "id": "DASvId6Wyee5"
      },
      "source": [
        "we concat data together"
      ]
    },
    {
      "cell_type": "code",
      "metadata": {
        "id": "3YvZrBC4ydxy"
      },
      "source": [
        "data = np.concatenate((np.array([x1,y1]).T,np.array([x2,y2]).T))"
      ],
      "execution_count": 4,
      "outputs": []
    },
    {
      "cell_type": "markdown",
      "metadata": {
        "id": "nwFidmi5O8Z3"
      },
      "source": [
        "### 2. Compute G(x)\n",
        "Implement a function that computes $G(x) = g(\\|x\\|^2/h^2)$ where $x \\in \\mathbb R^d$, $h$ is a bandwidth parameter and $g$ is the negative derivative of the Gaussian kernel or of the Epanechnikov kernel (see eq. 5.36 in Szeliski).  Plot $G(x)$ for $d=1$."
      ]
    },
    {
      "cell_type": "code",
      "metadata": {
        "id": "Xw2slBOMPMbo"
      },
      "source": [
        "def gaussian_g(r):\n",
        "    # insert your code here   \n",
        "    return np.exp(-0.5*r)\n",
        "\n",
        "def kernel(z,bandwidths):\n",
        "    # insert your code here\n",
        "    r = (z**2/bandwidths**2)\n",
        "    return g(r)"
      ],
      "execution_count": 5,
      "outputs": []
    },
    {
      "cell_type": "code",
      "metadata": {
        "colab": {
          "base_uri": "https://localhost:8080/",
          "height": 267
        },
        "id": "vcK-XqyUXqLP",
        "outputId": "12695979-7542-4cc5-f3fd-16aaef23c08b"
      },
      "source": [
        "x = np.linspace(-5,5,100)\n",
        "h = 1\n",
        "g = gaussian_g\n",
        "y = [kernel(xi,np.array([h])) for xi in x]\n",
        "plt.plot(x,y)\n",
        "plt.axis('equal')\n",
        "plt.show()"
      ],
      "execution_count": 6,
      "outputs": [
        {
          "output_type": "display_data",
          "data": {
            "image/png": "[encoded data removed]",
            "text/plain": [
              "<Figure size 432x288 with 1 Axes>"
            ]
          },
          "metadata": {
            "tags": [],
            "needs_background": "light"
          }
        }
      ]
    },
    {
      "cell_type": "code",
      "metadata": {
        "id": "tlDxChLUB_ab"
      },
      "source": [
        "def MS_step(x, data, bandwidths):\n",
        "    # TODO: Implement a function `MS_step` that takes as input a starting point `x`,\n",
        "    # a set of data points `data`, and a bandwidth `h` and returns the updated \n",
        "    # position of the point `x` after one step of the mean-shift algorithm.\n",
        "\n",
        "    # insert your code here\n",
        "    weights = np.zeros(data.shape[0])\n",
        "    for i in range(data.shape[0]): \n",
        "      dist = np.linalg.norm(data[i]-x) \n",
        "      dis[i] = dist\n",
        "      weights[i] = np.sum(kernel(dist,bandwidths[0]))\n",
        "    shifted_point = (data.T).dot(weights)/ sum(weights)\n",
        "    return shifted_point"
      ],
      "execution_count": 9,
      "outputs": []
    },
    {
      "cell_type": "code",
      "metadata": {
        "colab": {
          "base_uri": "https://localhost:8080/"
        },
        "id": "vqKFoRV6HMiK",
        "outputId": "a98d374f-83e1-448f-a071-78d0426ca2be"
      },
      "source": [
        "p = MS_step(data[0], data, bandwidths)\n",
        "print(p)"
      ],
      "execution_count": null,
      "outputs": [
        {
          "output_type": "stream",
          "text": [
            "[-0.09468583  0.13474506]\n"
          ],
          "name": "stdout"
        }
      ]
    },
    {
      "cell_type": "code",
      "metadata": {
        "id": "QRs0j-w8EHav"
      },
      "source": [
        "def MS_point(x, data, bandwidths):\n",
        "  pre_point = x\n",
        "  shifted_point = x\n",
        "  while True:\n",
        "    shifted_point = MS_step(x, data, bandwidths)\n",
        "    \n",
        "    if np.linalg.norm(pre_point-shifted_point)<0.0000000001:\n",
        "      break;\n",
        "    pre_point=shifted_point\n",
        "  return shifted_point"
      ],
      "execution_count": null,
      "outputs": []
    },
    {
      "cell_type": "code",
      "metadata": {
        "colab": {
          "base_uri": "https://localhost:8080/"
        },
        "id": "SsqonguKGujv",
        "outputId": "b387e187-420c-4674-b571-bf3e8abbc64c"
      },
      "source": [
        "p1 = MS_point(data[89], data, bandwidths)\n",
        "print(p1)\n",
        "print(data[89])"
      ],
      "execution_count": null,
      "outputs": [
        {
          "output_type": "stream",
          "text": [
            "[3.34917806 3.54207584]\n",
            "[3.05066571 3.95586536]\n"
          ],
          "name": "stdout"
        }
      ]
    },
    {
      "cell_type": "code",
      "metadata": {
        "colab": {
          "base_uri": "https://localhost:8080/",
          "height": 284
        },
        "id": "QhyD1JknITLO",
        "outputId": "6e30ada4-7af9-47b1-e426-fefa14ad47c3"
      },
      "source": [
        "plt.scatter(data[:,0],data[:,1])\n",
        "plt.scatter(data[89][0],data[89][1], color='g')\n",
        "plt.scatter(p1[0],p1[1],color='r')"
      ],
      "execution_count": null,
      "outputs": [
        {
          "output_type": "execute_result",
          "data": {
            "text/plain": [
              "<matplotlib.collections.PathCollection at 0x7fe9d3f91c50>"
            ]
          },
          "metadata": {
            "tags": []
          },
          "execution_count": 70
        },
        {
          "output_type": "display_data",
          "data": {
            "image/png": "[encoded data removed]",
            "text/plain": [
              "<Figure size 432x288 with 1 Axes>"
            ]
          },
          "metadata": {
            "tags": [],
            "needs_background": "light"
          }
        }
      ]
    },
    {
      "cell_type": "code",
      "metadata": {
        "id": "_A8bsKTcI74t"
      },
      "source": [
        "def ms_test(data):\n",
        "  centroid = []\n",
        "  for x in data:\n",
        "    shiftd = MS_point(x, data, bandwidths)"
      ],
      "execution_count": null,
      "outputs": []
    },
    {
      "cell_type": "markdown",
      "metadata": {
        "id": "gycz0jDvPAK2"
      },
      "source": [
        "### 3. Implement MS_step\n",
        "Implement a function `MS_step` that takes as input a starting point `x`, a set of data points `data`, and a bandwidth `h` and returns the updated position of the point `x` after one step of the mean-shift algorithm.\n"
      ]
    },
    {
      "cell_type": "code",
      "metadata": {
        "id": "gRJTLp7EJ8pe"
      },
      "source": [
        "def MS_step(x, data, bandwidths):\n",
        "    # TODO: Implement a function `MS_step` that takes as input a starting point `x`,\n",
        "    # a set of data points `data`, and a bandwidth `h` and returns the updated \n",
        "    # position of the point `x` after one step of the mean-shift algorithm.\n",
        "\n",
        "    # insert your code here\n",
        "    weights = np.zeros(data.shape[0])\n",
        "    for i in range(data.shape[0]): \n",
        "      dist = np.linalg.norm(data[i]-x) \n",
        "      weights[i] = np.sum(kernel(dist,bandwidths),axis=0)\n",
        "    shifted_point = (data.T).dot(weights)/ sum(weights)\n",
        "    return shifted_point"
      ],
      "execution_count": null,
      "outputs": []
    },
    {
      "cell_type": "code",
      "metadata": {
        "colab": {
          "base_uri": "https://localhost:8080/",
          "height": 52
        },
        "id": "omOQbIQ_LAbv",
        "outputId": "2ce65cd9-e0a6-4280-aa68-22a4f2c11496"
      },
      "source": [
        ""
      ],
      "execution_count": 7,
      "outputs": [
        {
          "output_type": "execute_result",
          "data": {
            "application/vnd.google.colaboratory.intrinsic+json": {
              "type": "string"
            },
            "text/plain": [
              "'\\n# TODO: uncomment when completed above functions\\ndata_new = MS_point(data,bandwidths)\\n# plot your graph here\\n\\nassignment = group_points(data_new,bandwidths)\\nmodes = find_modes(data_new,assignment)\\n# plot your graph here\\n'"
            ]
          },
          "metadata": {
            "tags": []
          },
          "execution_count": 7
        }
      ]
    },
    {
      "cell_type": "code",
      "metadata": {
        "id": "abKfsRHrcrZZ"
      },
      "source": [
        "#bandwidths = np.array([2,2])\n",
        "data_new = MS_point(data,bandwidths)"
      ],
      "execution_count": 8,
      "outputs": []
    },
    {
      "cell_type": "code",
      "metadata": {
        "id": "71GSeSnbS2tO",
        "outputId": "2460bf23-59a1-4da2-f9df-5b8e62500639",
        "colab": {
          "base_uri": "https://localhost:8080/"
        }
      },
      "source": [
        "print(data_new.shape)"
      ],
      "execution_count": 9,
      "outputs": [
        {
          "output_type": "stream",
          "text": [
            "(100, 2)\n"
          ],
          "name": "stdout"
        }
      ]
    },
    {
      "cell_type": "code",
      "metadata": {
        "colab": {
          "base_uri": "https://localhost:8080/",
          "height": 282
        },
        "id": "OdFN6fiieD7A",
        "outputId": "0dde65b9-8a00-43dc-f38f-bc5129704a32"
      },
      "source": [
        "#plt.scatter(data[:,0],data[:,1],color='b',marker='x')\n",
        "plt.scatter(data_new[:,0],data_new[:,1],color='r',marker='o')"
      ],
      "execution_count": 10,
      "outputs": [
        {
          "output_type": "execute_result",
          "data": {
            "text/plain": [
              "<matplotlib.collections.PathCollection at 0x7f726c2d4290>"
            ]
          },
          "metadata": {
            "tags": []
          },
          "execution_count": 10
        },
        {
          "output_type": "display_data",
          "data": {
            "image/png": "[encoded data removed]",
            "text/plain": [
              "<Figure size 432x288 with 1 Axes>"
            ]
          },
          "metadata": {
            "tags": [],
            "needs_background": "light"
          }
        }
      ]
    },
    {
      "cell_type": "code",
      "metadata": {
        "colab": {
          "base_uri": "https://localhost:8080/",
          "height": 282
        },
        "id": "6U8P-cZ_hxND",
        "outputId": "bb105652-2fb4-4653-d7ff-c30ab563bacf"
      },
      "source": [
        "plt.scatter(data[:,0],data[:,1],color='b',marker='x')\n",
        "plt.scatter(data_new[:,0],data_new[:,1],color='r',marker='o')"
      ],
      "execution_count": 11,
      "outputs": [
        {
          "output_type": "execute_result",
          "data": {
            "text/plain": [
              "<matplotlib.collections.PathCollection at 0x7f726bcf8150>"
            ]
          },
          "metadata": {
            "tags": []
          },
          "execution_count": 11
        },
        {
          "output_type": "display_data",
          "data": {
            "image/png": "[encoded data removed]",
            "text/plain": [
              "<Figure size 432x288 with 1 Axes>"
            ]
          },
          "metadata": {
            "tags": [],
            "needs_background": "light"
          }
        }
      ]
    },
    {
      "cell_type": "code",
      "metadata": {
        "id": "NBCbVB-qpf3A"
      },
      "source": [
        "assignment= group_points(data_new,bandwidths)"
      ],
      "execution_count": 12,
      "outputs": []
    },
    {
      "cell_type": "code",
      "metadata": {
        "id": "Dz6wH47CANoL"
      },
      "source": [
        "centroid = find_modes(data_new,assignment)"
      ],
      "execution_count": 16,
      "outputs": []
    },
    {
      "cell_type": "code",
      "metadata": {
        "id": "yYysEh5GFToC",
        "outputId": "e6abc578-7fa4-4631-84f8-6926638fd4f5",
        "colab": {
          "base_uri": "https://localhost:8080/"
        }
      },
      "source": [
        "print(centroid[0])"
      ],
      "execution_count": 18,
      "outputs": [
        {
          "output_type": "stream",
          "text": [
            "[-0.00212265  0.04439135]\n"
          ],
          "name": "stdout"
        }
      ]
    },
    {
      "cell_type": "code",
      "metadata": {
        "id": "Sp-XfUogG2Ff",
        "outputId": "0d4a7223-4048-45cc-9fee-7d5ce884e253",
        "colab": {
          "base_uri": "https://localhost:8080/",
          "height": 265
        }
      },
      "source": [
        "plt.scatter(data[:,0],data[:,1],color='g')\n",
        "for cen in centroid:\n",
        "  plt.scatter(cen[0], cen[1],marker='x',linewidths=5)"
      ],
      "execution_count": 27,
      "outputs": [
        {
          "output_type": "display_data",
          "data": {
            "image/png": "[encoded data removed]",
            "text/plain": [
              "<Figure size 432x288 with 1 Axes>"
            ]
          },
          "metadata": {
            "tags": [],
            "needs_background": "light"
          }
        }
      ]
    },
    {
      "cell_type": "markdown",
      "metadata": {
        "id": "h_pILLROPH3y"
      },
      "source": [
        "### 4. Implement MS_point"
      ]
    },
    {
      "cell_type": "code",
      "metadata": {
        "id": "s6FNQqd6KALM"
      },
      "source": [
        "def MS_point(data,bandwidths):\n",
        "    # Implement the function `MS_point` which iterates `MS_step` until convergence\n",
        "    #  (i.e., when the estimate changes by less than a small constant). Test it on \n",
        "    # your synthetic data and visualize the results.\n",
        "    data_temp = np.copy(data)\n",
        "    for x in data_temp:\n",
        "      while True:\n",
        "        x1 = MS_step(x,data,bandwidths)\n",
        "        delta = x-x1\n",
        "        dist = np.sum((delta*delta)/(bandwidths*bandwidths), axis=0)\n",
        "        \n",
        "        if dist < MIN_DISTANCE:\n",
        "          break\n",
        "        x[:] = x1\n",
        "    data_dynamic = data_temp\n",
        "    # insert your code here\n",
        "    return data_dynamic"
      ],
      "execution_count": null,
      "outputs": []
    },
    {
      "cell_type": "markdown",
      "metadata": {
        "id": "ZnzSQD0sPRC0"
      },
      "source": [
        "### 5. Mean shift algorithm "
      ]
    },
    {
      "cell_type": "code",
      "metadata": {
        "id": "r3X_JjZiKH72"
      },
      "source": [
        "MIN_DISTANCE = 0.00001\n",
        "GROUP_DISTANCE_TOLERANCE = .005\n",
        "bandwidths = np.array([2,2])\n",
        "g = gaussian_g\n",
        "\n",
        "\n",
        "\n",
        "\n",
        "def find_distance_to_group(point, group, bandwidths):\n",
        "    # find shortest distance from point to a set of points in group \n",
        "    # insert your code here\n",
        "    min_distance = np.inf\n",
        "    for group_pt in group:\n",
        "      diff = point - group_pt\n",
        "      dist = np.sum(diff*diff/(bandwidths*bandwidths))\n",
        "      if dist<min_distance:\n",
        "        min_distance = dist\n",
        "    return min_distance\n",
        "\n",
        "def determine_nearest_group(point,groups,bandwidths):\n",
        "    # find points group closes to point\n",
        "    # insert your code here\n",
        "    nearest_group_index = None\n",
        "    for index, group in enumerate(groups):\n",
        "      min_distance = find_distance_to_group(point,group,bandwidths)\n",
        "      #print(min_distance)\n",
        "      if min_distance<GROUP_DISTANCE_TOLERANCE:\n",
        "        min_temp = min_distance\n",
        "        nearest_group_index = index\n",
        "      #print(nearest_group_index)\n",
        "    return nearest_group_index\n",
        "\n",
        "def group_points(points, bandwidths):\n",
        "    # merge points array to nearest group, if it exists\n",
        "    # insert your code here\n",
        "    groups = []\n",
        "    group_assignment_array = []\n",
        "    group_index = 0\n",
        "    for point in points:\n",
        "      #print(point)\n",
        "      idx_nearest_group = determine_nearest_group(point,groups,bandwidths) \n",
        "      #print(idx_nearest_group)\n",
        "      if idx_nearest_group in group_assignment_array: # if nearest group is found\n",
        "        group_assignment_array.append(idx_nearest_group)\n",
        "      else:\n",
        "        \n",
        "        groups.append([point])\n",
        "        group_assignment_array.append(group_index)\n",
        "        group_index+=1\n",
        "        #print(groups)\n",
        "    return group_assignment_array\n",
        "\n",
        "def find_modes(points,assignments):\n",
        "    # find modes\n",
        "    # insert your code here\n",
        "    # for each group, return np.mean(group_points)\n",
        "    modes = []\n",
        "    classification = {}\n",
        "    for i in assignments:\n",
        "      if i not in classification.keys():\n",
        "        classification[i] = []\n",
        "    for index, point in enumerate(points):\n",
        "      idx = assignment[index]\n",
        "      classification[idx].append(point) \n",
        "    for key in classification.keys():\n",
        "      centroid = np.mean(classification[key],axis=0)\n",
        "      \n",
        "      modes.append(centroid)\n",
        "    return modes\n",
        "    \n",
        "\n",
        "\n",
        "'''\n",
        "# TODO: uncomment when completed above functions\n",
        "data_new = MS_point(data,bandwidths)\n",
        "# plot your graph here\n",
        "\n",
        "assignment = group_points(data_new,bandwidths)\n",
        "modes = find_modes(data_new,assignment)\n",
        "# plot your graph here\n",
        "'''"
      ],
      "execution_count": null,
      "outputs": []
    },
    {
      "cell_type": "markdown",
      "metadata": {
        "id": "OK1FgvEXPX91"
      },
      "source": [
        "### 6. Modify the code"
      ]
    },
    {
      "cell_type": "markdown",
      "metadata": {
        "id": "cOf9fa-_Pagn"
      },
      "source": [
        "### 7. Experiments"
      ]
    },
    {
      "cell_type": "markdown",
      "metadata": {
        "id": "Glt67m_TOa22"
      },
      "source": [
        "## Part 2: mean shift for image segmentation"
      ]
    },
    {
      "cell_type": "code",
      "metadata": {
        "id": "mQwUe9HwOcjV"
      },
      "source": [
        "import numpy as np \n",
        "import matplotlib.pyplot as plt \n",
        "%matplotlib inline \n",
        "from skimage.color import rgb2lab,lab2rgb"
      ],
      "execution_count": null,
      "outputs": []
    },
    {
      "cell_type": "markdown",
      "metadata": {
        "id": "_nZP7afrPtPG"
      },
      "source": [
        "### 1. Color_range of lab"
      ]
    },
    {
      "cell_type": "code",
      "metadata": {
        "id": "jKHqIJfzPyWt"
      },
      "source": [
        ""
      ],
      "execution_count": null,
      "outputs": []
    },
    {
      "cell_type": "markdown",
      "metadata": {
        "id": "h-UmSQy7P3DF"
      },
      "source": [
        "### 2. Vector"
      ]
    },
    {
      "cell_type": "code",
      "metadata": {
        "id": "_yYtqEIJP5D2"
      },
      "source": [
        ""
      ],
      "execution_count": null,
      "outputs": []
    },
    {
      "cell_type": "markdown",
      "metadata": {
        "id": "W0xcdH03P_Es"
      },
      "source": [
        "### 3. Apply the mean shift algorithm to the images"
      ]
    },
    {
      "cell_type": "code",
      "metadata": {
        "id": "G2qqYEtrQD1y"
      },
      "source": [
        ""
      ],
      "execution_count": null,
      "outputs": []
    }
  ]
}