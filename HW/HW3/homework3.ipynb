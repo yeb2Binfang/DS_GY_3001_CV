{
  "nbformat": 4,
  "nbformat_minor": 0,
  "metadata": {
    "kernelspec": {
      "display_name": "Python 3",
      "language": "python",
      "name": "python3"
    },
    "language_info": {
      "codemirror_mode": {
        "name": "ipython",
        "version": 3
      },
      "file_extension": ".py",
      "mimetype": "text/x-python",
      "name": "python",
      "nbconvert_exporter": "python",
      "pygments_lexer": "ipython3",
      "version": "3.6.7"
    },
    "colab": {
      "name": "homework3.ipynb",
      "provenance": [],
      "include_colab_link": true
    }
  },
  "cells": [
    {
      "cell_type": "markdown",
      "metadata": {
        "id": "view-in-github",
        "colab_type": "text"
      },
      "source": [
        "<a href=\"https://colab.research.google.com/github/yeb2Binfang/DS_GY_3001_CV/blob/main/HW/HW3/homework3.ipynb\" target=\"_parent\"><img src=\"https://colab.research.google.com/assets/colab-badge.svg\" alt=\"Open In Colab\"/></a>"
      ]
    },
    {
      "cell_type": "markdown",
      "metadata": {
        "id": "flYvn26MOJ1E"
      },
      "source": [
        "## Homework 3: Mean Shift"
      ]
    },
    {
      "cell_type": "markdown",
      "metadata": {
        "id": "1708RsEQOJ1L"
      },
      "source": [
        "**Due date:** April 4th 2021\n",
        "\n",
        "The goal of the assignment is to implement the mean shift algorithm and use it for image segmentation. You should return the completed notebook, including answers and illustrations. \n",
        "\n",
        "\n",
        "**Part 1: mean shift on synthetic data**\n",
        "\n",
        "* Generate a synthetic dataset of 100 2D points, containing 60 points sampled from a Gaussian distribution of unit covariance centered in (0,0) and 40 points sampled from a Gaussian with unit covariance centered in (4,4). Visualize your data.\n",
        "* Implement a function that computes $G(x) = g(\\|x\\|^2/h^2)$ where $x \\in \\mathbb R^d$, $h$ is a bandwidth parameter and $g$ is the negative derivative of the Gaussian kernel or of the Epanechnikov kernel (see eq. 5.36 in Szeliski).  Plot $G(x)$ for $d=1$.\n",
        "* Implement a function `MS_step` that takes as input a starting point `x`, a set of data points `data`, and a bandwidth `h` and returns the updated position of the point `x` after one step of the mean-shift algorithm.\n",
        "* Implement the function `MS_point` which iterates `MS_step` until convergence (i.e., when the estimate changes by less than a small constant). Test it on your synthetic data and visualize the results.\n",
        "* Implement the full mean shift algorithm by iterating `MS_point` on all the points, and merging modes for which distance is less than some constant. It should return a list of the modes and a label (corresponding to a mode) for each point. Visualize your results.\n",
        "* Modify the previous code by allowing for a \"bandwidth vector\" $h \\in \\mathbb R^d$ that defines a different scale for each dimension of the input (this is because for segmentation we will use a different bandwidth for space and color). Note that you should also modify the convergence and merging conditions to consider this non-isotropic scaling.\n",
        "* Experiment with your code by changing the data distribution, the kernel, and and bandwidth vector.\n",
        "\n",
        "**Part 2: mean shift for image segmentation**\n",
        "\n",
        "* For image segmentation, we will use the \"Lab\" color space because it approximates the way humans perceive color better than RGB. Load the image `veggies_small.jpg`, and convert it to the Lab colorspace using the command `rgb2lab`. What is the range of the colorvalues in Lab? \n",
        "* Convert the (N,M,3) image into an (NM,5) matrix incuding color and position information for each point (tip: use the `np.meshgrid` function). What do you think might be a good choice for a bandwidth vector $h$?\n",
        "* Use your mean shift code from the previous section to compute a meaningful segmentation of the image. Visualize the results as an image by replacing the color values of the pixels associated with each mode by the color of the mode. You can also try our algorithm on other (small) images."
      ]
    },
    {
      "cell_type": "markdown",
      "metadata": {
        "id": "GM77x3HiOY6t"
      },
      "source": [
        "## Part 1: mean shift on synthetic data"
      ]
    },
    {
      "cell_type": "markdown",
      "metadata": {
        "id": "5QjSlq2_Oq5u"
      },
      "source": [
        "### 1. Generate synthetic data\n",
        "\n",
        "Generate a synthetic dataset of 100 2D points, containing 60 points sampled from a Gaussian distribution of unit covariance centered in (0,0) and 40 points sampled from a Gaussian with unit covariance centered in (4,4). Visualize your data."
      ]
    },
    {
      "cell_type": "code",
      "metadata": {
        "id": "dPFiWSW7Nu6L"
      },
      "source": [
        "import matplotlib.pyplot as plt\n",
        "import numpy as np\n"
      ],
      "execution_count": 4,
      "outputs": []
    },
    {
      "cell_type": "code",
      "metadata": {
        "id": "ymI__emfOaO0"
      },
      "source": [
        "mean1 = [0, 0]\n",
        "mean2 = [4, 4]\n",
        "cov = [[1, 0], [0, 1]]  # diagonal covariance"
      ],
      "execution_count": 17,
      "outputs": []
    },
    {
      "cell_type": "code",
      "metadata": {
        "id": "8bfrSME6Nvn9",
        "outputId": "434a0fe6-35d8-437a-bf92-d83e13f1d2b0",
        "colab": {
          "base_uri": "https://localhost:8080/",
          "height": 265
        }
      },
      "source": [
        "x1, y1 = np.random.multivariate_normal(mean1, cov, 60).T\n",
        "x2, y2 = np.random.multivariate_normal(mean2, cov, 40).T\n",
        "plt.plot(x1, y1, 'x')\n",
        "plt.plot(x2, y2, 'x')\n",
        "plt.axis('equal')\n",
        "plt.show()"
      ],
      "execution_count": 18,
      "outputs": [
        {
          "output_type": "display_data",
          "data": {
            "image/png": "[encoded data removed]",
            "text/plain": [
              "<Figure size 432x288 with 1 Axes>"
            ]
          },
          "metadata": {
            "tags": [],
            "needs_background": "light"
          }
        }
      ]
    },
    {
      "cell_type": "markdown",
      "metadata": {
        "id": "DASvId6Wyee5"
      },
      "source": [
        "we concat data together"
      ]
    },
    {
      "cell_type": "code",
      "metadata": {
        "id": "3YvZrBC4ydxy"
      },
      "source": [
        "data = np.concatenate((np.array([x1,y1]).T,np.array([x2,y2]).T))"
      ],
      "execution_count": null,
      "outputs": []
    },
    {
      "cell_type": "markdown",
      "metadata": {
        "id": "nwFidmi5O8Z3"
      },
      "source": [
        "### 2. Compute G(x)\n",
        "Implement a function that computes $G(x) = g(\\|x\\|^2/h^2)$ where $x \\in \\mathbb R^d$, $h$ is a bandwidth parameter and $g$ is the negative derivative of the Gaussian kernel or of the Epanechnikov kernel (see eq. 5.36 in Szeliski).  Plot $G(x)$ for $d=1$."
      ]
    },
    {
      "cell_type": "code",
      "metadata": {
        "id": "Xw2slBOMPMbo"
      },
      "source": [
        "def gaussian_g(r):\n",
        "    # insert your code here\n",
        "    \n",
        "    return result\n",
        "\n",
        "def kernel(z,bandwidths):\n",
        "    # insert your code here\n",
        "    \n",
        "    return result\n",
        "\n",
        "'''\n",
        "# TODO uncomment when completed gaussian_g and kernel\n",
        "x = np.linspace(-5,5,100)\n",
        "h = 1\n",
        "g = gaussian_g\n",
        "y = [kernel(xi,np.array([h])) for xi in x]\n",
        "# plot your graph here\n",
        "'''"
      ],
      "execution_count": null,
      "outputs": []
    },
    {
      "cell_type": "markdown",
      "metadata": {
        "id": "gycz0jDvPAK2"
      },
      "source": [
        "### 3. Implement MS_step"
      ]
    },
    {
      "cell_type": "markdown",
      "metadata": {
        "id": "h_pILLROPH3y"
      },
      "source": [
        "### 4. Implement MS_point"
      ]
    },
    {
      "cell_type": "markdown",
      "metadata": {
        "id": "ZnzSQD0sPRC0"
      },
      "source": [
        "### 5. Mean shift algorithm "
      ]
    },
    {
      "cell_type": "markdown",
      "metadata": {
        "id": "OK1FgvEXPX91"
      },
      "source": [
        "### 6. Modify the code"
      ]
    },
    {
      "cell_type": "markdown",
      "metadata": {
        "id": "cOf9fa-_Pagn"
      },
      "source": [
        "### 7. Experiments"
      ]
    },
    {
      "cell_type": "markdown",
      "metadata": {
        "id": "Glt67m_TOa22"
      },
      "source": [
        "## Part 2: mean shift for image segmentation"
      ]
    },
    {
      "cell_type": "code",
      "metadata": {
        "id": "mQwUe9HwOcjV"
      },
      "source": [
        "import numpy as np \n",
        "import matplotlib.pyplot as plt \n",
        "%matplotlib inline \n",
        "from skimage.color import rgb2lab,lab2rgb"
      ],
      "execution_count": null,
      "outputs": []
    },
    {
      "cell_type": "markdown",
      "metadata": {
        "id": "_nZP7afrPtPG"
      },
      "source": [
        "### 1. Color_range of lab"
      ]
    },
    {
      "cell_type": "code",
      "metadata": {
        "id": "jKHqIJfzPyWt"
      },
      "source": [
        ""
      ],
      "execution_count": null,
      "outputs": []
    },
    {
      "cell_type": "markdown",
      "metadata": {
        "id": "h-UmSQy7P3DF"
      },
      "source": [
        "### 2. Vector"
      ]
    },
    {
      "cell_type": "code",
      "metadata": {
        "id": "_yYtqEIJP5D2"
      },
      "source": [
        ""
      ],
      "execution_count": null,
      "outputs": []
    },
    {
      "cell_type": "markdown",
      "metadata": {
        "id": "W0xcdH03P_Es"
      },
      "source": [
        "### 3. Apply the mean shift algorithm to the images"
      ]
    },
    {
      "cell_type": "code",
      "metadata": {
        "id": "G2qqYEtrQD1y"
      },
      "source": [
        ""
      ],
      "execution_count": null,
      "outputs": []
    }
  ]
}