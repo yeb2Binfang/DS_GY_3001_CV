{
  "nbformat": 4,
  "nbformat_minor": 0,
  "metadata": {
    "kernelspec": {
      "display_name": "Python 3",
      "language": "python",
      "name": "python3"
    },
    "language_info": {
      "codemirror_mode": {
        "name": "ipython",
        "version": 3
      },
      "file_extension": ".py",
      "mimetype": "text/x-python",
      "name": "python",
      "nbconvert_exporter": "python",
      "pygments_lexer": "ipython3",
      "version": "3.6.7"
    },
    "colab": {
      "name": "homework3.ipynb",
      "provenance": [],
      "include_colab_link": true
    },
    "accelerator": "GPU"
  },
  "cells": [
    {
      "cell_type": "markdown",
      "metadata": {
        "id": "view-in-github",
        "colab_type": "text"
      },
      "source": [
        "<a href=\"https://colab.research.google.com/github/yeb2Binfang/DS_GY_3001_CV/blob/main/HW/HW3/homework3.ipynb\" target=\"_parent\"><img src=\"https://colab.research.google.com/assets/colab-badge.svg\" alt=\"Open In Colab\"/></a>"
      ]
    },
    {
      "cell_type": "markdown",
      "metadata": {
        "id": "flYvn26MOJ1E"
      },
      "source": [
        "## Homework 3: Mean Shift"
      ]
    },
    {
      "cell_type": "markdown",
      "metadata": {
        "id": "1708RsEQOJ1L"
      },
      "source": [
        "**Due date:** April 4th 2021\n",
        "\n",
        "The goal of the assignment is to implement the mean shift algorithm and use it for image segmentation. You should return the completed notebook, including answers and illustrations. \n",
        "\n",
        "\n",
        "**Part 1: mean shift on synthetic data**\n",
        "\n",
        "* Generate a synthetic dataset of 100 2D points, containing 60 points sampled from a Gaussian distribution of unit covariance centered in (0,0) and 40 points sampled from a Gaussian with unit covariance centered in (4,4). Visualize your data.\n",
        "* Implement a function that computes $G(x) = g(\\|x\\|^2/h^2)$ where $x \\in \\mathbb R^d$, $h$ is a bandwidth parameter and $g$ is the negative derivative of the Gaussian kernel or of the Epanechnikov kernel (see eq. 5.36 in Szeliski).  Plot $G(x)$ for $d=1$.\n",
        "* Implement a function `MS_step` that takes as input a starting point `x`, a set of data points `data`, and a bandwidth `h` and returns the updated position of the point `x` after one step of the mean-shift algorithm.\n",
        "* Implement the function `MS_point` which iterates `MS_step` until convergence (i.e., when the estimate changes by less than a small constant). Test it on your synthetic data and visualize the results.\n",
        "* Implement the full mean shift algorithm by iterating `MS_point` on all the points, and merging modes for which distance is less than some constant. It should return a list of the modes and a label (corresponding to a mode) for each point. Visualize your results.\n",
        "* Modify the previous code by allowing for a \"bandwidth vector\" $h \\in \\mathbb R^d$ that defines a different scale for each dimension of the input (this is because for segmentation we will use a different bandwidth for space and color). Note that you should also modify the convergence and merging conditions to consider this non-isotropic scaling.\n",
        "* Experiment with your code by changing the data distribution, the kernel, and and bandwidth vector.\n",
        "\n",
        "**Part 2: mean shift for image segmentation**\n",
        "\n",
        "* For image segmentation, we will use the \"Lab\" color space because it approximates the way humans perceive color better than RGB. Load the image `veggies_small.jpg`, and convert it to the Lab colorspace using the command `rgb2lab`. What is the range of the colorvalues in Lab? \n",
        "* Convert the (N,M,3) image into an (NM,5) matrix incuding color and position information for each point (tip: use the `np.meshgrid` function). What do you think might be a good choice for a bandwidth vector $h$?\n",
        "* Use your mean shift code from the previous section to compute a meaningful segmentation of the image. Visualize the results as an image by replacing the color values of the pixels associated with each mode by the color of the mode. You can also try our algorithm on other (small) images."
      ]
    },
    {
      "cell_type": "markdown",
      "metadata": {
        "id": "GM77x3HiOY6t"
      },
      "source": [
        "## Part 1: mean shift on synthetic data"
      ]
    },
    {
      "cell_type": "markdown",
      "metadata": {
        "id": "5QjSlq2_Oq5u"
      },
      "source": [
        "### 1. Generate synthetic data\n",
        "\n",
        "Generate a synthetic dataset of 100 2D points, containing 60 points sampled from a Gaussian distribution of unit covariance centered in (0,0) and 40 points sampled from a Gaussian with unit covariance centered in (4,4). Visualize your data."
      ]
    },
    {
      "cell_type": "code",
      "metadata": {
        "id": "dPFiWSW7Nu6L"
      },
      "source": [
        "import matplotlib.pyplot as plt\n",
        "import numpy as np"
      ],
      "execution_count": 1,
      "outputs": []
    },
    {
      "cell_type": "code",
      "metadata": {
        "id": "ymI__emfOaO0"
      },
      "source": [
        "mean1 = [0, 0]\n",
        "mean2 = [4, 4]\n",
        "cov = [[1, 0], [0, 1]]  # diagonal covariance"
      ],
      "execution_count": 2,
      "outputs": []
    },
    {
      "cell_type": "code",
      "metadata": {
        "id": "8bfrSME6Nvn9",
        "colab": {
          "base_uri": "https://localhost:8080/",
          "height": 265
        },
        "outputId": "e07ee349-1238-4cdc-b2c4-4d44bac475e6"
      },
      "source": [
        "x1, y1 = np.random.multivariate_normal(mean1, cov, 60).T\n",
        "x2, y2 = np.random.multivariate_normal(mean2, cov, 40).T\n",
        "plt.plot(x1, y1, 'x')\n",
        "plt.plot(x2, y2, 'x')\n",
        "plt.axis('equal')\n",
        "plt.show()"
      ],
      "execution_count": 3,
      "outputs": [
        {
          "output_type": "display_data",
          "data": {
            "image/png": "[encoded data removed]",
            "text/plain": [
              "<Figure size 432x288 with 1 Axes>"
            ]
          },
          "metadata": {
            "tags": [],
            "needs_background": "light"
          }
        }
      ]
    },
    {
      "cell_type": "markdown",
      "metadata": {
        "id": "DASvId6Wyee5"
      },
      "source": [
        "we concat data together"
      ]
    },
    {
      "cell_type": "code",
      "metadata": {
        "id": "3YvZrBC4ydxy"
      },
      "source": [
        "data = np.concatenate((np.array([x1,y1]).T,np.array([x2,y2]).T))"
      ],
      "execution_count": 4,
      "outputs": []
    },
    {
      "cell_type": "markdown",
      "metadata": {
        "id": "nwFidmi5O8Z3"
      },
      "source": [
        "### 2. Compute G(x)\n",
        "Implement a function that computes $G(x) = g(\\|x\\|^2/h^2)$ where $x \\in \\mathbb R^d$, $h$ is a bandwidth parameter and $g$ is the negative derivative of the Gaussian kernel or of the Epanechnikov kernel (see eq. 5.36 in Szeliski).  Plot $G(x)$ for $d=1$."
      ]
    },
    {
      "cell_type": "code",
      "metadata": {
        "id": "Xw2slBOMPMbo"
      },
      "source": [
        "def gaussian_g(r):\n",
        "    # insert your code here \n",
        "    result = np.exp(-0.5*r)\n",
        "    \n",
        "    return result\n",
        "\n",
        "def kernel(z,bandwidths):\n",
        "    # insert your code here\n",
        "    r = (z**2/bandwidths**2)\n",
        "    #print(r)\n",
        "    return g(r)"
      ],
      "execution_count": 5,
      "outputs": []
    },
    {
      "cell_type": "code",
      "metadata": {
        "colab": {
          "base_uri": "https://localhost:8080/",
          "height": 267
        },
        "id": "vcK-XqyUXqLP",
        "outputId": "b7102691-1fde-4455-9cd1-5b9e83de36d9"
      },
      "source": [
        "x = np.linspace(-5,5,100)\n",
        "h = 1\n",
        "g = gaussian_g\n",
        "#g = flat_g\n",
        "y = [kernel(xi,np.array([h])) for xi in x]\n",
        "plt.plot(x,y)\n",
        "plt.axis('equal')\n",
        "plt.show()"
      ],
      "execution_count": 6,
      "outputs": [
        {
          "output_type": "display_data",
          "data": {
            "image/png": "[encoded data removed]",
            "text/plain": [
              "<Figure size 432x288 with 1 Axes>"
            ]
          },
          "metadata": {
            "tags": [],
            "needs_background": "light"
          }
        }
      ]
    },
    {
      "cell_type": "markdown",
      "metadata": {
        "id": "gycz0jDvPAK2"
      },
      "source": [
        "### 3. Implement MS_step\n",
        "Implement a function `MS_step` that takes as input a starting point `x`, a set of data points `data`, and a bandwidth `h` and returns the updated position of the point `x` after one step of the mean-shift algorithm.\n"
      ]
    },
    {
      "cell_type": "code",
      "metadata": {
        "id": "gRJTLp7EJ8pe"
      },
      "source": [
        "def MS_step(x, data, bandwidths):\n",
        "    # TODO: Implement a function `MS_step` that takes as input a starting point `x`,\n",
        "    # a set of data points `data`, and a bandwidth `h` and returns the updated \n",
        "    # position of the point `x` after one step of the mean-shift algorithm.\n",
        "\n",
        "    # insert your code here\n",
        "    weights = np.zeros(data.shape[0])\n",
        "    for i in range(data.shape[0]):\n",
        "      #print(data[i]) \n",
        "      dist = np.linalg.norm(data[i]-x) \n",
        "      \n",
        "      weights[i] = np.sum(kernel(dist,bandwidths),axis=0)\n",
        "    shifted_point = (data.T).dot(weights)/ sum(weights)\n",
        "    return shifted_point"
      ],
      "execution_count": 7,
      "outputs": []
    },
    {
      "cell_type": "markdown",
      "metadata": {
        "id": "h_pILLROPH3y"
      },
      "source": [
        "### 4. Implement MS_point\n",
        "Implement the function `MS_point` which iterates `MS_step` until convergence (i.e., when the estimate changes by less than a small constant). Test it on your synthetic data and visualize the results."
      ]
    },
    {
      "cell_type": "code",
      "metadata": {
        "id": "TrAtC71hNNcm"
      },
      "source": [
        "bandwidths = np.array([2,2])\n",
        "g = gaussian_g\n",
        "#g = flat_g\n",
        "MIN_DISTANCE = 0.00001"
      ],
      "execution_count": 8,
      "outputs": []
    },
    {
      "cell_type": "code",
      "metadata": {
        "id": "s6FNQqd6KALM"
      },
      "source": [
        "def MS_point(data,bandwidths):\n",
        "    # Implement the function `MS_point` which iterates `MS_step` until convergence\n",
        "    #  (i.e., when the estimate changes by less than a small constant). Test it on \n",
        "    # your synthetic data and visualize the results.\n",
        "    data_temp = np.copy(data)\n",
        "    for x in data_temp:\n",
        "      while True:\n",
        "        x1 = MS_step(x,data,bandwidths)\n",
        "        delta = x-x1\n",
        "        dist = np.sum((delta*delta)/(bandwidths*bandwidths), axis=0)\n",
        "        \n",
        "        if dist < MIN_DISTANCE:\n",
        "          break\n",
        "        x[:] = x1\n",
        "    data_dynamic = data_temp\n",
        "    return data_dynamic"
      ],
      "execution_count": 9,
      "outputs": []
    },
    {
      "cell_type": "code",
      "metadata": {
        "id": "oV_kw2EsND1S"
      },
      "source": [
        "data_new = MS_point(data, bandwidths)"
      ],
      "execution_count": 10,
      "outputs": []
    },
    {
      "cell_type": "markdown",
      "metadata": {
        "id": "KL9U0p5nNvw3"
      },
      "source": [
        "After shifted. The 'x' denotes the original points. The 'o' denotes all points that after shifted"
      ]
    },
    {
      "cell_type": "code",
      "metadata": {
        "colab": {
          "base_uri": "https://localhost:8080/",
          "height": 282
        },
        "id": "Y5BMYwV7NSaV",
        "outputId": "586d45be-7bb8-4579-e7a7-d670999ed10e"
      },
      "source": [
        "plt.plot(x1, y1, 'x')\n",
        "plt.plot(x2, y2, 'x')\n",
        "plt.scatter(data_new[:,0],data_new[:,1],color='r',marker='o')"
      ],
      "execution_count": 11,
      "outputs": [
        {
          "output_type": "execute_result",
          "data": {
            "text/plain": [
              "<matplotlib.collections.PathCollection at 0x7f70cb9fef90>"
            ]
          },
          "metadata": {
            "tags": []
          },
          "execution_count": 11
        },
        {
          "output_type": "display_data",
          "data": {
            "image/png": "[encoded data removed]",
            "text/plain": [
              "<Figure size 432x288 with 1 Axes>"
            ]
          },
          "metadata": {
            "tags": [],
            "needs_background": "light"
          }
        }
      ]
    },
    {
      "cell_type": "markdown",
      "metadata": {
        "id": "ZnzSQD0sPRC0"
      },
      "source": [
        "### 5. Mean shift algorithm \n",
        "Implement the full mean shift algorithm by iterating `MS_point` on all the points, and merging modes for which distance is less than some constant. It should return a list of the modes and a label (corresponding to a mode) for each point. Visualize your results.\n",
        "\n",
        "Modify the previous code by allowing for a \"bandwidth vector\" $h \\in \\mathbb R^d$ that defines a different scale for each dimension of the input (this is because for segmentation we will use a different bandwidth for space and color). Note that you should also modify the convergence and merging conditions to consider this non-isotropic scaling."
      ]
    },
    {
      "cell_type": "code",
      "metadata": {
        "id": "r3X_JjZiKH72"
      },
      "source": [
        "GROUP_DISTANCE_TOLERANCE = .005\n",
        "\n",
        "def find_distance_to_group(point, group, bandwidths):\n",
        "    # find shortest distance from point to a set of points in group \n",
        "    # insert your code here\n",
        "    min_distance = np.inf\n",
        "    for group_pt in group:\n",
        "      diff = point - group_pt\n",
        "      dist = np.sum(diff*diff/(bandwidths*bandwidths))\n",
        "      if dist<min_distance:\n",
        "        min_distance = dist\n",
        "    return min_distance\n",
        "\n",
        "def determine_nearest_group(point,groups,bandwidths):\n",
        "    # find points group closes to point\n",
        "    # insert your code here\n",
        "    nearest_group_index = None\n",
        "    for index, group in enumerate(groups):\n",
        "      min_distance = find_distance_to_group(point,group,bandwidths)\n",
        "      \n",
        "      if min_distance<GROUP_DISTANCE_TOLERANCE:\n",
        "        min_temp = min_distance\n",
        "        nearest_group_index = index\n",
        "      \n",
        "    return nearest_group_index\n",
        "\n",
        "def group_points(points, bandwidths):\n",
        "    # merge points array to nearest group, if it exists\n",
        "    # insert your code here\n",
        "    groups = []\n",
        "    group_assignment_array = []\n",
        "    group_index = 0\n",
        "    for point in points:\n",
        "      \n",
        "      idx_nearest_group = determine_nearest_group(point,groups,bandwidths) \n",
        "      \n",
        "      if idx_nearest_group in group_assignment_array: # if nearest group is found\n",
        "        group_assignment_array.append(idx_nearest_group)\n",
        "      else:\n",
        "        \n",
        "        groups.append([point])\n",
        "        group_assignment_array.append(group_index)\n",
        "        group_index+=1\n",
        "        \n",
        "    return group_assignment_array\n",
        "\n",
        "def find_modes(points,assignments):\n",
        "    # find modes\n",
        "    # insert your code here\n",
        "    # for each group, return np.mean(group_points)\n",
        "    modes = []\n",
        "    classifications = {}\n",
        "    for i in assignments:\n",
        "      if i not in classifications.keys():\n",
        "        classifications[i] = []\n",
        "    for index, point in enumerate(points):\n",
        "      idx = assignment[index]\n",
        "      classifications[idx].append(point) \n",
        "    for key in classifications.keys():\n",
        "      centroid = np.mean(classifications[key],axis=0)     \n",
        "      modes.append(centroid)\n",
        "      \n",
        "    return modes, classifications"
      ],
      "execution_count": 12,
      "outputs": []
    },
    {
      "cell_type": "markdown",
      "metadata": {
        "id": "vN8rNu_IORMI"
      },
      "source": [
        "visualize the result"
      ]
    },
    {
      "cell_type": "code",
      "metadata": {
        "id": "-r1fFDc1OQsg"
      },
      "source": [
        "assignment = group_points(data_new,bandwidths)\n",
        "modes, classifications = find_modes(data_new,assignment)"
      ],
      "execution_count": 13,
      "outputs": []
    },
    {
      "cell_type": "markdown",
      "metadata": {
        "id": "7d6brAdXQNGQ"
      },
      "source": [
        "Get the class index"
      ]
    },
    {
      "cell_type": "code",
      "metadata": {
        "id": "Cq3G77HpP7J7"
      },
      "source": [
        "class_index = []\n",
        "for i in assignment:\n",
        "  if i not in class_index:\n",
        "    class_index.append(i)\n",
        "\n",
        "point_dict = {}\n",
        "for i in class_index:\n",
        "  if i not in point_dict.keys():\n",
        "    point_dict[i] = []\n",
        "\n",
        "for index, assign in enumerate(assignment):\n",
        "  point_dict[assign].append(data[index])"
      ],
      "execution_count": 14,
      "outputs": []
    },
    {
      "cell_type": "code",
      "metadata": {
        "id": "6yrr2rLwOzTY"
      },
      "source": [
        "colors = 10*['r','g','b','c','k','y','m']"
      ],
      "execution_count": 15,
      "outputs": []
    },
    {
      "cell_type": "code",
      "metadata": {
        "colab": {
          "base_uri": "https://localhost:8080/",
          "height": 265
        },
        "id": "3Vreb0I6UJ0B",
        "outputId": "e3aed03d-71b6-4c10-ba7c-9dd11cf2d1ba"
      },
      "source": [
        "plt.scatter(modes[0][0],modes[0][1],marker='o',color='black',s=150)\n",
        "plt.scatter(modes[1][0],modes[1][1],marker='o',color='blue',s=150)\n",
        "for classification in class_index:\n",
        "  color = colors[classification]\n",
        "  for point in point_dict[classification]:\n",
        "    plt.scatter(point[0], point[1], marker='x', color=color)"
      ],
      "execution_count": 16,
      "outputs": [
        {
          "output_type": "display_data",
          "data": {
            "image/png": "[encoded data removed]",
            "text/plain": [
              "<Figure size 432x288 with 1 Axes>"
            ]
          },
          "metadata": {
            "tags": [],
            "needs_background": "light"
          }
        }
      ]
    },
    {
      "cell_type": "markdown",
      "metadata": {
        "id": "cOf9fa-_Pagn"
      },
      "source": [
        "### 7. Experiments"
      ]
    },
    {
      "cell_type": "markdown",
      "metadata": {
        "id": "Glt67m_TOa22"
      },
      "source": [
        "## Part 2: mean shift for image segmentation"
      ]
    },
    {
      "cell_type": "code",
      "metadata": {
        "id": "mQwUe9HwOcjV"
      },
      "source": [
        "import numpy as np \n",
        "import matplotlib.pyplot as plt \n",
        "%matplotlib inline \n",
        "from skimage.color import rgb2lab,lab2rgb"
      ],
      "execution_count": 17,
      "outputs": []
    },
    {
      "cell_type": "markdown",
      "metadata": {
        "id": "_nZP7afrPtPG"
      },
      "source": [
        "### 1. Color_range of lab\n",
        "For image segmentation, we will use the \"Lab\" color space because it approximates the way humans perceive color better than RGB. Load the image veggies_small.jpg, and convert it to the Lab colorspace using the command rgb2lab. What is the range of the colorvalues in Lab?\n",
        "\n",
        "L represents darkness to lightness, with values ranging from 0 to 100; a represents greenness to redness with values of -128 to +127; and b represents blueness to yellowness also with values from -128 to +127."
      ]
    },
    {
      "cell_type": "code",
      "metadata": {
        "id": "jKHqIJfzPyWt",
        "colab": {
          "base_uri": "https://localhost:8080/"
        },
        "outputId": "fa0cc0e6-dcc2-43a9-ee2b-2c71e66ff6e1"
      },
      "source": [
        "!wget https://raw.githubusercontent.com/yeb2Binfang/DS_GY_3001_CV/main/HW/HW3/veggies_small.jpg -O veggies_small.jpg"
      ],
      "execution_count": 18,
      "outputs": [
        {
          "output_type": "stream",
          "text": [
            "--2021-04-04 22:50:50--  https://raw.githubusercontent.com/yeb2Binfang/DS_GY_3001_CV/main/HW/HW3/veggies_small.jpg\n",
            "Resolving raw.githubusercontent.com (raw.githubusercontent.com)... 185.199.108.133, 185.199.109.133, 185.199.110.133, ...\n",
            "Connecting to raw.githubusercontent.com (raw.githubusercontent.com)|185.199.108.133|:443... connected.\n",
            "HTTP request sent, awaiting response... 200 OK\n",
            "Length: 3436 (3.4K) [image/jpeg]\n",
            "Saving to: ‘veggies_small.jpg’\n",
            "\n",
            "\rveggies_small.jpg     0%[                    ]       0  --.-KB/s               \rveggies_small.jpg   100%[===================>]   3.36K  --.-KB/s    in 0s      \n",
            "\n",
            "2021-04-04 22:50:50 (62.2 MB/s) - ‘veggies_small.jpg’ saved [3436/3436]\n",
            "\n"
          ],
          "name": "stdout"
        }
      ]
    },
    {
      "cell_type": "code",
      "metadata": {
        "colab": {
          "base_uri": "https://localhost:8080/",
          "height": 483
        },
        "id": "5poSoBidXV_5",
        "outputId": "7ba19bd8-98f7-451c-9bc6-46806df82a95"
      },
      "source": [
        "img = plt.imread('veggies_small.jpg')\n",
        "lab = rgb2lab(img)\n",
        "# TODO convert image from rgb to lab color space rgb2lab(img) (HINT: check skimage.color)\n",
        "plt.figure(figsize=(8,8)) # this allows you to control the size of the displayed image\n",
        "plt.imshow(img)\n",
        "\n",
        "xdim = lab.shape[1]\n",
        "ydim = lab.shape[0]\n",
        "# lab.shape\n",
        "xv, yv = np.meshgrid(list(range(xdim)), list(range(ydim)))"
      ],
      "execution_count": 19,
      "outputs": [
        {
          "output_type": "display_data",
          "data": {
            "image/png": "[encoded data removed]",
            "text/plain": [
              "<Figure size 576x576 with 1 Axes>"
            ]
          },
          "metadata": {
            "tags": [],
            "needs_background": "light"
          }
        }
      ]
    },
    {
      "cell_type": "markdown",
      "metadata": {
        "id": "h-UmSQy7P3DF"
      },
      "source": [
        "### 2. Vector"
      ]
    },
    {
      "cell_type": "code",
      "metadata": {
        "id": "_yYtqEIJP5D2"
      },
      "source": [
        "# Convert the (N,M,3) image into an (NM,5) matrix incuding color and position \n",
        "# information for each point (tip: use the np.meshgrid function). What would do \n",
        "# you think is a good choice for a bandwidth vector $h$?\n",
        "data = np.zeros((xdim*ydim,5))\n",
        "list_temp = []\n",
        "for i in range(ydim):\n",
        "    for j in range(xdim):\n",
        "        # TODO insert your code here\n",
        "        temp = []\n",
        "        temp.append(lab[i][j][0])\n",
        "        temp.append(lab[i][j][1])\n",
        "        temp.append(lab[i][j][2])\n",
        "        temp.append(j)\n",
        "        temp.append(i)\n",
        "        list_temp.append(temp)\n",
        "\n",
        "for i in range(xdim*ydim):\n",
        "  data[i][0] = list_temp[i][0]\n",
        "  data[i][1] = list_temp[i][1]\n",
        "  data[i][2] = list_temp[i][2]\n",
        "  data[i][3] = list_temp[i][3]\n",
        "  data[i][4] = list_temp[i][4]"
      ],
      "execution_count": 20,
      "outputs": []
    },
    {
      "cell_type": "code",
      "metadata": {
        "id": "fg1op9T4jb3Q"
      },
      "source": [
        "def flat_g(r):  \n",
        "    # epanechnikov\n",
        "    print(r)\n",
        "    if r>1:\n",
        "        return 0\n",
        "    else:\n",
        "        return 1"
      ],
      "execution_count": 21,
      "outputs": []
    },
    {
      "cell_type": "markdown",
      "metadata": {
        "id": "W0xcdH03P_Es"
      },
      "source": [
        "### 3. Apply the mean shift algorithm to the images"
      ]
    },
    {
      "cell_type": "code",
      "metadata": {
        "id": "G2qqYEtrQD1y"
      },
      "source": [
        "\n",
        "# TODO: uncomment when completed \n",
        "# def flat_g(r):  \n",
        "#     # epanechnikov\n",
        "#     if r>1:\n",
        "#         return 0\n",
        "#     else:\n",
        "#         return 1\n",
        "\n",
        "\n",
        "MIN_DISTANCE = .01\n",
        "GROUP_DISTANCE_TOLERANCE = 1\n",
        "bandwidths = np.array([10,10,10,5,5]) # flat\n",
        "g = gaussian_g\n",
        "\n",
        "# Use the MS function from the previous section to compute a meaningful \n",
        "# segmentation of the image. Visualize the results as an image by replacing the \n",
        "# color values of the pixels associated to each mode by the color of the mode. \n",
        "# You can also try our algorithm on different (small) images.\n",
        "\n",
        "data_new = MS_point(data,bandwidths)\n",
        "assignment = group_points(data_new,bandwidths)\n",
        "modes,classification_image = find_modes(data_new,assignment)\n",
        "\n"
      ],
      "execution_count": 22,
      "outputs": []
    },
    {
      "cell_type": "code",
      "metadata": {
        "id": "nQ-PWLj_MJwV"
      },
      "source": [
        "modes1 = np.copy(modes)"
      ],
      "execution_count": 25,
      "outputs": []
    },
    {
      "cell_type": "code",
      "metadata": {
        "id": "jx3N1UjKMfla"
      },
      "source": [
        "assignment1 = np.array(assignment)"
      ],
      "execution_count": 30,
      "outputs": []
    },
    {
      "cell_type": "code",
      "metadata": {
        "colab": {
          "base_uri": "https://localhost:8080/",
          "height": 425
        },
        "id": "3pIzGaWM8hy8",
        "outputId": "04f903b0-7646-4388-fcdc-9c361682783a"
      },
      "source": [
        "modes2 = modes1[:,:3]\n",
        "\n",
        "assignment_r = assignment1.reshape([ydim,xdim]).T\n",
        "lab_new = modes2[assignment_r]\n",
        "\n",
        "img_new = lab2rgb(lab_new)\n",
        "plt.figure(figsize=(8,8)) # this allows you to control the size of the displayed image\n",
        "plt.imshow(img_new)"
      ],
      "execution_count": 39,
      "outputs": [
        {
          "output_type": "execute_result",
          "data": {
            "text/plain": [
              "<matplotlib.image.AxesImage at 0x7f70b56d1450>"
            ]
          },
          "metadata": {
            "tags": []
          },
          "execution_count": 39
        },
        {
          "output_type": "display_data",
          "data": {
            "image/png": "[encoded data removed]",
            "text/plain": [
              "<Figure size 576x576 with 1 Axes>"
            ]
          },
          "metadata": {
            "tags": [],
            "needs_background": "light"
          }
        }
      ]
    }
  ]
}